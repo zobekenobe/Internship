{
 "cells": [
  {
   "cell_type": "code",
   "execution_count": 2,
   "id": "236b53de",
   "metadata": {},
   "outputs": [],
   "source": [
    "import pandas as pd\n",
    "import numpy as np\n",
    "import selenium\n",
    "from selenium import webdriver\n",
    "from selenium.webdriver.common.by import By\n",
    "from selenium.webdriver.chrome.service import Service"
   ]
  },
  {
   "cell_type": "markdown",
   "id": "88e742e5",
   "metadata": {},
   "source": [
    "# Question 1"
   ]
  },
  {
   "cell_type": "code",
   "execution_count": 16,
   "id": "06aca7ee",
   "metadata": {},
   "outputs": [],
   "source": [
    "s   = Service(r'C:\\Users\\zobekenobe\\Desktop\\chromedriver.exe')\n",
    "driver = webdriver.Chrome(service = s)"
   ]
  },
  {
   "cell_type": "code",
   "execution_count": 17,
   "id": "899d401a",
   "metadata": {},
   "outputs": [],
   "source": [
    "url = 'https://www.naukri.com/'\n",
    "driver.get(url)\n",
    "driver.delete_all_cookies()"
   ]
  },
  {
   "cell_type": "code",
   "execution_count": 18,
   "id": "ba2ee09b",
   "metadata": {},
   "outputs": [],
   "source": [
    "search_jobs = driver.find_element(By.CLASS_NAME, 'suggestor-input')\n",
    "search_jobs.clear()\n",
    "search_jobs.send_keys('Data Analyst')"
   ]
  },
  {
   "cell_type": "code",
   "execution_count": 19,
   "id": "450d46b1",
   "metadata": {},
   "outputs": [],
   "source": [
    "search_location = driver.find_element(By.XPATH, '/html/body/div/div[2]/div[4]/div/div/div[3]/div/div/div/input')\n",
    "search_location.clear()\n",
    "search_location.send_keys('Bangalore')"
   ]
  },
  {
   "cell_type": "code",
   "execution_count": 20,
   "id": "aebcd033",
   "metadata": {},
   "outputs": [],
   "source": [
    "search_button = driver.find_element(By.CLASS_NAME,'qsbSubmit')"
   ]
  },
  {
   "cell_type": "code",
   "execution_count": 21,
   "id": "3a15d4b6",
   "metadata": {},
   "outputs": [],
   "source": [
    "search_button.click()"
   ]
  },
  {
   "cell_type": "code",
   "execution_count": 28,
   "id": "5bb71f78",
   "metadata": {},
   "outputs": [],
   "source": [
    "job_title = driver.find_elements(By.XPATH, '//a[@class=\"title fw500 ellipsis\"]')"
   ]
  },
  {
   "cell_type": "code",
   "execution_count": 29,
   "id": "639f9e64",
   "metadata": {},
   "outputs": [],
   "source": [
    "experience = driver.find_elements(By.XPATH, '//span[contains(@title,\"Yrs\")]')"
   ]
  },
  {
   "cell_type": "code",
   "execution_count": 30,
   "id": "b7952d6e",
   "metadata": {},
   "outputs": [],
   "source": [
    "company = driver.find_elements(By.XPATH, '//a[@class=\"subTitle ellipsis fleft\"]')"
   ]
  },
  {
   "cell_type": "code",
   "execution_count": 31,
   "id": "8fde35b2",
   "metadata": {},
   "outputs": [],
   "source": [
    "location = driver.find_elements(By.XPATH, '//li[@class=\"fleft grey-text br2 placeHolderLi location\"]')"
   ]
  },
  {
   "cell_type": "code",
   "execution_count": 36,
   "id": "1c43221e",
   "metadata": {},
   "outputs": [],
   "source": [
    "jobs_df = [_.text for _ in job_title][:10]\n",
    "location_df = [_.text for _ in location][:10]\n",
    "company_df = [_.text for _ in company][:10]\n",
    "experience_df = [_.text for _ in experience][:10]"
   ]
  },
  {
   "cell_type": "code",
   "execution_count": 43,
   "id": "cbc7cc97",
   "metadata": {},
   "outputs": [],
   "source": [
    "df = pd.DataFrame(data = {\n",
    "    'Job Title' : jobs_df,\n",
    "    'Company Location' : location_df,\n",
    "    'Company Name' : company_df,\n",
    "    'Experience Required' : experience_df\n",
    "}, index = np.arange(1,11))\n",
    "\n"
   ]
  },
  {
   "cell_type": "markdown",
   "id": "33214982",
   "metadata": {},
   "source": [
    "# Question 2"
   ]
  },
  {
   "cell_type": "code",
   "execution_count": 61,
   "id": "32b99ecc",
   "metadata": {},
   "outputs": [],
   "source": [
    "s = Service(r'C:\\Users\\zobekenobe\\Desktop\\chromedriver.exe')\n",
    "driver = webdriver.Chrome(service = s)"
   ]
  },
  {
   "cell_type": "code",
   "execution_count": 62,
   "id": "ef2ca5d2",
   "metadata": {},
   "outputs": [],
   "source": [
    "url = 'https://www.naukri.com/'\n",
    "driver.get(url)\n",
    "driver.delete_all_cookies()"
   ]
  },
  {
   "cell_type": "code",
   "execution_count": 63,
   "id": "2e7e63b0",
   "metadata": {},
   "outputs": [],
   "source": [
    "search_jobTitle = driver.find_element(By.CLASS_NAME, 'suggestor-input')\n",
    "search_jobTitle.clear()\n",
    "search_jobTitle.send_keys('Data Scientist')"
   ]
  },
  {
   "cell_type": "code",
   "execution_count": 64,
   "id": "57f6f4ec",
   "metadata": {},
   "outputs": [],
   "source": [
    "search_location = driver.find_element(By.XPATH, '/html/body/div/div[2]/div[4]/div/div/div[3]/div/div/div/input')\n",
    "search_location.clear()\n",
    "search_location.send_keys('Bangalore')"
   ]
  },
  {
   "cell_type": "code",
   "execution_count": 65,
   "id": "751cb264",
   "metadata": {},
   "outputs": [],
   "source": [
    "search_button = driver.find_element(By.CLASS_NAME,'qsbSubmit')"
   ]
  },
  {
   "cell_type": "code",
   "execution_count": 66,
   "id": "a51040db",
   "metadata": {},
   "outputs": [],
   "source": [
    "search_button.click()"
   ]
  },
  {
   "cell_type": "code",
   "execution_count": 67,
   "id": "da82cfa1",
   "metadata": {},
   "outputs": [],
   "source": [
    "job_title = driver.find_elements(By.XPATH, '//a[@class=\"title fw500 ellipsis\"]')"
   ]
  },
  {
   "cell_type": "code",
   "execution_count": 68,
   "id": "4e925242",
   "metadata": {},
   "outputs": [],
   "source": [
    "location = driver.find_elements(By.XPATH, '//li[@class=\"fleft grey-text br2 placeHolderLi location\"]')"
   ]
  },
  {
   "cell_type": "code",
   "execution_count": 69,
   "id": "eb46b2ce",
   "metadata": {},
   "outputs": [],
   "source": [
    "company = driver.find_elements(By.XPATH, '//a[@class=\"subTitle ellipsis fleft\"]')"
   ]
  },
  {
   "cell_type": "code",
   "execution_count": 70,
   "id": "4a92f204",
   "metadata": {},
   "outputs": [],
   "source": [
    "jobs_df = [_.text for _ in job_title][:10]\n",
    "location_df = [_.text for _ in location][:10]\n",
    "company_df = [_.text for _ in company][:10]"
   ]
  },
  {
   "cell_type": "code",
   "execution_count": 71,
   "id": "c8f6fd8f",
   "metadata": {},
   "outputs": [],
   "source": [
    "df = pd.DataFrame(data = {\n",
    "    'Job Title' : jobs_df,\n",
    "    'Company Location' : location_df,\n",
    "    'Company Name' : company_df,\n",
    "}, index = np.arange(1,11))"
   ]
  },
  {
   "cell_type": "code",
   "execution_count": 72,
   "id": "bdf6ad0e",
   "metadata": {},
   "outputs": [
    {
     "data": {
      "text/html": [
       "<div>\n",
       "<style scoped>\n",
       "    .dataframe tbody tr th:only-of-type {\n",
       "        vertical-align: middle;\n",
       "    }\n",
       "\n",
       "    .dataframe tbody tr th {\n",
       "        vertical-align: top;\n",
       "    }\n",
       "\n",
       "    .dataframe thead th {\n",
       "        text-align: right;\n",
       "    }\n",
       "</style>\n",
       "<table border=\"1\" class=\"dataframe\">\n",
       "  <thead>\n",
       "    <tr style=\"text-align: right;\">\n",
       "      <th></th>\n",
       "      <th>Job Title</th>\n",
       "      <th>Company Location</th>\n",
       "      <th>Company Name</th>\n",
       "    </tr>\n",
       "  </thead>\n",
       "  <tbody>\n",
       "    <tr>\n",
       "      <th>1</th>\n",
       "      <td>Senior Data Scientist</td>\n",
       "      <td>Chennai, Bangalore/Bengaluru</td>\n",
       "      <td>Shell</td>\n",
       "    </tr>\n",
       "    <tr>\n",
       "      <th>2</th>\n",
       "      <td>Global Tax Automation &amp; Operations - Data Scie...</td>\n",
       "      <td>Bangalore/Bengaluru</td>\n",
       "      <td>Dell</td>\n",
       "    </tr>\n",
       "    <tr>\n",
       "      <th>3</th>\n",
       "      <td>Lead Data Scientist - Machine Learning/ Data M...</td>\n",
       "      <td>Bangalore/Bengaluru</td>\n",
       "      <td>Wrackle Technologies Pvt Ltd</td>\n",
       "    </tr>\n",
       "    <tr>\n",
       "      <th>4</th>\n",
       "      <td>Opportunity For Data Scientist Internship - Be...</td>\n",
       "      <td>Indore, Bangalore/Bengaluru\\n(WFH during Covid)</td>\n",
       "      <td>Corner Stone Solutions</td>\n",
       "    </tr>\n",
       "    <tr>\n",
       "      <th>5</th>\n",
       "      <td>Louis Dreyfus Company Looking For Data Scientist</td>\n",
       "      <td>Bangalore/Bengaluru</td>\n",
       "      <td>Louis Dreyfus Commodities</td>\n",
       "    </tr>\n",
       "    <tr>\n",
       "      <th>6</th>\n",
       "      <td>Data Scientist: Advanced Analytics</td>\n",
       "      <td>Bangalore/Bengaluru</td>\n",
       "      <td>IBM</td>\n",
       "    </tr>\n",
       "    <tr>\n",
       "      <th>7</th>\n",
       "      <td>Data Scientist: Advanced Analytics</td>\n",
       "      <td>Bangalore/Bengaluru</td>\n",
       "      <td>IBM</td>\n",
       "    </tr>\n",
       "    <tr>\n",
       "      <th>8</th>\n",
       "      <td>GSC Operational Analytics Data Scientist</td>\n",
       "      <td>Bangalore/Bengaluru</td>\n",
       "      <td>Intel</td>\n",
       "    </tr>\n",
       "    <tr>\n",
       "      <th>9</th>\n",
       "      <td>Data Scientist: Artificial Intelligence</td>\n",
       "      <td>Bangalore/Bengaluru</td>\n",
       "      <td>IBM</td>\n",
       "    </tr>\n",
       "    <tr>\n",
       "      <th>10</th>\n",
       "      <td>Data Scientist: Artificial Intelligence</td>\n",
       "      <td>Bangalore/Bengaluru</td>\n",
       "      <td>IBM</td>\n",
       "    </tr>\n",
       "  </tbody>\n",
       "</table>\n",
       "</div>"
      ],
      "text/plain": [
       "                                            Job Title  \\\n",
       "1                               Senior Data Scientist   \n",
       "2   Global Tax Automation & Operations - Data Scie...   \n",
       "3   Lead Data Scientist - Machine Learning/ Data M...   \n",
       "4   Opportunity For Data Scientist Internship - Be...   \n",
       "5    Louis Dreyfus Company Looking For Data Scientist   \n",
       "6                  Data Scientist: Advanced Analytics   \n",
       "7                  Data Scientist: Advanced Analytics   \n",
       "8            GSC Operational Analytics Data Scientist   \n",
       "9             Data Scientist: Artificial Intelligence   \n",
       "10            Data Scientist: Artificial Intelligence   \n",
       "\n",
       "                                   Company Location  \\\n",
       "1                      Chennai, Bangalore/Bengaluru   \n",
       "2                               Bangalore/Bengaluru   \n",
       "3                               Bangalore/Bengaluru   \n",
       "4   Indore, Bangalore/Bengaluru\\n(WFH during Covid)   \n",
       "5                               Bangalore/Bengaluru   \n",
       "6                               Bangalore/Bengaluru   \n",
       "7                               Bangalore/Bengaluru   \n",
       "8                               Bangalore/Bengaluru   \n",
       "9                               Bangalore/Bengaluru   \n",
       "10                              Bangalore/Bengaluru   \n",
       "\n",
       "                    Company Name  \n",
       "1                          Shell  \n",
       "2                           Dell  \n",
       "3   Wrackle Technologies Pvt Ltd  \n",
       "4         Corner Stone Solutions  \n",
       "5      Louis Dreyfus Commodities  \n",
       "6                            IBM  \n",
       "7                            IBM  \n",
       "8                          Intel  \n",
       "9                            IBM  \n",
       "10                           IBM  "
      ]
     },
     "execution_count": 72,
     "metadata": {},
     "output_type": "execute_result"
    }
   ],
   "source": [
    "df"
   ]
  },
  {
   "cell_type": "markdown",
   "id": "3306dd46",
   "metadata": {},
   "source": [
    "# Question 3"
   ]
  },
  {
   "cell_type": "code",
   "execution_count": 92,
   "id": "b8750cbf",
   "metadata": {},
   "outputs": [],
   "source": [
    "s = Service(r'C:\\Users\\zobekenobe\\Desktop\\chromedriver.exe')\n",
    "driver = webdriver.Chrome(service = s)"
   ]
  },
  {
   "cell_type": "code",
   "execution_count": 93,
   "id": "12e94f2b",
   "metadata": {},
   "outputs": [],
   "source": [
    "url = 'https://naukri.com'\n",
    "driver.get(url)\n",
    "driver.delete_all_cookies()"
   ]
  },
  {
   "cell_type": "code",
   "execution_count": 94,
   "id": "bc7c74d5",
   "metadata": {},
   "outputs": [],
   "source": [
    "search_jobTitle = driver.find_element(By.CLASS_NAME, 'suggestor-input')\n",
    "search_jobTitle.clear()\n",
    "search_jobTitle.send_keys('Data Scientist')"
   ]
  },
  {
   "cell_type": "code",
   "execution_count": 95,
   "id": "7216f06b",
   "metadata": {},
   "outputs": [],
   "source": [
    "search_button = driver.find_element(By.CLASS_NAME, 'qsbSubmit')"
   ]
  },
  {
   "cell_type": "code",
   "execution_count": 96,
   "id": "332ac0e6",
   "metadata": {},
   "outputs": [],
   "source": [
    "search_button.click()"
   ]
  },
  {
   "cell_type": "code",
   "execution_count": 97,
   "id": "e5d11543",
   "metadata": {},
   "outputs": [],
   "source": [
    "location_filter = driver.find_element(By.XPATH, '//span[contains(@title,\"Delhi / NCR\")]')\n",
    "driver.delete_all_cookies()"
   ]
  },
  {
   "cell_type": "code",
   "execution_count": 98,
   "id": "89bc2907",
   "metadata": {},
   "outputs": [],
   "source": [
    "location_filter.click()"
   ]
  },
  {
   "cell_type": "code",
   "execution_count": 99,
   "id": "052a4d92",
   "metadata": {},
   "outputs": [],
   "source": [
    "salary_filter = driver.find_element(By.XPATH, '/html/body/div[1]/div[3]/div[2]/section[1]/div[2]/div[4]/div[2]/div[2]/label/p/span[1]')\n",
    "driver.delete_all_cookies()"
   ]
  },
  {
   "cell_type": "code",
   "execution_count": 100,
   "id": "f492c5ea",
   "metadata": {},
   "outputs": [],
   "source": [
    "salary_filter.click()"
   ]
  },
  {
   "cell_type": "code",
   "execution_count": 101,
   "id": "df35c946",
   "metadata": {},
   "outputs": [],
   "source": [
    "job_title = driver.find_elements(By.XPATH, '//a[@class=\"title fw500 ellipsis\"]')"
   ]
  },
  {
   "cell_type": "code",
   "execution_count": 102,
   "id": "0cdb5f8f",
   "metadata": {},
   "outputs": [],
   "source": [
    "location = driver.find_elements(By.XPATH, '//li[@class=\"fleft grey-text br2 placeHolderLi location\"]')"
   ]
  },
  {
   "cell_type": "code",
   "execution_count": 103,
   "id": "88826be2",
   "metadata": {},
   "outputs": [],
   "source": [
    "company = driver.find_elements(By.XPATH, '//a[@class=\"subTitle ellipsis fleft\"]')"
   ]
  },
  {
   "cell_type": "code",
   "execution_count": 104,
   "id": "63ca085d",
   "metadata": {},
   "outputs": [],
   "source": [
    "experience = driver.find_elements(By.XPATH, '//span[contains(@title,\"Yrs\")]')"
   ]
  },
  {
   "cell_type": "code",
   "execution_count": 105,
   "id": "8e1e0afe",
   "metadata": {},
   "outputs": [],
   "source": [
    "jobs_df = [_.text for _ in job_title][:10]\n",
    "location_df = [_.text for _ in location][:10]\n",
    "company_df = [_.text for _ in company][:10]\n",
    "experience_df = [_.text for _ in experience][:10]"
   ]
  },
  {
   "cell_type": "code",
   "execution_count": 109,
   "id": "e294f8b8",
   "metadata": {},
   "outputs": [],
   "source": [
    "df = pd.DataFrame(data = {\n",
    "    'Job Title' : jobs_df,\n",
    "    'Company Location' : location_df,\n",
    "    'Company Name' : company_df,\n",
    "    'Experience Required' : experience_df\n",
    "}, index = np.arange(1,11))"
   ]
  },
  {
   "cell_type": "code",
   "execution_count": 110,
   "id": "1880644a",
   "metadata": {},
   "outputs": [
    {
     "data": {
      "text/html": [
       "<div>\n",
       "<style scoped>\n",
       "    .dataframe tbody tr th:only-of-type {\n",
       "        vertical-align: middle;\n",
       "    }\n",
       "\n",
       "    .dataframe tbody tr th {\n",
       "        vertical-align: top;\n",
       "    }\n",
       "\n",
       "    .dataframe thead th {\n",
       "        text-align: right;\n",
       "    }\n",
       "</style>\n",
       "<table border=\"1\" class=\"dataframe\">\n",
       "  <thead>\n",
       "    <tr style=\"text-align: right;\">\n",
       "      <th></th>\n",
       "      <th>Job Title</th>\n",
       "      <th>Company Location</th>\n",
       "      <th>Company Name</th>\n",
       "      <th>Experience Required</th>\n",
       "    </tr>\n",
       "  </thead>\n",
       "  <tbody>\n",
       "    <tr>\n",
       "      <th>1</th>\n",
       "      <td>Data Scientist</td>\n",
       "      <td>New Delhi</td>\n",
       "      <td>CHANGE LEADERS CONSULTING</td>\n",
       "      <td>3-8 Yrs</td>\n",
       "    </tr>\n",
       "    <tr>\n",
       "      <th>2</th>\n",
       "      <td>Data Scientist</td>\n",
       "      <td>Gurgaon/Gurugram, Chennai\\n(WFH during Covid)</td>\n",
       "      <td>DECISION POINT PRIVATE LIMITED</td>\n",
       "      <td>1-6 Yrs</td>\n",
       "    </tr>\n",
       "    <tr>\n",
       "      <th>3</th>\n",
       "      <td>Opening For Data Scientist</td>\n",
       "      <td>Gurgaon/Gurugram</td>\n",
       "      <td>Care Health Insurance</td>\n",
       "      <td>1-5 Yrs</td>\n",
       "    </tr>\n",
       "    <tr>\n",
       "      <th>4</th>\n",
       "      <td>Data Scientist | A Fintech Organisation</td>\n",
       "      <td>Gurgaon/Gurugram</td>\n",
       "      <td>Vision Beyond Resources India Private Limited</td>\n",
       "      <td>2-7 Yrs</td>\n",
       "    </tr>\n",
       "    <tr>\n",
       "      <th>5</th>\n",
       "      <td>Data Scientist</td>\n",
       "      <td>Kolkata, Hyderabad/Secunderabad, Pune, Chennai...</td>\n",
       "      <td>Alp Consulting Limited</td>\n",
       "      <td>1-6 Yrs</td>\n",
       "    </tr>\n",
       "    <tr>\n",
       "      <th>6</th>\n",
       "      <td>Data Scientist-Onsite and offshore</td>\n",
       "      <td>Hyderabad/Secunderabad, Pune, Chennai, Bangalo...</td>\n",
       "      <td>PROKXIMITY</td>\n",
       "      <td>3-8 Yrs</td>\n",
       "    </tr>\n",
       "    <tr>\n",
       "      <th>7</th>\n",
       "      <td>Data &amp; Applied Scientist</td>\n",
       "      <td>Noida, Hyderabad/Secunderabad, Bangalore/Benga...</td>\n",
       "      <td>Microsoft</td>\n",
       "      <td>3-7 Yrs</td>\n",
       "    </tr>\n",
       "    <tr>\n",
       "      <th>8</th>\n",
       "      <td>Data and applied Scientist</td>\n",
       "      <td>Noida, Hyderabad/Secunderabad, Bangalore/Benga...</td>\n",
       "      <td>Microsoft</td>\n",
       "      <td>3-7 Yrs</td>\n",
       "    </tr>\n",
       "    <tr>\n",
       "      <th>9</th>\n",
       "      <td>Urgent Requirement || Data Scientist || Noida</td>\n",
       "      <td>Noida, Delhi / NCR</td>\n",
       "      <td>HCL</td>\n",
       "      <td>3-8 Yrs</td>\n",
       "    </tr>\n",
       "    <tr>\n",
       "      <th>10</th>\n",
       "      <td>Data Analyst / Data Scientist / Business Analy...</td>\n",
       "      <td>Noida, New Delhi, Delhi / NCR</td>\n",
       "      <td>GABA Consultancy services</td>\n",
       "      <td>0-0 Yrs</td>\n",
       "    </tr>\n",
       "  </tbody>\n",
       "</table>\n",
       "</div>"
      ],
      "text/plain": [
       "                                            Job Title  \\\n",
       "1                                      Data Scientist   \n",
       "2                                      Data Scientist   \n",
       "3                          Opening For Data Scientist   \n",
       "4             Data Scientist | A Fintech Organisation   \n",
       "5                                      Data Scientist   \n",
       "6                  Data Scientist-Onsite and offshore   \n",
       "7                            Data & Applied Scientist   \n",
       "8                          Data and applied Scientist   \n",
       "9       Urgent Requirement || Data Scientist || Noida   \n",
       "10  Data Analyst / Data Scientist / Business Analy...   \n",
       "\n",
       "                                     Company Location  \\\n",
       "1                                           New Delhi   \n",
       "2       Gurgaon/Gurugram, Chennai\\n(WFH during Covid)   \n",
       "3                                    Gurgaon/Gurugram   \n",
       "4                                    Gurgaon/Gurugram   \n",
       "5   Kolkata, Hyderabad/Secunderabad, Pune, Chennai...   \n",
       "6   Hyderabad/Secunderabad, Pune, Chennai, Bangalo...   \n",
       "7   Noida, Hyderabad/Secunderabad, Bangalore/Benga...   \n",
       "8   Noida, Hyderabad/Secunderabad, Bangalore/Benga...   \n",
       "9                                  Noida, Delhi / NCR   \n",
       "10                      Noida, New Delhi, Delhi / NCR   \n",
       "\n",
       "                                     Company Name Experience Required  \n",
       "1                       CHANGE LEADERS CONSULTING             3-8 Yrs  \n",
       "2                  DECISION POINT PRIVATE LIMITED             1-6 Yrs  \n",
       "3                           Care Health Insurance             1-5 Yrs  \n",
       "4   Vision Beyond Resources India Private Limited             2-7 Yrs  \n",
       "5                          Alp Consulting Limited             1-6 Yrs  \n",
       "6                                      PROKXIMITY             3-8 Yrs  \n",
       "7                                       Microsoft             3-7 Yrs  \n",
       "8                                       Microsoft             3-7 Yrs  \n",
       "9                                             HCL             3-8 Yrs  \n",
       "10                      GABA Consultancy services             0-0 Yrs  "
      ]
     },
     "execution_count": 110,
     "metadata": {},
     "output_type": "execute_result"
    }
   ],
   "source": [
    "df"
   ]
  },
  {
   "cell_type": "markdown",
   "id": "8cde3422",
   "metadata": {},
   "source": [
    "# Question 4"
   ]
  },
  {
   "cell_type": "code",
   "execution_count": null,
   "id": "a4aa474d",
   "metadata": {},
   "outputs": [],
   "source": [
    "s = Service('')"
   ]
  }
 ],
 "metadata": {
  "kernelspec": {
   "display_name": "Python 3 (ipykernel)",
   "language": "python",
   "name": "python3"
  },
  "language_info": {
   "codemirror_mode": {
    "name": "ipython",
    "version": 3
   },
   "file_extension": ".py",
   "mimetype": "text/x-python",
   "name": "python",
   "nbconvert_exporter": "python",
   "pygments_lexer": "ipython3",
   "version": "3.9.10"
  }
 },
 "nbformat": 4,
 "nbformat_minor": 5
}
