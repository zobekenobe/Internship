{
 "cells": [
  {
   "cell_type": "code",
   "execution_count": 380,
   "id": "236b53de",
   "metadata": {},
   "outputs": [],
   "source": [
    "import pandas as pd\n",
    "import numpy as np\n",
    "import selenium\n",
    "from selenium import webdriver\n",
    "from selenium.webdriver.common.by import By\n",
    "from selenium.webdriver.chrome.service import Service\n",
    "\n",
    "from selenium.webdriver.support.ui import WebDriverWait\n",
    "from selenium.webdriver.support import expected_conditions as EC"
   ]
  },
  {
   "cell_type": "markdown",
   "id": "ec5ae88b",
   "metadata": {},
   "source": [
    "# Question 1"
   ]
  },
  {
   "cell_type": "code",
   "execution_count": 16,
   "id": "93cacf4d",
   "metadata": {},
   "outputs": [],
   "source": [
    "s   = Service(r'C:\\Users\\zobekenobe\\Desktop\\chromedriver.exe')\n",
    "driver = webdriver.Chrome(service = s)"
   ]
  },
  {
   "cell_type": "code",
   "execution_count": 17,
   "id": "7b3c7df5",
   "metadata": {},
   "outputs": [],
   "source": [
    "url = 'https://www.naukri.com/'\n",
    "driver.get(url)\n",
    "driver.delete_all_cookies()"
   ]
  },
  {
   "cell_type": "code",
   "execution_count": 18,
   "id": "cb9a2aef",
   "metadata": {},
   "outputs": [],
   "source": [
    "search_jobs = driver.find_element(By.CLASS_NAME, 'suggestor-input')\n",
    "search_jobs.clear()\n",
    "search_jobs.send_keys('Data Analyst')"
   ]
  },
  {
   "cell_type": "code",
   "execution_count": 19,
   "id": "a142f180",
   "metadata": {},
   "outputs": [],
   "source": [
    "search_location = driver.find_element(By.XPATH, '/html/body/div/div[2]/div[4]/div/div/div[3]/div/div/div/input')\n",
    "search_location.clear()\n",
    "search_location.send_keys('Bangalore')"
   ]
  },
  {
   "cell_type": "code",
   "execution_count": 20,
   "id": "b681d8d1",
   "metadata": {},
   "outputs": [],
   "source": [
    "search_button = driver.find_element(By.CLASS_NAME,'qsbSubmit')"
   ]
  },
  {
   "cell_type": "code",
   "execution_count": 21,
   "id": "3992b0b0",
   "metadata": {},
   "outputs": [],
   "source": [
    "search_button.click()"
   ]
  },
  {
   "cell_type": "code",
   "execution_count": 28,
   "id": "f52ab575",
   "metadata": {},
   "outputs": [],
   "source": [
    "job_title = driver.find_elements(By.XPATH, '//a[@class=\"title fw500 ellipsis\"]')"
   ]
  },
  {
   "cell_type": "code",
   "execution_count": 29,
   "id": "8ce0470b",
   "metadata": {},
   "outputs": [],
   "source": [
    "experience = driver.find_elements(By.XPATH, '//span[contains(@title,\"Yrs\")]')"
   ]
  },
  {
   "cell_type": "code",
   "execution_count": 30,
   "id": "cdf132fd",
   "metadata": {},
   "outputs": [],
   "source": [
    "company = driver.find_elements(By.XPATH, '//a[@class=\"subTitle ellipsis fleft\"]')"
   ]
  },
  {
   "cell_type": "code",
   "execution_count": 31,
   "id": "f1d06e46",
   "metadata": {},
   "outputs": [],
   "source": [
    "location = driver.find_elements(By.XPATH, '//li[@class=\"fleft grey-text br2 placeHolderLi location\"]')"
   ]
  },
  {
   "cell_type": "code",
   "execution_count": 36,
   "id": "aa21f3ca",
   "metadata": {},
   "outputs": [],
   "source": [
    "jobs_df = [_.text for _ in job_title][:10]\n",
    "location_df = [_.text for _ in location][:10]\n",
    "company_df = [_.text for _ in company][:10]\n",
    "experience_df = [_.text for _ in experience][:10]"
   ]
  },
  {
   "cell_type": "code",
   "execution_count": 43,
   "id": "05dee130",
   "metadata": {},
   "outputs": [],
   "source": [
    "df = pd.DataFrame(data = {\n",
    "    'Job Title' : jobs_df,\n",
    "    'Company Location' : location_df,\n",
    "    'Company Name' : company_df,\n",
    "    'Experience Required' : experience_df\n",
    "}, index = np.arange(1,11))\n",
    "\n"
   ]
  },
  {
   "cell_type": "markdown",
   "id": "6939380a",
   "metadata": {},
   "source": [
    "# Question 2"
   ]
  },
  {
   "cell_type": "code",
   "execution_count": 61,
   "id": "6f5c8a5c",
   "metadata": {},
   "outputs": [],
   "source": [
    "s = Service(r'C:\\Users\\zobekenobe\\Desktop\\chromedriver.exe')\n",
    "driver = webdriver.Chrome(service = s)"
   ]
  },
  {
   "cell_type": "code",
   "execution_count": 62,
   "id": "90ef2f6e",
   "metadata": {},
   "outputs": [],
   "source": [
    "url = 'https://www.naukri.com/'\n",
    "driver.get(url)\n",
    "driver.delete_all_cookies()"
   ]
  },
  {
   "cell_type": "code",
   "execution_count": 63,
   "id": "54aa9bbf",
   "metadata": {},
   "outputs": [],
   "source": [
    "search_jobTitle = driver.find_element(By.CLASS_NAME, 'suggestor-input')\n",
    "search_jobTitle.clear()\n",
    "search_jobTitle.send_keys('Data Scientist')"
   ]
  },
  {
   "cell_type": "code",
   "execution_count": 64,
   "id": "c91e526f",
   "metadata": {},
   "outputs": [],
   "source": [
    "search_location = driver.find_element(By.XPATH, '/html/body/div/div[2]/div[4]/div/div/div[3]/div/div/div/input')\n",
    "search_location.clear()\n",
    "search_location.send_keys('Bangalore')"
   ]
  },
  {
   "cell_type": "code",
   "execution_count": 65,
   "id": "86479ecd",
   "metadata": {},
   "outputs": [],
   "source": [
    "search_button = driver.find_element(By.CLASS_NAME,'qsbSubmit')"
   ]
  },
  {
   "cell_type": "code",
   "execution_count": 66,
   "id": "397555c8",
   "metadata": {},
   "outputs": [],
   "source": [
    "search_button.click()"
   ]
  },
  {
   "cell_type": "code",
   "execution_count": 67,
   "id": "9459a858",
   "metadata": {},
   "outputs": [],
   "source": [
    "job_title = driver.find_elements(By.XPATH, '//a[@class=\"title fw500 ellipsis\"]')"
   ]
  },
  {
   "cell_type": "code",
   "execution_count": 68,
   "id": "21defe0e",
   "metadata": {},
   "outputs": [],
   "source": [
    "location = driver.find_elements(By.XPATH, '//li[@class=\"fleft grey-text br2 placeHolderLi location\"]')"
   ]
  },
  {
   "cell_type": "code",
   "execution_count": 69,
   "id": "066d87b8",
   "metadata": {},
   "outputs": [],
   "source": [
    "company = driver.find_elements(By.XPATH, '//a[@class=\"subTitle ellipsis fleft\"]')"
   ]
  },
  {
   "cell_type": "code",
   "execution_count": 70,
   "id": "4baddaf2",
   "metadata": {},
   "outputs": [],
   "source": [
    "jobs_df = [_.text for _ in job_title][:10]\n",
    "location_df = [_.text for _ in location][:10]\n",
    "company_df = [_.text for _ in company][:10]"
   ]
  },
  {
   "cell_type": "code",
   "execution_count": 71,
   "id": "885a02f2",
   "metadata": {},
   "outputs": [],
   "source": [
    "df = pd.DataFrame(data = {\n",
    "    'Job Title' : jobs_df,\n",
    "    'Company Location' : location_df,\n",
    "    'Company Name' : company_df,\n",
    "}, index = np.arange(1,11))"
   ]
  },
  {
   "cell_type": "code",
   "execution_count": 72,
   "id": "be447056",
   "metadata": {},
   "outputs": [
    {
     "data": {
      "text/html": [
       "<div>\n",
       "<style scoped>\n",
       "    .dataframe tbody tr th:only-of-type {\n",
       "        vertical-align: middle;\n",
       "    }\n",
       "\n",
       "    .dataframe tbody tr th {\n",
       "        vertical-align: top;\n",
       "    }\n",
       "\n",
       "    .dataframe thead th {\n",
       "        text-align: right;\n",
       "    }\n",
       "</style>\n",
       "<table border=\"1\" class=\"dataframe\">\n",
       "  <thead>\n",
       "    <tr style=\"text-align: right;\">\n",
       "      <th></th>\n",
       "      <th>Job Title</th>\n",
       "      <th>Company Location</th>\n",
       "      <th>Company Name</th>\n",
       "    </tr>\n",
       "  </thead>\n",
       "  <tbody>\n",
       "    <tr>\n",
       "      <th>1</th>\n",
       "      <td>Senior Data Scientist</td>\n",
       "      <td>Chennai, Bangalore/Bengaluru</td>\n",
       "      <td>Shell</td>\n",
       "    </tr>\n",
       "    <tr>\n",
       "      <th>2</th>\n",
       "      <td>Global Tax Automation &amp; Operations - Data Scie...</td>\n",
       "      <td>Bangalore/Bengaluru</td>\n",
       "      <td>Dell</td>\n",
       "    </tr>\n",
       "    <tr>\n",
       "      <th>3</th>\n",
       "      <td>Lead Data Scientist - Machine Learning/ Data M...</td>\n",
       "      <td>Bangalore/Bengaluru</td>\n",
       "      <td>Wrackle Technologies Pvt Ltd</td>\n",
       "    </tr>\n",
       "    <tr>\n",
       "      <th>4</th>\n",
       "      <td>Opportunity For Data Scientist Internship - Be...</td>\n",
       "      <td>Indore, Bangalore/Bengaluru\\n(WFH during Covid)</td>\n",
       "      <td>Corner Stone Solutions</td>\n",
       "    </tr>\n",
       "    <tr>\n",
       "      <th>5</th>\n",
       "      <td>Louis Dreyfus Company Looking For Data Scientist</td>\n",
       "      <td>Bangalore/Bengaluru</td>\n",
       "      <td>Louis Dreyfus Commodities</td>\n",
       "    </tr>\n",
       "    <tr>\n",
       "      <th>6</th>\n",
       "      <td>Data Scientist: Advanced Analytics</td>\n",
       "      <td>Bangalore/Bengaluru</td>\n",
       "      <td>IBM</td>\n",
       "    </tr>\n",
       "    <tr>\n",
       "      <th>7</th>\n",
       "      <td>Data Scientist: Advanced Analytics</td>\n",
       "      <td>Bangalore/Bengaluru</td>\n",
       "      <td>IBM</td>\n",
       "    </tr>\n",
       "    <tr>\n",
       "      <th>8</th>\n",
       "      <td>GSC Operational Analytics Data Scientist</td>\n",
       "      <td>Bangalore/Bengaluru</td>\n",
       "      <td>Intel</td>\n",
       "    </tr>\n",
       "    <tr>\n",
       "      <th>9</th>\n",
       "      <td>Data Scientist: Artificial Intelligence</td>\n",
       "      <td>Bangalore/Bengaluru</td>\n",
       "      <td>IBM</td>\n",
       "    </tr>\n",
       "    <tr>\n",
       "      <th>10</th>\n",
       "      <td>Data Scientist: Artificial Intelligence</td>\n",
       "      <td>Bangalore/Bengaluru</td>\n",
       "      <td>IBM</td>\n",
       "    </tr>\n",
       "  </tbody>\n",
       "</table>\n",
       "</div>"
      ],
      "text/plain": [
       "                                            Job Title  \\\n",
       "1                               Senior Data Scientist   \n",
       "2   Global Tax Automation & Operations - Data Scie...   \n",
       "3   Lead Data Scientist - Machine Learning/ Data M...   \n",
       "4   Opportunity For Data Scientist Internship - Be...   \n",
       "5    Louis Dreyfus Company Looking For Data Scientist   \n",
       "6                  Data Scientist: Advanced Analytics   \n",
       "7                  Data Scientist: Advanced Analytics   \n",
       "8            GSC Operational Analytics Data Scientist   \n",
       "9             Data Scientist: Artificial Intelligence   \n",
       "10            Data Scientist: Artificial Intelligence   \n",
       "\n",
       "                                   Company Location  \\\n",
       "1                      Chennai, Bangalore/Bengaluru   \n",
       "2                               Bangalore/Bengaluru   \n",
       "3                               Bangalore/Bengaluru   \n",
       "4   Indore, Bangalore/Bengaluru\\n(WFH during Covid)   \n",
       "5                               Bangalore/Bengaluru   \n",
       "6                               Bangalore/Bengaluru   \n",
       "7                               Bangalore/Bengaluru   \n",
       "8                               Bangalore/Bengaluru   \n",
       "9                               Bangalore/Bengaluru   \n",
       "10                              Bangalore/Bengaluru   \n",
       "\n",
       "                    Company Name  \n",
       "1                          Shell  \n",
       "2                           Dell  \n",
       "3   Wrackle Technologies Pvt Ltd  \n",
       "4         Corner Stone Solutions  \n",
       "5      Louis Dreyfus Commodities  \n",
       "6                            IBM  \n",
       "7                            IBM  \n",
       "8                          Intel  \n",
       "9                            IBM  \n",
       "10                           IBM  "
      ]
     },
     "execution_count": 72,
     "metadata": {},
     "output_type": "execute_result"
    }
   ],
   "source": [
    "df"
   ]
  },
  {
   "cell_type": "markdown",
   "id": "12010bbf",
   "metadata": {},
   "source": [
    "# Question 3"
   ]
  },
  {
   "cell_type": "code",
   "execution_count": 92,
   "id": "a10d4072",
   "metadata": {},
   "outputs": [],
   "source": [
    "s = Service(r'C:\\Users\\zobekenobe\\Desktop\\chromedriver.exe')\n",
    "driver = webdriver.Chrome(service = s)"
   ]
  },
  {
   "cell_type": "code",
   "execution_count": 93,
   "id": "42781a8e",
   "metadata": {},
   "outputs": [],
   "source": [
    "url = 'https://naukri.com'\n",
    "driver.get(url)\n",
    "driver.delete_all_cookies()"
   ]
  },
  {
   "cell_type": "code",
   "execution_count": 94,
   "id": "da937c28",
   "metadata": {},
   "outputs": [],
   "source": [
    "search_jobTitle = driver.find_element(By.CLASS_NAME, 'suggestor-input')\n",
    "search_jobTitle.clear()\n",
    "search_jobTitle.send_keys('Data Scientist')"
   ]
  },
  {
   "cell_type": "code",
   "execution_count": 95,
   "id": "2a2a0561",
   "metadata": {},
   "outputs": [],
   "source": [
    "search_button = driver.find_element(By.CLASS_NAME, 'qsbSubmit')"
   ]
  },
  {
   "cell_type": "code",
   "execution_count": 96,
   "id": "061a5297",
   "metadata": {},
   "outputs": [],
   "source": [
    "search_button.click()"
   ]
  },
  {
   "cell_type": "code",
   "execution_count": 97,
   "id": "eeb071a0",
   "metadata": {},
   "outputs": [],
   "source": [
    "location_filter = driver.find_element(By.XPATH, '//span[contains(@title,\"Delhi / NCR\")]')\n",
    "driver.delete_all_cookies()"
   ]
  },
  {
   "cell_type": "code",
   "execution_count": 98,
   "id": "3370968d",
   "metadata": {},
   "outputs": [],
   "source": [
    "location_filter.click()"
   ]
  },
  {
   "cell_type": "code",
   "execution_count": 99,
   "id": "9b7b78a1",
   "metadata": {},
   "outputs": [],
   "source": [
    "salary_filter = driver.find_element(By.XPATH, '/html/body/div[1]/div[3]/div[2]/section[1]/div[2]/div[4]/div[2]/div[2]/label/p/span[1]')\n",
    "driver.delete_all_cookies()"
   ]
  },
  {
   "cell_type": "code",
   "execution_count": 100,
   "id": "4724e70d",
   "metadata": {},
   "outputs": [],
   "source": [
    "salary_filter.click()"
   ]
  },
  {
   "cell_type": "code",
   "execution_count": 101,
   "id": "710f5852",
   "metadata": {},
   "outputs": [],
   "source": [
    "job_title = driver.find_elements(By.XPATH, '//a[@class=\"title fw500 ellipsis\"]')"
   ]
  },
  {
   "cell_type": "code",
   "execution_count": 102,
   "id": "6f043db8",
   "metadata": {},
   "outputs": [],
   "source": [
    "location = driver.find_elements(By.XPATH, '//li[@class=\"fleft grey-text br2 placeHolderLi location\"]')"
   ]
  },
  {
   "cell_type": "code",
   "execution_count": 103,
   "id": "1bea2cbe",
   "metadata": {},
   "outputs": [],
   "source": [
    "company = driver.find_elements(By.XPATH, '//a[@class=\"subTitle ellipsis fleft\"]')"
   ]
  },
  {
   "cell_type": "code",
   "execution_count": 104,
   "id": "b6f45a55",
   "metadata": {},
   "outputs": [],
   "source": [
    "experience = driver.find_elements(By.XPATH, '//span[contains(@title,\"Yrs\")]')"
   ]
  },
  {
   "cell_type": "code",
   "execution_count": 105,
   "id": "f8740d35",
   "metadata": {},
   "outputs": [],
   "source": [
    "jobs_df = [_.text for _ in job_title][:10]\n",
    "location_df = [_.text for _ in location][:10]\n",
    "company_df = [_.text for _ in company][:10]\n",
    "experience_df = [_.text for _ in experience][:10]"
   ]
  },
  {
   "cell_type": "code",
   "execution_count": 109,
   "id": "15f85cfd",
   "metadata": {},
   "outputs": [],
   "source": [
    "df = pd.DataFrame(data = {\n",
    "    'Job Title' : jobs_df,\n",
    "    'Company Location' : location_df,\n",
    "    'Company Name' : company_df,\n",
    "    'Experience Required' : experience_df\n",
    "}, index = np.arange(1,11))"
   ]
  },
  {
   "cell_type": "code",
   "execution_count": 110,
   "id": "10f935b9",
   "metadata": {
    "scrolled": true
   },
   "outputs": [
    {
     "data": {
      "text/html": [
       "<div>\n",
       "<style scoped>\n",
       "    .dataframe tbody tr th:only-of-type {\n",
       "        vertical-align: middle;\n",
       "    }\n",
       "\n",
       "    .dataframe tbody tr th {\n",
       "        vertical-align: top;\n",
       "    }\n",
       "\n",
       "    .dataframe thead th {\n",
       "        text-align: right;\n",
       "    }\n",
       "</style>\n",
       "<table border=\"1\" class=\"dataframe\">\n",
       "  <thead>\n",
       "    <tr style=\"text-align: right;\">\n",
       "      <th></th>\n",
       "      <th>Job Title</th>\n",
       "      <th>Company Location</th>\n",
       "      <th>Company Name</th>\n",
       "      <th>Experience Required</th>\n",
       "    </tr>\n",
       "  </thead>\n",
       "  <tbody>\n",
       "    <tr>\n",
       "      <th>1</th>\n",
       "      <td>Data Scientist</td>\n",
       "      <td>New Delhi</td>\n",
       "      <td>CHANGE LEADERS CONSULTING</td>\n",
       "      <td>3-8 Yrs</td>\n",
       "    </tr>\n",
       "    <tr>\n",
       "      <th>2</th>\n",
       "      <td>Data Scientist</td>\n",
       "      <td>Gurgaon/Gurugram, Chennai\\n(WFH during Covid)</td>\n",
       "      <td>DECISION POINT PRIVATE LIMITED</td>\n",
       "      <td>1-6 Yrs</td>\n",
       "    </tr>\n",
       "    <tr>\n",
       "      <th>3</th>\n",
       "      <td>Opening For Data Scientist</td>\n",
       "      <td>Gurgaon/Gurugram</td>\n",
       "      <td>Care Health Insurance</td>\n",
       "      <td>1-5 Yrs</td>\n",
       "    </tr>\n",
       "    <tr>\n",
       "      <th>4</th>\n",
       "      <td>Data Scientist | A Fintech Organisation</td>\n",
       "      <td>Gurgaon/Gurugram</td>\n",
       "      <td>Vision Beyond Resources India Private Limited</td>\n",
       "      <td>2-7 Yrs</td>\n",
       "    </tr>\n",
       "    <tr>\n",
       "      <th>5</th>\n",
       "      <td>Data Scientist</td>\n",
       "      <td>Kolkata, Hyderabad/Secunderabad, Pune, Chennai...</td>\n",
       "      <td>Alp Consulting Limited</td>\n",
       "      <td>1-6 Yrs</td>\n",
       "    </tr>\n",
       "    <tr>\n",
       "      <th>6</th>\n",
       "      <td>Data Scientist-Onsite and offshore</td>\n",
       "      <td>Hyderabad/Secunderabad, Pune, Chennai, Bangalo...</td>\n",
       "      <td>PROKXIMITY</td>\n",
       "      <td>3-8 Yrs</td>\n",
       "    </tr>\n",
       "    <tr>\n",
       "      <th>7</th>\n",
       "      <td>Data &amp; Applied Scientist</td>\n",
       "      <td>Noida, Hyderabad/Secunderabad, Bangalore/Benga...</td>\n",
       "      <td>Microsoft</td>\n",
       "      <td>3-7 Yrs</td>\n",
       "    </tr>\n",
       "    <tr>\n",
       "      <th>8</th>\n",
       "      <td>Data and applied Scientist</td>\n",
       "      <td>Noida, Hyderabad/Secunderabad, Bangalore/Benga...</td>\n",
       "      <td>Microsoft</td>\n",
       "      <td>3-7 Yrs</td>\n",
       "    </tr>\n",
       "    <tr>\n",
       "      <th>9</th>\n",
       "      <td>Urgent Requirement || Data Scientist || Noida</td>\n",
       "      <td>Noida, Delhi / NCR</td>\n",
       "      <td>HCL</td>\n",
       "      <td>3-8 Yrs</td>\n",
       "    </tr>\n",
       "    <tr>\n",
       "      <th>10</th>\n",
       "      <td>Data Analyst / Data Scientist / Business Analy...</td>\n",
       "      <td>Noida, New Delhi, Delhi / NCR</td>\n",
       "      <td>GABA Consultancy services</td>\n",
       "      <td>0-0 Yrs</td>\n",
       "    </tr>\n",
       "  </tbody>\n",
       "</table>\n",
       "</div>"
      ],
      "text/plain": [
       "                                            Job Title  \\\n",
       "1                                      Data Scientist   \n",
       "2                                      Data Scientist   \n",
       "3                          Opening For Data Scientist   \n",
       "4             Data Scientist | A Fintech Organisation   \n",
       "5                                      Data Scientist   \n",
       "6                  Data Scientist-Onsite and offshore   \n",
       "7                            Data & Applied Scientist   \n",
       "8                          Data and applied Scientist   \n",
       "9       Urgent Requirement || Data Scientist || Noida   \n",
       "10  Data Analyst / Data Scientist / Business Analy...   \n",
       "\n",
       "                                     Company Location  \\\n",
       "1                                           New Delhi   \n",
       "2       Gurgaon/Gurugram, Chennai\\n(WFH during Covid)   \n",
       "3                                    Gurgaon/Gurugram   \n",
       "4                                    Gurgaon/Gurugram   \n",
       "5   Kolkata, Hyderabad/Secunderabad, Pune, Chennai...   \n",
       "6   Hyderabad/Secunderabad, Pune, Chennai, Bangalo...   \n",
       "7   Noida, Hyderabad/Secunderabad, Bangalore/Benga...   \n",
       "8   Noida, Hyderabad/Secunderabad, Bangalore/Benga...   \n",
       "9                                  Noida, Delhi / NCR   \n",
       "10                      Noida, New Delhi, Delhi / NCR   \n",
       "\n",
       "                                     Company Name Experience Required  \n",
       "1                       CHANGE LEADERS CONSULTING             3-8 Yrs  \n",
       "2                  DECISION POINT PRIVATE LIMITED             1-6 Yrs  \n",
       "3                           Care Health Insurance             1-5 Yrs  \n",
       "4   Vision Beyond Resources India Private Limited             2-7 Yrs  \n",
       "5                          Alp Consulting Limited             1-6 Yrs  \n",
       "6                                      PROKXIMITY             3-8 Yrs  \n",
       "7                                       Microsoft             3-7 Yrs  \n",
       "8                                       Microsoft             3-7 Yrs  \n",
       "9                                             HCL             3-8 Yrs  \n",
       "10                      GABA Consultancy services             0-0 Yrs  "
      ]
     },
     "execution_count": 110,
     "metadata": {},
     "output_type": "execute_result"
    }
   ],
   "source": [
    "df"
   ]
  },
  {
   "cell_type": "markdown",
   "id": "9b0ec797",
   "metadata": {},
   "source": [
    "# Question 4"
   ]
  },
  {
   "cell_type": "code",
   "execution_count": 491,
   "id": "9f6fff7e",
   "metadata": {},
   "outputs": [],
   "source": [
    "s = Service(r'C:\\Users\\zobekenobe\\Desktop\\chromedriver.exe')\n",
    "driver = webdriver.Chrome(service = s)"
   ]
  },
  {
   "cell_type": "code",
   "execution_count": 492,
   "id": "e698cdb8",
   "metadata": {},
   "outputs": [],
   "source": [
    "url = 'https://www.flipkart.com/'\n",
    "driver.get(url)"
   ]
  },
  {
   "cell_type": "code",
   "execution_count": 493,
   "id": "1cabca03",
   "metadata": {},
   "outputs": [],
   "source": [
    "driver.maximize_window()"
   ]
  },
  {
   "cell_type": "code",
   "execution_count": 494,
   "id": "6537fb68",
   "metadata": {},
   "outputs": [],
   "source": [
    "# close interuppting window\n",
    "close_window = driver.find_element(By.XPATH,'/html/body/div[2]/div/div/button')"
   ]
  },
  {
   "cell_type": "code",
   "execution_count": 495,
   "id": "d7146504",
   "metadata": {},
   "outputs": [],
   "source": [
    "close_window.click()"
   ]
  },
  {
   "cell_type": "code",
   "execution_count": 496,
   "id": "da323c56",
   "metadata": {},
   "outputs": [],
   "source": [
    "search_sunglasses = driver.find_element(By.CLASS_NAME, '_3704LK')\n",
    "search_sunglasses.clear()\n",
    "search_sunglasses.send_keys('sunglasses')"
   ]
  },
  {
   "cell_type": "code",
   "execution_count": 497,
   "id": "fa1481ae",
   "metadata": {},
   "outputs": [],
   "source": [
    "search_button = driver.find_element(By.CLASS_NAME,'L0Z3Pu')"
   ]
  },
  {
   "cell_type": "code",
   "execution_count": 498,
   "id": "7a9e7a85",
   "metadata": {},
   "outputs": [],
   "source": [
    "search_button.click()"
   ]
  },
  {
   "cell_type": "code",
   "execution_count": 499,
   "id": "3b3e72c4",
   "metadata": {},
   "outputs": [],
   "source": [
    "brand_df = []\n",
    "description_df = []\n",
    "price_df = []"
   ]
  },
  {
   "cell_type": "code",
   "execution_count": 500,
   "id": "84d567f3",
   "metadata": {},
   "outputs": [],
   "source": [
    "brand = driver.find_elements(By.XPATH, '//div[@class=\"_2WkVRV\"]')\n",
    "brand_df += [_.text for _ in brand]\n",
    "description = driver.find_elements(By.XPATH, '//a[@class=\"IRpwTa\"]')\n",
    "description_df += [_.text for _ in description]\n",
    "price = driver.find_elements(By.XPATH, '//div[@class=\"_30jeq3\"]')    \n",
    "price_df += [_.text for _ in price]\n",
    "\n",
    "driver.implicitly_wait(20)\n",
    "test = driver.find_elements(By.CLASS_NAME,'_1LKTO3')\n",
    "test[0].click()"
   ]
  },
  {
   "cell_type": "code",
   "execution_count": 501,
   "id": "4c6ae0a3",
   "metadata": {},
   "outputs": [],
   "source": [
    "brand = driver.find_elements(By.XPATH, '//div[@class=\"_2WkVRV\"]')\n",
    "brand_df += [_.text for _ in brand]\n",
    "description = driver.find_elements(By.XPATH, '//a[@class=\"IRpwTa\"]')\n",
    "description_df += [_.text for _ in description]\n",
    "price = driver.find_elements(By.XPATH, '//div[@class=\"_30jeq3\"]')    \n",
    "price_df += [_.text for _ in price]\n",
    "\n",
    "driver.implicitly_wait(20)\n",
    "test = driver.find_elements(By.CLASS_NAME,'_1LKTO3')\n",
    "test[1].click()"
   ]
  },
  {
   "cell_type": "code",
   "execution_count": 502,
   "id": "6592af22",
   "metadata": {},
   "outputs": [],
   "source": [
    "brand = driver.find_elements(By.XPATH, '//div[@class=\"_2WkVRV\"]')\n",
    "brand_df += [_.text for _ in brand]\n",
    "description = driver.find_elements(By.XPATH, '//a[@class=\"IRpwTa\"]')\n",
    "description_df += [_.text for _ in description]\n",
    "price = driver.find_elements(By.XPATH, '//div[@class=\"_30jeq3\"]')    \n",
    "price_df += [_.text for _ in price]"
   ]
  },
  {
   "cell_type": "code",
   "execution_count": 507,
   "id": "af4f1271",
   "metadata": {},
   "outputs": [],
   "source": [
    "df = pd.DataFrame(data = {\n",
    "    'Brand' : brand_df[:100],\n",
    "    'Description' : description_df[:100],\n",
    "    'Price' : price_df[:100]\n",
    "}, index = range(1,101))"
   ]
  },
  {
   "cell_type": "code",
   "execution_count": 518,
   "id": "6541e1ad",
   "metadata": {},
   "outputs": [
    {
     "data": {
      "text/html": [
       "<div>\n",
       "<style scoped>\n",
       "    .dataframe tbody tr th:only-of-type {\n",
       "        vertical-align: middle;\n",
       "    }\n",
       "\n",
       "    .dataframe tbody tr th {\n",
       "        vertical-align: top;\n",
       "    }\n",
       "\n",
       "    .dataframe thead th {\n",
       "        text-align: right;\n",
       "    }\n",
       "</style>\n",
       "<table border=\"1\" class=\"dataframe\">\n",
       "  <thead>\n",
       "    <tr style=\"text-align: right;\">\n",
       "      <th></th>\n",
       "      <th>Brand</th>\n",
       "      <th>Description</th>\n",
       "      <th>Price</th>\n",
       "    </tr>\n",
       "  </thead>\n",
       "  <tbody>\n",
       "    <tr>\n",
       "      <th>1</th>\n",
       "      <td>Rich Club</td>\n",
       "      <td>UV Protection Round Sunglasses (48)</td>\n",
       "      <td>₹174</td>\n",
       "    </tr>\n",
       "    <tr>\n",
       "      <th>2</th>\n",
       "      <td>ROZZETTA CRAFT</td>\n",
       "      <td>UV Protection, Riding Glasses Rectangular Sung...</td>\n",
       "      <td>₹426</td>\n",
       "    </tr>\n",
       "    <tr>\n",
       "      <th>3</th>\n",
       "      <td>Fastrack</td>\n",
       "      <td>UV Protection Wayfarer Sunglasses (Free Size)</td>\n",
       "      <td>₹721</td>\n",
       "    </tr>\n",
       "    <tr>\n",
       "      <th>4</th>\n",
       "      <td>Elligator</td>\n",
       "      <td>UV Protection Round Sunglasses (54)</td>\n",
       "      <td>₹248</td>\n",
       "    </tr>\n",
       "    <tr>\n",
       "      <th>5</th>\n",
       "      <td>SRPM</td>\n",
       "      <td>UV Protection Wayfarer Sunglasses (50)</td>\n",
       "      <td>₹188</td>\n",
       "    </tr>\n",
       "  </tbody>\n",
       "</table>\n",
       "</div>"
      ],
      "text/plain": [
       "            Brand                                        Description Price\n",
       "1       Rich Club                UV Protection Round Sunglasses (48)  ₹174\n",
       "2  ROZZETTA CRAFT  UV Protection, Riding Glasses Rectangular Sung...  ₹426\n",
       "3        Fastrack      UV Protection Wayfarer Sunglasses (Free Size)  ₹721\n",
       "4       Elligator                UV Protection Round Sunglasses (54)  ₹248\n",
       "5            SRPM             UV Protection Wayfarer Sunglasses (50)  ₹188"
      ]
     },
     "execution_count": 518,
     "metadata": {},
     "output_type": "execute_result"
    }
   ],
   "source": [
    "df.head()"
   ]
  },
  {
   "cell_type": "markdown",
   "id": "79cd3913",
   "metadata": {},
   "source": [
    "# Question 5"
   ]
  },
  {
   "cell_type": "code",
   "execution_count": 726,
   "id": "a6867471",
   "metadata": {},
   "outputs": [],
   "source": [
    "s = Service(r'C:\\Users\\zobekenobe\\Desktop\\chromedriver.exe')\n",
    "driver = webdriver.Chrome(service = s)"
   ]
  },
  {
   "cell_type": "code",
   "execution_count": 727,
   "id": "9edc1606",
   "metadata": {},
   "outputs": [],
   "source": [
    "url = 'https://www.flipkart.com/apple-iphone-11-black-64-gb-includes- earpods-power-adapter/p/itm0f37c2240b217?pid=MOBFKCTSVZAXUHGR&lid=LSTMOBFKCTSVZAXUHGREPBFGI&marketplace'"
   ]
  },
  {
   "cell_type": "code",
   "execution_count": 728,
   "id": "0d378808",
   "metadata": {},
   "outputs": [],
   "source": [
    "driver.get(url)"
   ]
  },
  {
   "cell_type": "code",
   "execution_count": 729,
   "id": "de561724",
   "metadata": {},
   "outputs": [],
   "source": [
    "all_reviews = driver.find_element(By.XPATH, '/html/body/div[1]/div/div[3]/div[1]/div[2]/div[8]/div/div/div[5]/div/a/div/span')"
   ]
  },
  {
   "cell_type": "code",
   "execution_count": 730,
   "id": "126ddca0",
   "metadata": {},
   "outputs": [],
   "source": [
    "all_reviews.click()"
   ]
  },
  {
   "cell_type": "code",
   "execution_count": 731,
   "id": "521f44d3",
   "metadata": {},
   "outputs": [],
   "source": [
    "rating  = []\n",
    "review  = []\n",
    "summary = []"
   ]
  },
  {
   "cell_type": "code",
   "execution_count": 732,
   "id": "1d973660",
   "metadata": {},
   "outputs": [],
   "source": [
    "rating_element = driver.find_elements(By.XPATH, '//div[@class=\"_3LWZlK _1BLPMq\"]')\n",
    "rating += [_.text for _ in rating_element]\n",
    "review_element = driver.find_elements(By.CLASS_NAME, '_2-N8zT')\n",
    "review += [_.text for _ in review_element]\n",
    "summary_element = driver.find_elements(By.CLASS_NAME, 't-ZTKy')\n",
    "summary += [_.text for _ in summary_element]"
   ]
  },
  {
   "cell_type": "code",
   "execution_count": 733,
   "id": "858c281b",
   "metadata": {},
   "outputs": [],
   "source": [
    "next_page = driver.find_elements(By.CLASS_NAME, '_1LKTO3')\n",
    "next_page[0].click()\n"
   ]
  },
  {
   "cell_type": "code",
   "execution_count": 734,
   "id": "1b9b8061",
   "metadata": {},
   "outputs": [],
   "source": [
    "rating_element = driver.find_elements(By.XPATH, '//div[@class=\"_3LWZlK _1BLPMq\"]')\n",
    "rating += [_.text for _ in rating_element]\n",
    "review_element = driver.find_elements(By.CLASS_NAME, '_2-N8zT')\n",
    "review += [_.text for _ in review_element]\n",
    "summary_element = driver.find_elements(By.CLASS_NAME, 't-ZTKy')\n",
    "summary += [_.text for _ in summary_element]\n",
    "next_page = driver.find_elements(By.CLASS_NAME, '_1LKTO3')\n",
    "next_page[1].click()"
   ]
  },
  {
   "cell_type": "code",
   "execution_count": 735,
   "id": "c2e12ac3",
   "metadata": {},
   "outputs": [],
   "source": [
    "rating_element = driver.find_elements(By.XPATH, '//div[@class=\"_3LWZlK _1BLPMq\"]')\n",
    "rating += [_.text for _ in rating_element]\n",
    "review_element = driver.find_elements(By.CLASS_NAME, '_2-N8zT')\n",
    "review += [_.text for _ in review_element]\n",
    "summary_element = driver.find_elements(By.CLASS_NAME, 't-ZTKy')\n",
    "summary += [_.text for _ in summary_element]\n",
    "next_page = driver.find_elements(By.CLASS_NAME, '_1LKTO3')\n",
    "next_page[1].click()\n"
   ]
  },
  {
   "cell_type": "code",
   "execution_count": 736,
   "id": "de4b7646",
   "metadata": {},
   "outputs": [],
   "source": [
    "rating_element = driver.find_elements(By.XPATH, '//div[@class=\"_3LWZlK _1BLPMq\"]')\n",
    "rating += [_.text for _ in rating_element]\n",
    "review_element = driver.find_elements(By.CLASS_NAME, '_2-N8zT')\n",
    "review += [_.text for _ in review_element]\n",
    "summary_element = driver.find_elements(By.CLASS_NAME, 't-ZTKy')\n",
    "summary += [_.text for _ in summary_element]\n",
    "next_page = driver.find_elements(By.CLASS_NAME, '_1LKTO3')\n",
    "next_page[1].click()"
   ]
  },
  {
   "cell_type": "code",
   "execution_count": 737,
   "id": "eb83af08",
   "metadata": {},
   "outputs": [],
   "source": [
    "rating_element = driver.find_elements(By.XPATH, '//div[@class=\"_3LWZlK _1BLPMq\"]')\n",
    "rating += [_.text for _ in rating_element]\n",
    "review_element = driver.find_elements(By.CLASS_NAME, '_2-N8zT')\n",
    "review += [_.text for _ in review_element]\n",
    "summary_element = driver.find_elements(By.CLASS_NAME, 't-ZTKy')\n",
    "summary += [_.text for _ in summary_element]\n",
    "next_page = driver.find_elements(By.CLASS_NAME, '_1LKTO3')\n",
    "next_page[1].click()"
   ]
  },
  {
   "cell_type": "code",
   "execution_count": 738,
   "id": "7e1cdfd7",
   "metadata": {},
   "outputs": [],
   "source": [
    "rating_element = driver.find_elements(By.XPATH, '//div[@class=\"_3LWZlK _1BLPMq\"]')\n",
    "rating += [_.text for _ in rating_element]\n",
    "review_element = driver.find_elements(By.CLASS_NAME, '_2-N8zT')\n",
    "review += [_.text for _ in review_element]\n",
    "summary_element = driver.find_elements(By.CLASS_NAME, 't-ZTKy')\n",
    "summary += [_.text for _ in summary_element]\n",
    "next_page = driver.find_elements(By.CLASS_NAME, '_1LKTO3')\n",
    "next_page[1].click()"
   ]
  },
  {
   "cell_type": "code",
   "execution_count": 739,
   "id": "70cdc8cc",
   "metadata": {},
   "outputs": [],
   "source": [
    "rating_element = driver.find_elements(By.XPATH, '//div[@class=\"_3LWZlK _1BLPMq\"]')\n",
    "rating += [_.text for _ in rating_element]\n",
    "review_element = driver.find_elements(By.CLASS_NAME, '_2-N8zT')\n",
    "review += [_.text for _ in review_element]\n",
    "summary_element = driver.find_elements(By.CLASS_NAME, 't-ZTKy')\n",
    "summary += [_.text for _ in summary_element]\n",
    "next_page = driver.find_elements(By.CLASS_NAME, '_1LKTO3')\n",
    "next_page[1].click()"
   ]
  },
  {
   "cell_type": "code",
   "execution_count": 740,
   "id": "b0147ff9",
   "metadata": {},
   "outputs": [],
   "source": [
    "rating_element = driver.find_elements(By.XPATH, '//div[@class=\"_3LWZlK _1BLPMq\"]')\n",
    "rating += [_.text for _ in rating_element]\n",
    "review_element = driver.find_elements(By.CLASS_NAME, '_2-N8zT')\n",
    "review += [_.text for _ in review_element]\n",
    "summary_element = driver.find_elements(By.CLASS_NAME, 't-ZTKy')\n",
    "summary += [_.text for _ in summary_element]\n",
    "next_page = driver.find_elements(By.CLASS_NAME, '_1LKTO3')\n",
    "next_page[1].click()"
   ]
  },
  {
   "cell_type": "code",
   "execution_count": 742,
   "id": "94853936",
   "metadata": {},
   "outputs": [],
   "source": [
    "rating_element = driver.find_elements(By.XPATH, '//div[@class=\"_3LWZlK _1BLPMq\"]')\n",
    "rating += [_.text for _ in rating_element]\n",
    "review_element = driver.find_elements(By.CLASS_NAME, '_2-N8zT')\n",
    "review += [_.text for _ in review_element]\n",
    "summary_element = driver.find_elements(By.CLASS_NAME, 't-ZTKy')\n",
    "summary += [_.text for _ in summary_element]\n",
    "next_page = driver.find_elements(By.CLASS_NAME, '_1LKTO3')\n",
    "next_page[1].click()"
   ]
  },
  {
   "cell_type": "code",
   "execution_count": 747,
   "id": "1ff4d03e",
   "metadata": {},
   "outputs": [],
   "source": [
    "rating_element = driver.find_elements(By.XPATH, '//div[@class=\"_3LWZlK _1BLPMq\"]')\n",
    "rating += [_.text for _ in rating_element]\n",
    "review_element = driver.find_elements(By.CLASS_NAME, '_2-N8zT')\n",
    "review += [_.text for _ in review_element]\n",
    "summary_element = driver.find_elements(By.CLASS_NAME, 't-ZTKy')\n",
    "summary += [_.text for _ in summary_element]\n",
    "next_page = driver.find_elements(By.CLASS_NAME, '_1LKTO3')\n",
    "next_page[1].click()"
   ]
  },
  {
   "cell_type": "code",
   "execution_count": 748,
   "id": "7dad6338",
   "metadata": {},
   "outputs": [],
   "source": [
    "rating_element = driver.find_elements(By.XPATH, '//div[@class=\"_3LWZlK _1BLPMq\"]')\n",
    "rating += [_.text for _ in rating_element]\n",
    "review_element = driver.find_elements(By.CLASS_NAME, '_2-N8zT')\n",
    "review += [_.text for _ in review_element]\n",
    "summary_element = driver.find_elements(By.CLASS_NAME, 't-ZTKy')\n",
    "summary += [_.text for _ in summary_element]\n",
    "next_page = driver.find_elements(By.CLASS_NAME, '_1LKTO3')\n",
    "next_page[1].click()"
   ]
  },
  {
   "cell_type": "code",
   "execution_count": 749,
   "id": "c225e76e",
   "metadata": {},
   "outputs": [],
   "source": [
    "df = pd.DataFrame(data = {\n",
    "    'Rating':rating[:100],\n",
    "    'Review':review[:100],\n",
    "    'Full Review':summary[:100]\n",
    "}, index = range(1, 101)\n",
    "                 )"
   ]
  },
  {
   "cell_type": "markdown",
   "id": "8dc6a129",
   "metadata": {},
   "source": [
    "# Question 6"
   ]
  },
  {
   "cell_type": "code",
   "execution_count": 821,
   "id": "c3966677",
   "metadata": {},
   "outputs": [],
   "source": [
    "s = Service(r'C:\\Users\\zobekenobe\\Desktop\\chromedriver.exe')\n",
    "driver = webdriver.Chrome(service = s)\n",
    "url = 'https://www.flipkart.com/'\n",
    "driver.get(url)"
   ]
  },
  {
   "cell_type": "code",
   "execution_count": 822,
   "id": "31dd3ebf",
   "metadata": {},
   "outputs": [],
   "source": [
    "\n",
    "close_window = driver.find_element(By.XPATH,'/html/body/div[2]/div/div/button').click()"
   ]
  },
  {
   "cell_type": "code",
   "execution_count": 823,
   "id": "2eb33b3b",
   "metadata": {},
   "outputs": [],
   "source": [
    "search_sunglasses = driver.find_element(By.CLASS_NAME, '_3704LK')\n",
    "search_sunglasses.clear()\n",
    "search_sunglasses.send_keys('sneakers')"
   ]
  },
  {
   "cell_type": "code",
   "execution_count": 824,
   "id": "79331c34",
   "metadata": {},
   "outputs": [],
   "source": [
    "driver.find_element(By.CLASS_NAME,'L0Z3Pu').click()"
   ]
  },
  {
   "cell_type": "code",
   "execution_count": 825,
   "id": "cc8344a7",
   "metadata": {},
   "outputs": [],
   "source": [
    "brand_df = []\n",
    "description_df = []\n",
    "price_df = []"
   ]
  },
  {
   "cell_type": "code",
   "execution_count": 826,
   "id": "e6754832",
   "metadata": {},
   "outputs": [],
   "source": [
    "brand = driver.find_elements(By.XPATH, '//div[@class=\"_2WkVRV\"]')\n",
    "brand_df += [_.text for _ in brand]\n",
    "description = driver.find_elements(By.XPATH, '//a[@class=\"IRpwTa\"]')\n",
    "description_df += [_.text for _ in description]\n",
    "price = driver.find_elements(By.XPATH, '//div[@class=\"_30jeq3\"]')    \n",
    "price_df += [_.text for _ in price]\n",
    "\n",
    "driver.implicitly_wait(20)\n",
    "test = driver.find_elements(By.CLASS_NAME,'_1LKTO3')\n",
    "test[0].click()"
   ]
  },
  {
   "cell_type": "code",
   "execution_count": 827,
   "id": "4129b522",
   "metadata": {},
   "outputs": [],
   "source": [
    "brand = driver.find_elements(By.XPATH, '//div[@class=\"_2WkVRV\"]')\n",
    "brand_df += [_.text for _ in brand]\n",
    "description = driver.find_elements(By.XPATH, '//a[@class=\"IRpwTa\"]')\n",
    "description_df += [_.text for _ in description]\n",
    "price = driver.find_elements(By.XPATH, '//div[@class=\"_30jeq3\"]')    \n",
    "price_df += [_.text for _ in price]\n",
    "\n",
    "driver.implicitly_wait(20)\n",
    "test = driver.find_elements(By.CLASS_NAME,'_1LKTO3')\n",
    "test[1].click()"
   ]
  },
  {
   "cell_type": "code",
   "execution_count": 830,
   "id": "341e1b12",
   "metadata": {},
   "outputs": [],
   "source": [
    "brand = driver.find_elements(By.XPATH, '//div[@class=\"_2WkVRV\"]')\n",
    "brand_df += [_.text for _ in brand]\n",
    "description = driver.find_elements(By.XPATH, '//a[@class=\"IRpwTa\"]')\n",
    "description_df += [_.text for _ in description]\n",
    "price = driver.find_elements(By.XPATH, '//div[@class=\"_30jeq3\"]')    \n",
    "price_df += [_.text for _ in price]\n",
    "\n",
    "driver.implicitly_wait(20)\n",
    "test = driver.find_elements(By.CLASS_NAME,'_1LKTO3')\n",
    "test[1].click()"
   ]
  },
  {
   "cell_type": "code",
   "execution_count": 831,
   "id": "9d40942e",
   "metadata": {},
   "outputs": [],
   "source": [
    "brand = driver.find_elements(By.XPATH, '//div[@class=\"_2WkVRV\"]')\n",
    "brand_df += [_.text for _ in brand]\n",
    "description = driver.find_elements(By.XPATH, '//a[@class=\"IRpwTa\"]')\n",
    "description_df += [_.text for _ in description]\n",
    "price = driver.find_elements(By.XPATH, '//div[@class=\"_30jeq3\"]')    \n",
    "price_df += [_.text for _ in price]"
   ]
  },
  {
   "cell_type": "code",
   "execution_count": 832,
   "id": "2e55f6f6",
   "metadata": {},
   "outputs": [],
   "source": [
    "df = pd.DataFrame(data = {\n",
    "    'Brand' : brand_df[:100],\n",
    "    'Description' : description_df[:100],\n",
    "    'Price' : price_df[:100]\n",
    "})"
   ]
  },
  {
   "cell_type": "code",
   "execution_count": 835,
   "id": "16b7a752",
   "metadata": {},
   "outputs": [
    {
     "data": {
      "text/html": [
       "<div>\n",
       "<style scoped>\n",
       "    .dataframe tbody tr th:only-of-type {\n",
       "        vertical-align: middle;\n",
       "    }\n",
       "\n",
       "    .dataframe tbody tr th {\n",
       "        vertical-align: top;\n",
       "    }\n",
       "\n",
       "    .dataframe thead th {\n",
       "        text-align: right;\n",
       "    }\n",
       "</style>\n",
       "<table border=\"1\" class=\"dataframe\">\n",
       "  <thead>\n",
       "    <tr style=\"text-align: right;\">\n",
       "      <th></th>\n",
       "      <th>Brand</th>\n",
       "      <th>Description</th>\n",
       "      <th>Price</th>\n",
       "    </tr>\n",
       "  </thead>\n",
       "  <tbody>\n",
       "    <tr>\n",
       "      <th>0</th>\n",
       "      <td>BRUTON</td>\n",
       "      <td>Lattest Sneakers Shoe Sneakers For Men</td>\n",
       "      <td>₹259</td>\n",
       "    </tr>\n",
       "    <tr>\n",
       "      <th>1</th>\n",
       "      <td>BRUTON</td>\n",
       "      <td>Lightweight Pack Of 1 Trendy Sneakers Sneakers...</td>\n",
       "      <td>₹189</td>\n",
       "    </tr>\n",
       "    <tr>\n",
       "      <th>2</th>\n",
       "      <td>Trendmode</td>\n",
       "      <td>white Casual shoes,Sneakers for men's Sneakers...</td>\n",
       "      <td>₹249</td>\n",
       "    </tr>\n",
       "    <tr>\n",
       "      <th>3</th>\n",
       "      <td>aadi</td>\n",
       "      <td>Puma Smash v2 L Sneakers For Men</td>\n",
       "      <td>₹399</td>\n",
       "    </tr>\n",
       "    <tr>\n",
       "      <th>4</th>\n",
       "      <td>Xtoon</td>\n",
       "      <td>Series 7 Sneakers For Men</td>\n",
       "      <td>₹479</td>\n",
       "    </tr>\n",
       "  </tbody>\n",
       "</table>\n",
       "</div>"
      ],
      "text/plain": [
       "       Brand                                        Description Price\n",
       "0     BRUTON             Lattest Sneakers Shoe Sneakers For Men  ₹259\n",
       "1     BRUTON  Lightweight Pack Of 1 Trendy Sneakers Sneakers...  ₹189\n",
       "2  Trendmode  white Casual shoes,Sneakers for men's Sneakers...  ₹249\n",
       "3       aadi                   Puma Smash v2 L Sneakers For Men  ₹399\n",
       "4      Xtoon                          Series 7 Sneakers For Men  ₹479"
      ]
     },
     "execution_count": 835,
     "metadata": {},
     "output_type": "execute_result"
    }
   ],
   "source": [
    "df.head()"
   ]
  },
  {
   "cell_type": "markdown",
   "id": "bb012324",
   "metadata": {},
   "source": [
    "# Question 7"
   ]
  },
  {
   "cell_type": "code",
   "execution_count": 941,
   "id": "64782bf0",
   "metadata": {},
   "outputs": [],
   "source": [
    "s = Service(r'C:\\Users\\zobekenobe\\Desktop\\chromedriver.exe')\n",
    "driver = webdriver.Chrome(service = s)"
   ]
  },
  {
   "cell_type": "code",
   "execution_count": 942,
   "id": "d4b553ac",
   "metadata": {},
   "outputs": [],
   "source": [
    "url = 'https://www.myntra.com/shoes'\n",
    "driver.get(url)"
   ]
  },
  {
   "cell_type": "code",
   "execution_count": 943,
   "id": "16a17cae",
   "metadata": {},
   "outputs": [],
   "source": [
    "driver.find_element(By.XPATH, '/html/body/div[2]/div/div[1]/main/div[3]/div[1]/section/div/div[5]/ul/li[2]/label').click()"
   ]
  },
  {
   "cell_type": "code",
   "execution_count": 944,
   "id": "cb3b5ab4",
   "metadata": {},
   "outputs": [],
   "source": [
    "driver.find_element(By.XPATH, '/html/body/div[2]/div/div[1]/main/div[3]/div[1]/section/div/div[6]/ul/li[1]/label').click()"
   ]
  },
  {
   "cell_type": "code",
   "execution_count": 945,
   "id": "d8f4f8b7",
   "metadata": {},
   "outputs": [],
   "source": [
    "brand = []\n",
    "price = []\n",
    "descr = []"
   ]
  },
  {
   "cell_type": "code",
   "execution_count": 947,
   "id": "c62eea5a",
   "metadata": {},
   "outputs": [],
   "source": [
    "brand_element = driver.find_elements(By.CLASS_NAME, 'product-brand')\n",
    "brand += [_.text for _ in brand_element]\n",
    "price_element = driver.find_elements(By.CLASS_NAME, 'product-price')\n",
    "price += [_.text for _ in price_element]"
   ]
  },
  {
   "cell_type": "code",
   "execution_count": 948,
   "id": "b731a91b",
   "metadata": {},
   "outputs": [],
   "source": [
    "descr_element = driver.find_elements(By.XPATH, '//h4[@class=\"product-product\"]')\n"
   ]
  },
  {
   "cell_type": "code",
   "execution_count": 949,
   "id": "553baf4b",
   "metadata": {},
   "outputs": [],
   "source": [
    "descr += [_.text for _ in descr_element]"
   ]
  },
  {
   "cell_type": "code",
   "execution_count": 950,
   "id": "33ffdb84",
   "metadata": {},
   "outputs": [],
   "source": [
    "driver.find_element(By.XPATH, '/html/body/div[2]/div/div[1]/main/div[3]/div[2]/div/div[2]/section/div[2]/ul/li[12]/a').click()"
   ]
  },
  {
   "cell_type": "code",
   "execution_count": 951,
   "id": "58cd2098",
   "metadata": {},
   "outputs": [],
   "source": [
    "driver.implicitly_wait(20)"
   ]
  },
  {
   "cell_type": "code",
   "execution_count": 952,
   "id": "6a70c2aa",
   "metadata": {},
   "outputs": [],
   "source": [
    "brand_element = driver.find_elements(By.CLASS_NAME, 'product-brand')\n",
    "brand += [_.text for _ in brand_element]\n",
    "price_element = driver.find_elements(By.CLASS_NAME, 'product-price')\n",
    "price += [_.text for _ in price_element]"
   ]
  },
  {
   "cell_type": "code",
   "execution_count": 953,
   "id": "480415f5",
   "metadata": {},
   "outputs": [],
   "source": [
    "descr_element = driver.find_elements(By.XPATH, '//h4[@class=\"product-product\"]')"
   ]
  },
  {
   "cell_type": "code",
   "execution_count": 954,
   "id": "217b11d9",
   "metadata": {},
   "outputs": [],
   "source": [
    "descr += [_.text for _ in descr_element]"
   ]
  },
  {
   "cell_type": "code",
   "execution_count": 955,
   "id": "32c9f596",
   "metadata": {},
   "outputs": [],
   "source": [
    "df = pd.DataFrame(data ={\n",
    "    'Brand':brand,\n",
    "    'Price':price,\n",
    "    'Description':descr\n",
    "}, index = range(1,101))"
   ]
  },
  {
   "cell_type": "code",
   "execution_count": 959,
   "id": "aa34a19f",
   "metadata": {},
   "outputs": [
    {
     "data": {
      "text/html": [
       "<div>\n",
       "<style scoped>\n",
       "    .dataframe tbody tr th:only-of-type {\n",
       "        vertical-align: middle;\n",
       "    }\n",
       "\n",
       "    .dataframe tbody tr th {\n",
       "        vertical-align: top;\n",
       "    }\n",
       "\n",
       "    .dataframe thead th {\n",
       "        text-align: right;\n",
       "    }\n",
       "</style>\n",
       "<table border=\"1\" class=\"dataframe\">\n",
       "  <thead>\n",
       "    <tr style=\"text-align: right;\">\n",
       "      <th></th>\n",
       "      <th>Brand</th>\n",
       "      <th>Price</th>\n",
       "      <th>Description</th>\n",
       "    </tr>\n",
       "  </thead>\n",
       "  <tbody>\n",
       "    <tr>\n",
       "      <th>1</th>\n",
       "      <td>Nike</td>\n",
       "      <td>Rs. 1199Rs. 3495(Rs. 2296 OFF)</td>\n",
       "      <td>Kids Revolution 4 Running</td>\n",
       "    </tr>\n",
       "    <tr>\n",
       "      <th>2</th>\n",
       "      <td>Puma</td>\n",
       "      <td>Rs. 3024Rs. 5499(45% OFF)</td>\n",
       "      <td>Women Enzo 2 Running Shoes</td>\n",
       "    </tr>\n",
       "    <tr>\n",
       "      <th>3</th>\n",
       "      <td>MENGLER</td>\n",
       "      <td>Rs. 759Rs. 3999(81% OFF)</td>\n",
       "      <td>Men Walking Shoes</td>\n",
       "    </tr>\n",
       "    <tr>\n",
       "      <th>4</th>\n",
       "      <td>Cultsport</td>\n",
       "      <td>Rs. 2989Rs. 4599(35% OFF)</td>\n",
       "      <td>Men RN02 Dazsh Running Shoes</td>\n",
       "    </tr>\n",
       "    <tr>\n",
       "      <th>5</th>\n",
       "      <td>HRX by Hrithik Roshan</td>\n",
       "      <td>Rs. 1639Rs. 4099(60% OFF)</td>\n",
       "      <td>Women Running Shoes</td>\n",
       "    </tr>\n",
       "  </tbody>\n",
       "</table>\n",
       "</div>"
      ],
      "text/plain": [
       "                   Brand                           Price  \\\n",
       "1                   Nike  Rs. 1199Rs. 3495(Rs. 2296 OFF)   \n",
       "2                   Puma       Rs. 3024Rs. 5499(45% OFF)   \n",
       "3                MENGLER        Rs. 759Rs. 3999(81% OFF)   \n",
       "4              Cultsport       Rs. 2989Rs. 4599(35% OFF)   \n",
       "5  HRX by Hrithik Roshan       Rs. 1639Rs. 4099(60% OFF)   \n",
       "\n",
       "                    Description  \n",
       "1     Kids Revolution 4 Running  \n",
       "2    Women Enzo 2 Running Shoes  \n",
       "3             Men Walking Shoes  \n",
       "4  Men RN02 Dazsh Running Shoes  \n",
       "5           Women Running Shoes  "
      ]
     },
     "execution_count": 959,
     "metadata": {},
     "output_type": "execute_result"
    }
   ],
   "source": [
    "df.head()"
   ]
  },
  {
   "cell_type": "markdown",
   "id": "4369a8d7",
   "metadata": {},
   "source": [
    "# Question 8"
   ]
  },
  {
   "cell_type": "code",
   "execution_count": 969,
   "id": "8f16d2dc",
   "metadata": {},
   "outputs": [],
   "source": [
    "s = Service(r'C:\\Users\\zobekenobe\\Desktop\\chromedriver.exe')\n",
    "driver = webdriver.Chrome(service = s)\n",
    "driver.get('https://www.amazon.in/')"
   ]
  },
  {
   "cell_type": "code",
   "execution_count": 970,
   "id": "cd2c48d8",
   "metadata": {},
   "outputs": [],
   "source": [
    "driver.find_element(By.XPATH, '/html/body/div[1]/header/div/div[1]/div[2]/div/form/div[2]/div[1]/input').send_keys('Laptop')"
   ]
  },
  {
   "cell_type": "code",
   "execution_count": 971,
   "id": "26954125",
   "metadata": {},
   "outputs": [],
   "source": [
    "driver.find_element(By.XPATH,'/html/body/div[1]/header/div/div[1]/div[2]/div/form/div[3]/div/span/input').click()"
   ]
  },
  {
   "cell_type": "code",
   "execution_count": 972,
   "id": "8e42331d",
   "metadata": {},
   "outputs": [],
   "source": [
    "str_i7 = '/html/body/div[1]/div[2]/div[1]/div[2]/div/div[3]/span/div[1]/div/div/div[6]/ul[3]/li[12]/span/a/span'\n",
    "str_i9 = '/html/body/div[1]/div[2]/div[1]/div[2]/div/div[3]/span/div[1]/div/div/div[6]/ul[3]/li[13]/span/a/span'"
   ]
  },
  {
   "cell_type": "code",
   "execution_count": 973,
   "id": "47d13b46",
   "metadata": {},
   "outputs": [],
   "source": [
    "filter_element = driver.find_element(By.XPATH, str_i7 and str_i9)"
   ]
  },
  {
   "cell_type": "code",
   "execution_count": 974,
   "id": "4893197f",
   "metadata": {},
   "outputs": [],
   "source": [
    "filter_element.click()"
   ]
  },
  {
   "cell_type": "code",
   "execution_count": 975,
   "id": "88c0fb49",
   "metadata": {},
   "outputs": [],
   "source": [
    "title = []\n",
    "rating= []\n",
    "price = []"
   ]
  },
  {
   "cell_type": "code",
   "execution_count": 978,
   "id": "c58293cc",
   "metadata": {},
   "outputs": [],
   "source": [
    "title_element = driver.find_elements(By.XPATH, '//span[@class = \"a-size-medium a-color-base a-text-normal\"]')\n",
    "title += [_.text for _ in title_element]"
   ]
  },
  {
   "cell_type": "code",
   "execution_count": 983,
   "id": "45ee2799",
   "metadata": {},
   "outputs": [],
   "source": [
    "rating_element = driver.find_elements(By.XPATH, '//span[@class=\"a-icon-alt\"]')\n",
    "rating += [_.text for _ in rating_element]"
   ]
  },
  {
   "cell_type": "code",
   "execution_count": 987,
   "id": "78056490",
   "metadata": {},
   "outputs": [
    {
     "data": {
      "text/plain": [
       "''"
      ]
     },
     "execution_count": 987,
     "metadata": {},
     "output_type": "execute_result"
    }
   ],
   "source": [
    "rating_element[0].text"
   ]
  },
  {
   "cell_type": "code",
   "execution_count": null,
   "id": "ac731813",
   "metadata": {},
   "outputs": [],
   "source": []
  },
  {
   "cell_type": "markdown",
   "id": "56a7d4f5",
   "metadata": {},
   "source": [
    "# Question 9"
   ]
  },
  {
   "cell_type": "code",
   "execution_count": 995,
   "id": "585e9a31",
   "metadata": {},
   "outputs": [],
   "source": [
    "s = Service(r'C:\\Users\\zobekenobe\\Desktop\\chromedriver.exe')\n",
    "driver = webdriver.Chrome(service = s)\n",
    "url = 'https://www.ambitionbox.com/'\n",
    "driver.get(url)"
   ]
  },
  {
   "cell_type": "code",
   "execution_count": 996,
   "id": "0897eb76",
   "metadata": {},
   "outputs": [],
   "source": [
    "driver.maximize_window()"
   ]
  },
  {
   "cell_type": "code",
   "execution_count": 997,
   "id": "50134f18",
   "metadata": {},
   "outputs": [],
   "source": [
    "driver.find_element(By.XPATH, '/html/body/footer/div[1]/div[3]/div/div[4]/a').click()"
   ]
  },
  {
   "cell_type": "code",
   "execution_count": 998,
   "id": "10d0f360",
   "metadata": {},
   "outputs": [],
   "source": [
    "driver.find_element(By.XPATH, '/html/body/div/div/div/div[2]/div[1]/div/div/div/div/span/input').send_keys('Data Scientist')"
   ]
  },
  {
   "cell_type": "code",
   "execution_count": 999,
   "id": "ea80fba6",
   "metadata": {},
   "outputs": [],
   "source": [
    "driver.find_element(By.XPATH, '/html/body/div/div/div/div[2]/div[1]/div/div/div/button/span').click()"
   ]
  },
  {
   "cell_type": "code",
   "execution_count": 1000,
   "id": "36fdc018",
   "metadata": {},
   "outputs": [],
   "source": [
    "driver.find_element(By.XPATH, '/html/body/div/div/div/div[2]/div[2]/div[1]/div/div/div/div[2]/div[1]/p').click()"
   ]
  },
  {
   "cell_type": "code",
   "execution_count": 1001,
   "id": "3ed5343f",
   "metadata": {},
   "outputs": [],
   "source": [
    "driver.find_element(By.XPATH, '/html/body/div/div/div/div[2]/div[2]/div[1]/div/div/div/div[2]/div[2]/div/div[2]/input').send_keys('Noida')"
   ]
  },
  {
   "cell_type": "code",
   "execution_count": 1002,
   "id": "c188bf83",
   "metadata": {},
   "outputs": [],
   "source": [
    "driver.find_element(By.XPATH, '/html/body/div/div/div/div[2]/div[2]/div[1]/div/div/div/div[2]/div[2]/div/div[3]/div[1]/div[1]/div/label').click()"
   ]
  },
  {
   "cell_type": "code",
   "execution_count": 1023,
   "id": "86b68fe5",
   "metadata": {},
   "outputs": [],
   "source": [
    "company = driver.find_elements(By.XPATH, '//p[@class = \"company body-medium\"]')"
   ]
  },
  {
   "cell_type": "code",
   "execution_count": 1030,
   "id": "9926d605",
   "metadata": {},
   "outputs": [],
   "source": [
    "days = driver.find_elements(By.XPATH, '//span[contains(text(),\"ago\")]')"
   ]
  },
  {
   "cell_type": "code",
   "execution_count": 1037,
   "id": "09c59467",
   "metadata": {},
   "outputs": [],
   "source": [
    "rating = driver.find_elements(By.XPATH, '//a[contains(@title,\"Rating\")]')"
   ]
  },
  {
   "cell_type": "code",
   "execution_count": 1031,
   "id": "41a9c31f",
   "metadata": {},
   "outputs": [],
   "source": [
    "company_df = [_.text for _ in company]"
   ]
  },
  {
   "cell_type": "code",
   "execution_count": 1032,
   "id": "ee9a1064",
   "metadata": {},
   "outputs": [],
   "source": [
    "days_df = [_.text for _ in days]"
   ]
  },
  {
   "cell_type": "code",
   "execution_count": 1041,
   "id": "73d6ecad",
   "metadata": {},
   "outputs": [],
   "source": [
    "rating_df = [_.text for _ in rating][1:]"
   ]
  },
  {
   "cell_type": "code",
   "execution_count": 1044,
   "id": "a6b4e70c",
   "metadata": {},
   "outputs": [],
   "source": [
    "df = pd.DataFrame(data = {\n",
    "    'Company name':company_df,\n",
    "    'Days since posted':days_df,\n",
    "    'Company rating':rating_df\n",
    "} ,index = range(1,11))"
   ]
  },
  {
   "cell_type": "code",
   "execution_count": 1045,
   "id": "acb168fc",
   "metadata": {},
   "outputs": [
    {
     "data": {
      "text/html": [
       "<div>\n",
       "<style scoped>\n",
       "    .dataframe tbody tr th:only-of-type {\n",
       "        vertical-align: middle;\n",
       "    }\n",
       "\n",
       "    .dataframe tbody tr th {\n",
       "        vertical-align: top;\n",
       "    }\n",
       "\n",
       "    .dataframe thead th {\n",
       "        text-align: right;\n",
       "    }\n",
       "</style>\n",
       "<table border=\"1\" class=\"dataframe\">\n",
       "  <thead>\n",
       "    <tr style=\"text-align: right;\">\n",
       "      <th></th>\n",
       "      <th>Company name</th>\n",
       "      <th>Days since posted</th>\n",
       "      <th>Company rating</th>\n",
       "    </tr>\n",
       "  </thead>\n",
       "  <tbody>\n",
       "    <tr>\n",
       "      <th>1</th>\n",
       "      <td>Jubilant Foodworks Limited</td>\n",
       "      <td>15d ago</td>\n",
       "      <td>3.9</td>\n",
       "    </tr>\n",
       "    <tr>\n",
       "      <th>2</th>\n",
       "      <td>HCL Technologies</td>\n",
       "      <td>28d ago</td>\n",
       "      <td>3.8</td>\n",
       "    </tr>\n",
       "    <tr>\n",
       "      <th>3</th>\n",
       "      <td>EY GDS</td>\n",
       "      <td>30d ago</td>\n",
       "      <td>3.7</td>\n",
       "    </tr>\n",
       "    <tr>\n",
       "      <th>4</th>\n",
       "      <td>Tavant Technologies India Pvt. Ltd.</td>\n",
       "      <td>9d ago</td>\n",
       "      <td>4.0</td>\n",
       "    </tr>\n",
       "    <tr>\n",
       "      <th>5</th>\n",
       "      <td>Denave India Pvt Ltd.</td>\n",
       "      <td>9d ago</td>\n",
       "      <td>4.0</td>\n",
       "    </tr>\n",
       "    <tr>\n",
       "      <th>6</th>\n",
       "      <td>EXL Service</td>\n",
       "      <td>22d ago</td>\n",
       "      <td>3.8</td>\n",
       "    </tr>\n",
       "    <tr>\n",
       "      <th>7</th>\n",
       "      <td>CHT Sapiense</td>\n",
       "      <td>3d ago</td>\n",
       "      <td>3.8</td>\n",
       "    </tr>\n",
       "    <tr>\n",
       "      <th>8</th>\n",
       "      <td>Pitney Bowes India Pvt ltd</td>\n",
       "      <td>29d ago</td>\n",
       "      <td>4.2</td>\n",
       "    </tr>\n",
       "    <tr>\n",
       "      <th>9</th>\n",
       "      <td>Zyoin</td>\n",
       "      <td>7d ago</td>\n",
       "      <td>4.1</td>\n",
       "    </tr>\n",
       "    <tr>\n",
       "      <th>10</th>\n",
       "      <td>Ameriprise Financial</td>\n",
       "      <td>1mon ago</td>\n",
       "      <td>4.0</td>\n",
       "    </tr>\n",
       "  </tbody>\n",
       "</table>\n",
       "</div>"
      ],
      "text/plain": [
       "                           Company name Days since posted Company rating\n",
       "1            Jubilant Foodworks Limited           15d ago            3.9\n",
       "2                      HCL Technologies           28d ago            3.8\n",
       "3                                EY GDS           30d ago            3.7\n",
       "4   Tavant Technologies India Pvt. Ltd.            9d ago            4.0\n",
       "5                 Denave India Pvt Ltd.            9d ago            4.0\n",
       "6                           EXL Service           22d ago            3.8\n",
       "7                          CHT Sapiense            3d ago            3.8\n",
       "8            Pitney Bowes India Pvt ltd           29d ago            4.2\n",
       "9                                 Zyoin            7d ago            4.1\n",
       "10                 Ameriprise Financial          1mon ago            4.0"
      ]
     },
     "execution_count": 1045,
     "metadata": {},
     "output_type": "execute_result"
    }
   ],
   "source": [
    "df"
   ]
  },
  {
   "cell_type": "markdown",
   "id": "7124e567",
   "metadata": {},
   "source": [
    "# Question 10"
   ]
  },
  {
   "cell_type": "code",
   "execution_count": 1046,
   "id": "48d47d1d",
   "metadata": {},
   "outputs": [],
   "source": [
    "s = Service(r'C:\\Users\\zobekenobe\\Desktop\\chromedriver.exe')\n",
    "driver = webdriver.Chrome(service = s)\n",
    "url = 'https://www.ambitionbox.com/'\n",
    "driver.get(url)"
   ]
  },
  {
   "cell_type": "code",
   "execution_count": 1047,
   "id": "4317b88d",
   "metadata": {},
   "outputs": [],
   "source": [
    "driver.find_element(By.XPATH, '/html/body/div[1]/nav/nav/a[4]').click()"
   ]
  },
  {
   "cell_type": "code",
   "execution_count": 1052,
   "id": "7f4f3d6a",
   "metadata": {},
   "outputs": [],
   "source": [
    "driver.find_element(By.XPATH, '/html/body/div/div/div/div[2]/div/div/div/div[1]/span/input').send_keys('Data Scientist')"
   ]
  },
  {
   "cell_type": "code",
   "execution_count": 1053,
   "id": "01097e34",
   "metadata": {},
   "outputs": [],
   "source": [
    "driver.find_element(By.XPATH, '/html/body/div/div/div/div[2]/div/div/div/button').click()"
   ]
  },
  {
   "cell_type": "markdown",
   "id": "aeb02e53",
   "metadata": {},
   "source": [
    "The website keeps redirecting the user to the reviews page and hence we select the suggested review about the data scientist salary"
   ]
  },
  {
   "cell_type": "code",
   "execution_count": 1056,
   "id": "9b3c3431",
   "metadata": {},
   "outputs": [],
   "source": [
    "driver.find_element(By.XPATH, '/html/body/section[1]/div/section/div/div/div/div/div/div/div[5]/div[2]/div/div/div[1]/div[1]/div[1]/div[1]/div/a').click()"
   ]
  },
  {
   "cell_type": "markdown",
   "id": "6a9d30af",
   "metadata": {},
   "source": [
    "switching windows, since the link keeps opening a new tab"
   ]
  },
  {
   "cell_type": "code",
   "execution_count": 1061,
   "id": "1408417c",
   "metadata": {},
   "outputs": [],
   "source": [
    "p = driver.current_window_handle"
   ]
  },
  {
   "cell_type": "code",
   "execution_count": 1063,
   "id": "f0353235",
   "metadata": {},
   "outputs": [],
   "source": [
    "c = driver.window_handles"
   ]
  },
  {
   "cell_type": "code",
   "execution_count": 1068,
   "id": "07ed788d",
   "metadata": {},
   "outputs": [],
   "source": [
    "for cw in c:\n",
    "    if(c!=p):\n",
    "        driver.switch_to.window(cw)"
   ]
  },
  {
   "cell_type": "code",
   "execution_count": 1069,
   "id": "0c89eadc",
   "metadata": {},
   "outputs": [],
   "source": [
    "company_info_element = driver.find_elements(By.XPATH, '//div[@class=\"company-info\"]')"
   ]
  },
  {
   "cell_type": "code",
   "execution_count": 1128,
   "id": "4b4c4248",
   "metadata": {},
   "outputs": [],
   "source": [
    "company_info = [_.text.split('\\n') for _ in company_info_element]"
   ]
  },
  {
   "cell_type": "code",
   "execution_count": 1129,
   "id": "08dcdf98",
   "metadata": {},
   "outputs": [],
   "source": [
    "company_name = []\n",
    "salaries = []\n",
    "exp = []\n",
    "for relevant_info in company_info:\n",
    "    company_name.append(relevant_info[0])\n",
    "    salaries.append(relevant_info[1])\n",
    "    exp.append(relevant_info[3])"
   ]
  },
  {
   "cell_type": "code",
   "execution_count": 1120,
   "id": "34ddc985",
   "metadata": {},
   "outputs": [],
   "source": [
    "salary_ranges_element = driver.find_elements(By.XPATH, '//div[@class=\"result-col salary-range\"]')"
   ]
  },
  {
   "cell_type": "code",
   "execution_count": 1123,
   "id": "0e1b622b",
   "metadata": {},
   "outputs": [],
   "source": [
    "salary_ranges = [_.text.split('\\n') for _ in salary_ranges_element]"
   ]
  },
  {
   "cell_type": "code",
   "execution_count": 1124,
   "id": "7a366c1e",
   "metadata": {},
   "outputs": [],
   "source": [
    "salary_min = []\n",
    "salary_max = []\n",
    "salary_avg = []"
   ]
  },
  {
   "cell_type": "code",
   "execution_count": 1126,
   "id": "9cc237dd",
   "metadata": {},
   "outputs": [],
   "source": [
    "for s in salary_ranges:\n",
    "    salary_avg.append(s[0])\n",
    "    salary_min.append(s[1])\n",
    "    salary_max.append(s[2])"
   ]
  },
  {
   "cell_type": "code",
   "execution_count": 1130,
   "id": "828bc56f",
   "metadata": {},
   "outputs": [],
   "source": [
    "df = pd.DataFrame(data={\n",
    "    'Company Name':company_name,\n",
    "    'Salaries record':salaries,\n",
    "    'Experiene required':exp,\n",
    "    'Salary Minimum':salary_min,\n",
    "    'Salary Average':salary_avg,\n",
    "    'Salary Maximum':salary_max\n",
    "}, index = range(1, 11))"
   ]
  },
  {
   "cell_type": "code",
   "execution_count": 1131,
   "id": "f6255e64",
   "metadata": {},
   "outputs": [
    {
     "data": {
      "text/html": [
       "<div>\n",
       "<style scoped>\n",
       "    .dataframe tbody tr th:only-of-type {\n",
       "        vertical-align: middle;\n",
       "    }\n",
       "\n",
       "    .dataframe tbody tr th {\n",
       "        vertical-align: top;\n",
       "    }\n",
       "\n",
       "    .dataframe thead th {\n",
       "        text-align: right;\n",
       "    }\n",
       "</style>\n",
       "<table border=\"1\" class=\"dataframe\">\n",
       "  <thead>\n",
       "    <tr style=\"text-align: right;\">\n",
       "      <th></th>\n",
       "      <th>Company Name</th>\n",
       "      <th>Salaries record</th>\n",
       "      <th>Experiene required</th>\n",
       "      <th>Salary Minimum</th>\n",
       "      <th>Salary Average</th>\n",
       "      <th>Salary Maximum</th>\n",
       "    </tr>\n",
       "  </thead>\n",
       "  <tbody>\n",
       "    <tr>\n",
       "      <th>1</th>\n",
       "      <td>TCS</td>\n",
       "      <td>(699 Salaries)</td>\n",
       "      <td>2-9 yrs exp</td>\n",
       "      <td>₹ 4.5L</td>\n",
       "      <td>₹ 7.5L</td>\n",
       "      <td>₹ 15.0L</td>\n",
       "    </tr>\n",
       "    <tr>\n",
       "      <th>2</th>\n",
       "      <td>Accenture</td>\n",
       "      <td>(422 Salaries)</td>\n",
       "      <td>2-9 yrs exp</td>\n",
       "      <td>₹ 5.5L</td>\n",
       "      <td>₹ 12.3L</td>\n",
       "      <td>₹ 23.0L</td>\n",
       "    </tr>\n",
       "    <tr>\n",
       "      <th>3</th>\n",
       "      <td>IBM</td>\n",
       "      <td>(341 Salaries)</td>\n",
       "      <td>2-12 yrs exp</td>\n",
       "      <td>₹ 5.1L</td>\n",
       "      <td>₹ 12.8L</td>\n",
       "      <td>₹ 25.0L</td>\n",
       "    </tr>\n",
       "    <tr>\n",
       "      <th>4</th>\n",
       "      <td>Cognizant</td>\n",
       "      <td>(267 Salaries)</td>\n",
       "      <td>2-11 yrs exp</td>\n",
       "      <td>₹ 5.0L</td>\n",
       "      <td>₹ 9.4L</td>\n",
       "      <td>₹ 17.0L</td>\n",
       "    </tr>\n",
       "    <tr>\n",
       "      <th>5</th>\n",
       "      <td>Capgemini</td>\n",
       "      <td>(262 Salaries)</td>\n",
       "      <td>2-8 yrs exp</td>\n",
       "      <td>₹ 4.5L</td>\n",
       "      <td>₹ 8.2L</td>\n",
       "      <td>₹ 14.5L</td>\n",
       "    </tr>\n",
       "    <tr>\n",
       "      <th>6</th>\n",
       "      <td>Tech Mahindra</td>\n",
       "      <td>(201 Salaries)</td>\n",
       "      <td>2-13 yrs exp</td>\n",
       "      <td>₹ 4.1L</td>\n",
       "      <td>₹ 7.8L</td>\n",
       "      <td>₹ 16.4L</td>\n",
       "    </tr>\n",
       "    <tr>\n",
       "      <th>7</th>\n",
       "      <td>Infosys</td>\n",
       "      <td>(191 Salaries)</td>\n",
       "      <td>2-8 yrs exp</td>\n",
       "      <td>₹ 4.5L</td>\n",
       "      <td>₹ 8.8L</td>\n",
       "      <td>₹ 21.0L</td>\n",
       "    </tr>\n",
       "    <tr>\n",
       "      <th>8</th>\n",
       "      <td>Wipro</td>\n",
       "      <td>(187 Salaries)</td>\n",
       "      <td>2-9 yrs exp</td>\n",
       "      <td>₹ 4.4L</td>\n",
       "      <td>₹ 9.4L</td>\n",
       "      <td>₹ 18.2L</td>\n",
       "    </tr>\n",
       "    <tr>\n",
       "      <th>9</th>\n",
       "      <td>Deloitte</td>\n",
       "      <td>(131 Salaries)</td>\n",
       "      <td>1-7 yrs exp</td>\n",
       "      <td>₹ 6.9L</td>\n",
       "      <td>₹ 12.9L</td>\n",
       "      <td>₹ 24.0L</td>\n",
       "    </tr>\n",
       "    <tr>\n",
       "      <th>10</th>\n",
       "      <td>Fractal Analytics</td>\n",
       "      <td>(131 Salaries)</td>\n",
       "      <td>2-6 yrs exp</td>\n",
       "      <td>₹ 9.5L</td>\n",
       "      <td>₹ 15.3L</td>\n",
       "      <td>₹ 22.4L</td>\n",
       "    </tr>\n",
       "  </tbody>\n",
       "</table>\n",
       "</div>"
      ],
      "text/plain": [
       "         Company Name Salaries record Experiene required Salary Minimum  \\\n",
       "1                 TCS  (699 Salaries)        2-9 yrs exp         ₹ 4.5L   \n",
       "2           Accenture  (422 Salaries)        2-9 yrs exp         ₹ 5.5L   \n",
       "3                 IBM  (341 Salaries)       2-12 yrs exp         ₹ 5.1L   \n",
       "4           Cognizant  (267 Salaries)       2-11 yrs exp         ₹ 5.0L   \n",
       "5           Capgemini  (262 Salaries)        2-8 yrs exp         ₹ 4.5L   \n",
       "6       Tech Mahindra  (201 Salaries)       2-13 yrs exp         ₹ 4.1L   \n",
       "7             Infosys  (191 Salaries)        2-8 yrs exp         ₹ 4.5L   \n",
       "8               Wipro  (187 Salaries)        2-9 yrs exp         ₹ 4.4L   \n",
       "9            Deloitte  (131 Salaries)        1-7 yrs exp         ₹ 6.9L   \n",
       "10  Fractal Analytics  (131 Salaries)        2-6 yrs exp         ₹ 9.5L   \n",
       "\n",
       "   Salary Average Salary Maximum  \n",
       "1          ₹ 7.5L        ₹ 15.0L  \n",
       "2         ₹ 12.3L        ₹ 23.0L  \n",
       "3         ₹ 12.8L        ₹ 25.0L  \n",
       "4          ₹ 9.4L        ₹ 17.0L  \n",
       "5          ₹ 8.2L        ₹ 14.5L  \n",
       "6          ₹ 7.8L        ₹ 16.4L  \n",
       "7          ₹ 8.8L        ₹ 21.0L  \n",
       "8          ₹ 9.4L        ₹ 18.2L  \n",
       "9         ₹ 12.9L        ₹ 24.0L  \n",
       "10        ₹ 15.3L        ₹ 22.4L  "
      ]
     },
     "execution_count": 1131,
     "metadata": {},
     "output_type": "execute_result"
    }
   ],
   "source": [
    "df"
   ]
  },
  {
   "cell_type": "code",
   "execution_count": null,
   "id": "4e0e36ed",
   "metadata": {},
   "outputs": [],
   "source": []
  }
 ],
 "metadata": {
  "kernelspec": {
   "display_name": "Python 3 (ipykernel)",
   "language": "python",
   "name": "python3"
  },
  "language_info": {
   "codemirror_mode": {
    "name": "ipython",
    "version": 3
   },
   "file_extension": ".py",
   "mimetype": "text/x-python",
   "name": "python",
   "nbconvert_exporter": "python",
   "pygments_lexer": "ipython3",
   "version": "3.9.10"
  }
 },
 "nbformat": 4,
 "nbformat_minor": 5
}
