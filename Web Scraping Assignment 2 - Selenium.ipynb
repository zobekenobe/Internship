{
 "cells": [
  {
   "cell_type": "code",
   "execution_count": 380,
   "id": "236b53de",
   "metadata": {},
   "outputs": [],
   "source": [
    "import pandas as pd\n",
    "import numpy as np\n",
    "import selenium\n",
    "from selenium import webdriver\n",
    "from selenium.webdriver.common.by import By\n",
    "from selenium.webdriver.chrome.service import Service\n",
    "\n",
    "from selenium.webdriver.support.ui import WebDriverWait\n",
    "from selenium.webdriver.support import expected_conditions as EC"
   ]
  },
  {
   "cell_type": "markdown",
   "id": "2a6c43a5",
   "metadata": {},
   "source": [
    "# Question 1"
   ]
  },
  {
   "cell_type": "code",
   "execution_count": 16,
   "id": "96baa8ff",
   "metadata": {},
   "outputs": [],
   "source": [
    "s   = Service(r'C:\\Users\\zobekenobe\\Desktop\\chromedriver.exe')\n",
    "driver = webdriver.Chrome(service = s)"
   ]
  },
  {
   "cell_type": "code",
   "execution_count": 17,
   "id": "c2c4a730",
   "metadata": {},
   "outputs": [],
   "source": [
    "url = 'https://www.naukri.com/'\n",
    "driver.get(url)\n",
    "driver.delete_all_cookies()"
   ]
  },
  {
   "cell_type": "code",
   "execution_count": 18,
   "id": "3e64edf5",
   "metadata": {},
   "outputs": [],
   "source": [
    "search_jobs = driver.find_element(By.CLASS_NAME, 'suggestor-input')\n",
    "search_jobs.clear()\n",
    "search_jobs.send_keys('Data Analyst')"
   ]
  },
  {
   "cell_type": "code",
   "execution_count": 19,
   "id": "e13a38a3",
   "metadata": {},
   "outputs": [],
   "source": [
    "search_location = driver.find_element(By.XPATH, '/html/body/div/div[2]/div[4]/div/div/div[3]/div/div/div/input')\n",
    "search_location.clear()\n",
    "search_location.send_keys('Bangalore')"
   ]
  },
  {
   "cell_type": "code",
   "execution_count": 20,
   "id": "ef8ac61f",
   "metadata": {},
   "outputs": [],
   "source": [
    "search_button = driver.find_element(By.CLASS_NAME,'qsbSubmit')"
   ]
  },
  {
   "cell_type": "code",
   "execution_count": 21,
   "id": "23fa1576",
   "metadata": {},
   "outputs": [],
   "source": [
    "search_button.click()"
   ]
  },
  {
   "cell_type": "code",
   "execution_count": 28,
   "id": "c9839e5d",
   "metadata": {},
   "outputs": [],
   "source": [
    "job_title = driver.find_elements(By.XPATH, '//a[@class=\"title fw500 ellipsis\"]')"
   ]
  },
  {
   "cell_type": "code",
   "execution_count": 29,
   "id": "409735f9",
   "metadata": {},
   "outputs": [],
   "source": [
    "experience = driver.find_elements(By.XPATH, '//span[contains(@title,\"Yrs\")]')"
   ]
  },
  {
   "cell_type": "code",
   "execution_count": 30,
   "id": "e3ed92ee",
   "metadata": {},
   "outputs": [],
   "source": [
    "company = driver.find_elements(By.XPATH, '//a[@class=\"subTitle ellipsis fleft\"]')"
   ]
  },
  {
   "cell_type": "code",
   "execution_count": 31,
   "id": "c5698f10",
   "metadata": {},
   "outputs": [],
   "source": [
    "location = driver.find_elements(By.XPATH, '//li[@class=\"fleft grey-text br2 placeHolderLi location\"]')"
   ]
  },
  {
   "cell_type": "code",
   "execution_count": 36,
   "id": "1138775a",
   "metadata": {},
   "outputs": [],
   "source": [
    "jobs_df = [_.text for _ in job_title][:10]\n",
    "location_df = [_.text for _ in location][:10]\n",
    "company_df = [_.text for _ in company][:10]\n",
    "experience_df = [_.text for _ in experience][:10]"
   ]
  },
  {
   "cell_type": "code",
   "execution_count": 43,
   "id": "59f772ba",
   "metadata": {},
   "outputs": [],
   "source": [
    "df = pd.DataFrame(data = {\n",
    "    'Job Title' : jobs_df,\n",
    "    'Company Location' : location_df,\n",
    "    'Company Name' : company_df,\n",
    "    'Experience Required' : experience_df\n",
    "}, index = np.arange(1,11))\n",
    "\n"
   ]
  },
  {
   "cell_type": "markdown",
   "id": "16f1e33e",
   "metadata": {},
   "source": [
    "# Question 2"
   ]
  },
  {
   "cell_type": "code",
   "execution_count": 61,
   "id": "9d9de5a0",
   "metadata": {},
   "outputs": [],
   "source": [
    "s = Service(r'C:\\Users\\zobekenobe\\Desktop\\chromedriver.exe')\n",
    "driver = webdriver.Chrome(service = s)"
   ]
  },
  {
   "cell_type": "code",
   "execution_count": 62,
   "id": "4d1d5fa5",
   "metadata": {},
   "outputs": [],
   "source": [
    "url = 'https://www.naukri.com/'\n",
    "driver.get(url)\n",
    "driver.delete_all_cookies()"
   ]
  },
  {
   "cell_type": "code",
   "execution_count": 63,
   "id": "dd31eaef",
   "metadata": {},
   "outputs": [],
   "source": [
    "search_jobTitle = driver.find_element(By.CLASS_NAME, 'suggestor-input')\n",
    "search_jobTitle.clear()\n",
    "search_jobTitle.send_keys('Data Scientist')"
   ]
  },
  {
   "cell_type": "code",
   "execution_count": 64,
   "id": "52ce3d79",
   "metadata": {},
   "outputs": [],
   "source": [
    "search_location = driver.find_element(By.XPATH, '/html/body/div/div[2]/div[4]/div/div/div[3]/div/div/div/input')\n",
    "search_location.clear()\n",
    "search_location.send_keys('Bangalore')"
   ]
  },
  {
   "cell_type": "code",
   "execution_count": 65,
   "id": "b33d939f",
   "metadata": {},
   "outputs": [],
   "source": [
    "search_button = driver.find_element(By.CLASS_NAME,'qsbSubmit')"
   ]
  },
  {
   "cell_type": "code",
   "execution_count": 66,
   "id": "ed9d557a",
   "metadata": {},
   "outputs": [],
   "source": [
    "search_button.click()"
   ]
  },
  {
   "cell_type": "code",
   "execution_count": 67,
   "id": "912434ef",
   "metadata": {},
   "outputs": [],
   "source": [
    "job_title = driver.find_elements(By.XPATH, '//a[@class=\"title fw500 ellipsis\"]')"
   ]
  },
  {
   "cell_type": "code",
   "execution_count": 68,
   "id": "f78c393e",
   "metadata": {},
   "outputs": [],
   "source": [
    "location = driver.find_elements(By.XPATH, '//li[@class=\"fleft grey-text br2 placeHolderLi location\"]')"
   ]
  },
  {
   "cell_type": "code",
   "execution_count": 69,
   "id": "78a49985",
   "metadata": {},
   "outputs": [],
   "source": [
    "company = driver.find_elements(By.XPATH, '//a[@class=\"subTitle ellipsis fleft\"]')"
   ]
  },
  {
   "cell_type": "code",
   "execution_count": 70,
   "id": "2bb2a64f",
   "metadata": {},
   "outputs": [],
   "source": [
    "jobs_df = [_.text for _ in job_title][:10]\n",
    "location_df = [_.text for _ in location][:10]\n",
    "company_df = [_.text for _ in company][:10]"
   ]
  },
  {
   "cell_type": "code",
   "execution_count": 71,
   "id": "366e6600",
   "metadata": {},
   "outputs": [],
   "source": [
    "df = pd.DataFrame(data = {\n",
    "    'Job Title' : jobs_df,\n",
    "    'Company Location' : location_df,\n",
    "    'Company Name' : company_df,\n",
    "}, index = np.arange(1,11))"
   ]
  },
  {
   "cell_type": "code",
   "execution_count": 72,
   "id": "84bd49f4",
   "metadata": {},
   "outputs": [
    {
     "data": {
      "text/html": [
       "<div>\n",
       "<style scoped>\n",
       "    .dataframe tbody tr th:only-of-type {\n",
       "        vertical-align: middle;\n",
       "    }\n",
       "\n",
       "    .dataframe tbody tr th {\n",
       "        vertical-align: top;\n",
       "    }\n",
       "\n",
       "    .dataframe thead th {\n",
       "        text-align: right;\n",
       "    }\n",
       "</style>\n",
       "<table border=\"1\" class=\"dataframe\">\n",
       "  <thead>\n",
       "    <tr style=\"text-align: right;\">\n",
       "      <th></th>\n",
       "      <th>Job Title</th>\n",
       "      <th>Company Location</th>\n",
       "      <th>Company Name</th>\n",
       "    </tr>\n",
       "  </thead>\n",
       "  <tbody>\n",
       "    <tr>\n",
       "      <th>1</th>\n",
       "      <td>Senior Data Scientist</td>\n",
       "      <td>Chennai, Bangalore/Bengaluru</td>\n",
       "      <td>Shell</td>\n",
       "    </tr>\n",
       "    <tr>\n",
       "      <th>2</th>\n",
       "      <td>Global Tax Automation &amp; Operations - Data Scie...</td>\n",
       "      <td>Bangalore/Bengaluru</td>\n",
       "      <td>Dell</td>\n",
       "    </tr>\n",
       "    <tr>\n",
       "      <th>3</th>\n",
       "      <td>Lead Data Scientist - Machine Learning/ Data M...</td>\n",
       "      <td>Bangalore/Bengaluru</td>\n",
       "      <td>Wrackle Technologies Pvt Ltd</td>\n",
       "    </tr>\n",
       "    <tr>\n",
       "      <th>4</th>\n",
       "      <td>Opportunity For Data Scientist Internship - Be...</td>\n",
       "      <td>Indore, Bangalore/Bengaluru\\n(WFH during Covid)</td>\n",
       "      <td>Corner Stone Solutions</td>\n",
       "    </tr>\n",
       "    <tr>\n",
       "      <th>5</th>\n",
       "      <td>Louis Dreyfus Company Looking For Data Scientist</td>\n",
       "      <td>Bangalore/Bengaluru</td>\n",
       "      <td>Louis Dreyfus Commodities</td>\n",
       "    </tr>\n",
       "    <tr>\n",
       "      <th>6</th>\n",
       "      <td>Data Scientist: Advanced Analytics</td>\n",
       "      <td>Bangalore/Bengaluru</td>\n",
       "      <td>IBM</td>\n",
       "    </tr>\n",
       "    <tr>\n",
       "      <th>7</th>\n",
       "      <td>Data Scientist: Advanced Analytics</td>\n",
       "      <td>Bangalore/Bengaluru</td>\n",
       "      <td>IBM</td>\n",
       "    </tr>\n",
       "    <tr>\n",
       "      <th>8</th>\n",
       "      <td>GSC Operational Analytics Data Scientist</td>\n",
       "      <td>Bangalore/Bengaluru</td>\n",
       "      <td>Intel</td>\n",
       "    </tr>\n",
       "    <tr>\n",
       "      <th>9</th>\n",
       "      <td>Data Scientist: Artificial Intelligence</td>\n",
       "      <td>Bangalore/Bengaluru</td>\n",
       "      <td>IBM</td>\n",
       "    </tr>\n",
       "    <tr>\n",
       "      <th>10</th>\n",
       "      <td>Data Scientist: Artificial Intelligence</td>\n",
       "      <td>Bangalore/Bengaluru</td>\n",
       "      <td>IBM</td>\n",
       "    </tr>\n",
       "  </tbody>\n",
       "</table>\n",
       "</div>"
      ],
      "text/plain": [
       "                                            Job Title  \\\n",
       "1                               Senior Data Scientist   \n",
       "2   Global Tax Automation & Operations - Data Scie...   \n",
       "3   Lead Data Scientist - Machine Learning/ Data M...   \n",
       "4   Opportunity For Data Scientist Internship - Be...   \n",
       "5    Louis Dreyfus Company Looking For Data Scientist   \n",
       "6                  Data Scientist: Advanced Analytics   \n",
       "7                  Data Scientist: Advanced Analytics   \n",
       "8            GSC Operational Analytics Data Scientist   \n",
       "9             Data Scientist: Artificial Intelligence   \n",
       "10            Data Scientist: Artificial Intelligence   \n",
       "\n",
       "                                   Company Location  \\\n",
       "1                      Chennai, Bangalore/Bengaluru   \n",
       "2                               Bangalore/Bengaluru   \n",
       "3                               Bangalore/Bengaluru   \n",
       "4   Indore, Bangalore/Bengaluru\\n(WFH during Covid)   \n",
       "5                               Bangalore/Bengaluru   \n",
       "6                               Bangalore/Bengaluru   \n",
       "7                               Bangalore/Bengaluru   \n",
       "8                               Bangalore/Bengaluru   \n",
       "9                               Bangalore/Bengaluru   \n",
       "10                              Bangalore/Bengaluru   \n",
       "\n",
       "                    Company Name  \n",
       "1                          Shell  \n",
       "2                           Dell  \n",
       "3   Wrackle Technologies Pvt Ltd  \n",
       "4         Corner Stone Solutions  \n",
       "5      Louis Dreyfus Commodities  \n",
       "6                            IBM  \n",
       "7                            IBM  \n",
       "8                          Intel  \n",
       "9                            IBM  \n",
       "10                           IBM  "
      ]
     },
     "execution_count": 72,
     "metadata": {},
     "output_type": "execute_result"
    }
   ],
   "source": [
    "df"
   ]
  },
  {
   "cell_type": "markdown",
   "id": "d0ac4098",
   "metadata": {},
   "source": [
    "# Question 3"
   ]
  },
  {
   "cell_type": "code",
   "execution_count": 92,
   "id": "03edbfad",
   "metadata": {},
   "outputs": [],
   "source": [
    "s = Service(r'C:\\Users\\zobekenobe\\Desktop\\chromedriver.exe')\n",
    "driver = webdriver.Chrome(service = s)"
   ]
  },
  {
   "cell_type": "code",
   "execution_count": 93,
   "id": "08d23adc",
   "metadata": {},
   "outputs": [],
   "source": [
    "url = 'https://naukri.com'\n",
    "driver.get(url)\n",
    "driver.delete_all_cookies()"
   ]
  },
  {
   "cell_type": "code",
   "execution_count": 94,
   "id": "3a2f3ae3",
   "metadata": {},
   "outputs": [],
   "source": [
    "search_jobTitle = driver.find_element(By.CLASS_NAME, 'suggestor-input')\n",
    "search_jobTitle.clear()\n",
    "search_jobTitle.send_keys('Data Scientist')"
   ]
  },
  {
   "cell_type": "code",
   "execution_count": 95,
   "id": "d73cea9a",
   "metadata": {},
   "outputs": [],
   "source": [
    "search_button = driver.find_element(By.CLASS_NAME, 'qsbSubmit')"
   ]
  },
  {
   "cell_type": "code",
   "execution_count": 96,
   "id": "fd115699",
   "metadata": {},
   "outputs": [],
   "source": [
    "search_button.click()"
   ]
  },
  {
   "cell_type": "code",
   "execution_count": 97,
   "id": "8a6178ca",
   "metadata": {},
   "outputs": [],
   "source": [
    "location_filter = driver.find_element(By.XPATH, '//span[contains(@title,\"Delhi / NCR\")]')\n",
    "driver.delete_all_cookies()"
   ]
  },
  {
   "cell_type": "code",
   "execution_count": 98,
   "id": "4d2e560a",
   "metadata": {},
   "outputs": [],
   "source": [
    "location_filter.click()"
   ]
  },
  {
   "cell_type": "code",
   "execution_count": 99,
   "id": "9bb67364",
   "metadata": {},
   "outputs": [],
   "source": [
    "salary_filter = driver.find_element(By.XPATH, '/html/body/div[1]/div[3]/div[2]/section[1]/div[2]/div[4]/div[2]/div[2]/label/p/span[1]')\n",
    "driver.delete_all_cookies()"
   ]
  },
  {
   "cell_type": "code",
   "execution_count": 100,
   "id": "ab5e1bf9",
   "metadata": {},
   "outputs": [],
   "source": [
    "salary_filter.click()"
   ]
  },
  {
   "cell_type": "code",
   "execution_count": 101,
   "id": "3ae8d642",
   "metadata": {},
   "outputs": [],
   "source": [
    "job_title = driver.find_elements(By.XPATH, '//a[@class=\"title fw500 ellipsis\"]')"
   ]
  },
  {
   "cell_type": "code",
   "execution_count": 102,
   "id": "a03ca7e3",
   "metadata": {},
   "outputs": [],
   "source": [
    "location = driver.find_elements(By.XPATH, '//li[@class=\"fleft grey-text br2 placeHolderLi location\"]')"
   ]
  },
  {
   "cell_type": "code",
   "execution_count": 103,
   "id": "2e70957b",
   "metadata": {},
   "outputs": [],
   "source": [
    "company = driver.find_elements(By.XPATH, '//a[@class=\"subTitle ellipsis fleft\"]')"
   ]
  },
  {
   "cell_type": "code",
   "execution_count": 104,
   "id": "795437c3",
   "metadata": {},
   "outputs": [],
   "source": [
    "experience = driver.find_elements(By.XPATH, '//span[contains(@title,\"Yrs\")]')"
   ]
  },
  {
   "cell_type": "code",
   "execution_count": 105,
   "id": "93b1d8cb",
   "metadata": {},
   "outputs": [],
   "source": [
    "jobs_df = [_.text for _ in job_title][:10]\n",
    "location_df = [_.text for _ in location][:10]\n",
    "company_df = [_.text for _ in company][:10]\n",
    "experience_df = [_.text for _ in experience][:10]"
   ]
  },
  {
   "cell_type": "code",
   "execution_count": 109,
   "id": "462d0a69",
   "metadata": {},
   "outputs": [],
   "source": [
    "df = pd.DataFrame(data = {\n",
    "    'Job Title' : jobs_df,\n",
    "    'Company Location' : location_df,\n",
    "    'Company Name' : company_df,\n",
    "    'Experience Required' : experience_df\n",
    "}, index = np.arange(1,11))"
   ]
  },
  {
   "cell_type": "code",
   "execution_count": 110,
   "id": "d3639ab8",
   "metadata": {
    "scrolled": true
   },
   "outputs": [
    {
     "data": {
      "text/html": [
       "<div>\n",
       "<style scoped>\n",
       "    .dataframe tbody tr th:only-of-type {\n",
       "        vertical-align: middle;\n",
       "    }\n",
       "\n",
       "    .dataframe tbody tr th {\n",
       "        vertical-align: top;\n",
       "    }\n",
       "\n",
       "    .dataframe thead th {\n",
       "        text-align: right;\n",
       "    }\n",
       "</style>\n",
       "<table border=\"1\" class=\"dataframe\">\n",
       "  <thead>\n",
       "    <tr style=\"text-align: right;\">\n",
       "      <th></th>\n",
       "      <th>Job Title</th>\n",
       "      <th>Company Location</th>\n",
       "      <th>Company Name</th>\n",
       "      <th>Experience Required</th>\n",
       "    </tr>\n",
       "  </thead>\n",
       "  <tbody>\n",
       "    <tr>\n",
       "      <th>1</th>\n",
       "      <td>Data Scientist</td>\n",
       "      <td>New Delhi</td>\n",
       "      <td>CHANGE LEADERS CONSULTING</td>\n",
       "      <td>3-8 Yrs</td>\n",
       "    </tr>\n",
       "    <tr>\n",
       "      <th>2</th>\n",
       "      <td>Data Scientist</td>\n",
       "      <td>Gurgaon/Gurugram, Chennai\\n(WFH during Covid)</td>\n",
       "      <td>DECISION POINT PRIVATE LIMITED</td>\n",
       "      <td>1-6 Yrs</td>\n",
       "    </tr>\n",
       "    <tr>\n",
       "      <th>3</th>\n",
       "      <td>Opening For Data Scientist</td>\n",
       "      <td>Gurgaon/Gurugram</td>\n",
       "      <td>Care Health Insurance</td>\n",
       "      <td>1-5 Yrs</td>\n",
       "    </tr>\n",
       "    <tr>\n",
       "      <th>4</th>\n",
       "      <td>Data Scientist | A Fintech Organisation</td>\n",
       "      <td>Gurgaon/Gurugram</td>\n",
       "      <td>Vision Beyond Resources India Private Limited</td>\n",
       "      <td>2-7 Yrs</td>\n",
       "    </tr>\n",
       "    <tr>\n",
       "      <th>5</th>\n",
       "      <td>Data Scientist</td>\n",
       "      <td>Kolkata, Hyderabad/Secunderabad, Pune, Chennai...</td>\n",
       "      <td>Alp Consulting Limited</td>\n",
       "      <td>1-6 Yrs</td>\n",
       "    </tr>\n",
       "    <tr>\n",
       "      <th>6</th>\n",
       "      <td>Data Scientist-Onsite and offshore</td>\n",
       "      <td>Hyderabad/Secunderabad, Pune, Chennai, Bangalo...</td>\n",
       "      <td>PROKXIMITY</td>\n",
       "      <td>3-8 Yrs</td>\n",
       "    </tr>\n",
       "    <tr>\n",
       "      <th>7</th>\n",
       "      <td>Data &amp; Applied Scientist</td>\n",
       "      <td>Noida, Hyderabad/Secunderabad, Bangalore/Benga...</td>\n",
       "      <td>Microsoft</td>\n",
       "      <td>3-7 Yrs</td>\n",
       "    </tr>\n",
       "    <tr>\n",
       "      <th>8</th>\n",
       "      <td>Data and applied Scientist</td>\n",
       "      <td>Noida, Hyderabad/Secunderabad, Bangalore/Benga...</td>\n",
       "      <td>Microsoft</td>\n",
       "      <td>3-7 Yrs</td>\n",
       "    </tr>\n",
       "    <tr>\n",
       "      <th>9</th>\n",
       "      <td>Urgent Requirement || Data Scientist || Noida</td>\n",
       "      <td>Noida, Delhi / NCR</td>\n",
       "      <td>HCL</td>\n",
       "      <td>3-8 Yrs</td>\n",
       "    </tr>\n",
       "    <tr>\n",
       "      <th>10</th>\n",
       "      <td>Data Analyst / Data Scientist / Business Analy...</td>\n",
       "      <td>Noida, New Delhi, Delhi / NCR</td>\n",
       "      <td>GABA Consultancy services</td>\n",
       "      <td>0-0 Yrs</td>\n",
       "    </tr>\n",
       "  </tbody>\n",
       "</table>\n",
       "</div>"
      ],
      "text/plain": [
       "                                            Job Title  \\\n",
       "1                                      Data Scientist   \n",
       "2                                      Data Scientist   \n",
       "3                          Opening For Data Scientist   \n",
       "4             Data Scientist | A Fintech Organisation   \n",
       "5                                      Data Scientist   \n",
       "6                  Data Scientist-Onsite and offshore   \n",
       "7                            Data & Applied Scientist   \n",
       "8                          Data and applied Scientist   \n",
       "9       Urgent Requirement || Data Scientist || Noida   \n",
       "10  Data Analyst / Data Scientist / Business Analy...   \n",
       "\n",
       "                                     Company Location  \\\n",
       "1                                           New Delhi   \n",
       "2       Gurgaon/Gurugram, Chennai\\n(WFH during Covid)   \n",
       "3                                    Gurgaon/Gurugram   \n",
       "4                                    Gurgaon/Gurugram   \n",
       "5   Kolkata, Hyderabad/Secunderabad, Pune, Chennai...   \n",
       "6   Hyderabad/Secunderabad, Pune, Chennai, Bangalo...   \n",
       "7   Noida, Hyderabad/Secunderabad, Bangalore/Benga...   \n",
       "8   Noida, Hyderabad/Secunderabad, Bangalore/Benga...   \n",
       "9                                  Noida, Delhi / NCR   \n",
       "10                      Noida, New Delhi, Delhi / NCR   \n",
       "\n",
       "                                     Company Name Experience Required  \n",
       "1                       CHANGE LEADERS CONSULTING             3-8 Yrs  \n",
       "2                  DECISION POINT PRIVATE LIMITED             1-6 Yrs  \n",
       "3                           Care Health Insurance             1-5 Yrs  \n",
       "4   Vision Beyond Resources India Private Limited             2-7 Yrs  \n",
       "5                          Alp Consulting Limited             1-6 Yrs  \n",
       "6                                      PROKXIMITY             3-8 Yrs  \n",
       "7                                       Microsoft             3-7 Yrs  \n",
       "8                                       Microsoft             3-7 Yrs  \n",
       "9                                             HCL             3-8 Yrs  \n",
       "10                      GABA Consultancy services             0-0 Yrs  "
      ]
     },
     "execution_count": 110,
     "metadata": {},
     "output_type": "execute_result"
    }
   ],
   "source": [
    "df"
   ]
  },
  {
   "cell_type": "markdown",
   "id": "228f30f1",
   "metadata": {},
   "source": [
    "# Question 4"
   ]
  },
  {
   "cell_type": "code",
   "execution_count": 491,
   "id": "5ae1d59f",
   "metadata": {},
   "outputs": [],
   "source": [
    "s = Service(r'C:\\Users\\zobekenobe\\Desktop\\chromedriver.exe')\n",
    "driver = webdriver.Chrome(service = s)"
   ]
  },
  {
   "cell_type": "code",
   "execution_count": 492,
   "id": "66d1c233",
   "metadata": {},
   "outputs": [],
   "source": [
    "url = 'https://www.flipkart.com/'\n",
    "driver.get(url)"
   ]
  },
  {
   "cell_type": "code",
   "execution_count": 493,
   "id": "d276344e",
   "metadata": {},
   "outputs": [],
   "source": [
    "driver.maximize_window()"
   ]
  },
  {
   "cell_type": "code",
   "execution_count": 494,
   "id": "66054ae9",
   "metadata": {},
   "outputs": [],
   "source": [
    "# close interuppting window\n",
    "close_window = driver.find_element(By.XPATH,'/html/body/div[2]/div/div/button')"
   ]
  },
  {
   "cell_type": "code",
   "execution_count": 495,
   "id": "49df5057",
   "metadata": {},
   "outputs": [],
   "source": [
    "close_window.click()"
   ]
  },
  {
   "cell_type": "code",
   "execution_count": 496,
   "id": "86de2b0b",
   "metadata": {},
   "outputs": [],
   "source": [
    "search_sunglasses = driver.find_element(By.CLASS_NAME, '_3704LK')\n",
    "search_sunglasses.clear()\n",
    "search_sunglasses.send_keys('sunglasses')"
   ]
  },
  {
   "cell_type": "code",
   "execution_count": 497,
   "id": "80723a74",
   "metadata": {},
   "outputs": [],
   "source": [
    "search_button = driver.find_element(By.CLASS_NAME,'L0Z3Pu')"
   ]
  },
  {
   "cell_type": "code",
   "execution_count": 498,
   "id": "5d40d2a5",
   "metadata": {},
   "outputs": [],
   "source": [
    "search_button.click()"
   ]
  },
  {
   "cell_type": "code",
   "execution_count": 499,
   "id": "d3031568",
   "metadata": {},
   "outputs": [],
   "source": [
    "brand_df = []\n",
    "description_df = []\n",
    "price_df = []"
   ]
  },
  {
   "cell_type": "code",
   "execution_count": 500,
   "id": "2233b1f5",
   "metadata": {},
   "outputs": [],
   "source": [
    "brand = driver.find_elements(By.XPATH, '//div[@class=\"_2WkVRV\"]')\n",
    "brand_df += [_.text for _ in brand]\n",
    "description = driver.find_elements(By.XPATH, '//a[@class=\"IRpwTa\"]')\n",
    "description_df += [_.text for _ in description]\n",
    "price = driver.find_elements(By.XPATH, '//div[@class=\"_30jeq3\"]')    \n",
    "price_df += [_.text for _ in price]\n",
    "\n",
    "driver.implicitly_wait(20)\n",
    "test = driver.find_elements(By.CLASS_NAME,'_1LKTO3')\n",
    "test[0].click()"
   ]
  },
  {
   "cell_type": "code",
   "execution_count": 501,
   "id": "7b519880",
   "metadata": {},
   "outputs": [],
   "source": [
    "brand = driver.find_elements(By.XPATH, '//div[@class=\"_2WkVRV\"]')\n",
    "brand_df += [_.text for _ in brand]\n",
    "description = driver.find_elements(By.XPATH, '//a[@class=\"IRpwTa\"]')\n",
    "description_df += [_.text for _ in description]\n",
    "price = driver.find_elements(By.XPATH, '//div[@class=\"_30jeq3\"]')    \n",
    "price_df += [_.text for _ in price]\n",
    "\n",
    "driver.implicitly_wait(20)\n",
    "test = driver.find_elements(By.CLASS_NAME,'_1LKTO3')\n",
    "test[1].click()"
   ]
  },
  {
   "cell_type": "code",
   "execution_count": 502,
   "id": "09b1193a",
   "metadata": {},
   "outputs": [],
   "source": [
    "brand = driver.find_elements(By.XPATH, '//div[@class=\"_2WkVRV\"]')\n",
    "brand_df += [_.text for _ in brand]\n",
    "description = driver.find_elements(By.XPATH, '//a[@class=\"IRpwTa\"]')\n",
    "description_df += [_.text for _ in description]\n",
    "price = driver.find_elements(By.XPATH, '//div[@class=\"_30jeq3\"]')    \n",
    "price_df += [_.text for _ in price]"
   ]
  },
  {
   "cell_type": "code",
   "execution_count": 507,
   "id": "0bf7aaa7",
   "metadata": {},
   "outputs": [],
   "source": [
    "df = pd.DataFrame(data = {\n",
    "    'Brand' : brand_df[:100],\n",
    "    'Description' : description_df[:100],\n",
    "    'Price' : price_df[:100]\n",
    "}, index = range(1,101))"
   ]
  },
  {
   "cell_type": "code",
   "execution_count": 518,
   "id": "711b37ed",
   "metadata": {},
   "outputs": [
    {
     "data": {
      "text/html": [
       "<div>\n",
       "<style scoped>\n",
       "    .dataframe tbody tr th:only-of-type {\n",
       "        vertical-align: middle;\n",
       "    }\n",
       "\n",
       "    .dataframe tbody tr th {\n",
       "        vertical-align: top;\n",
       "    }\n",
       "\n",
       "    .dataframe thead th {\n",
       "        text-align: right;\n",
       "    }\n",
       "</style>\n",
       "<table border=\"1\" class=\"dataframe\">\n",
       "  <thead>\n",
       "    <tr style=\"text-align: right;\">\n",
       "      <th></th>\n",
       "      <th>Brand</th>\n",
       "      <th>Description</th>\n",
       "      <th>Price</th>\n",
       "    </tr>\n",
       "  </thead>\n",
       "  <tbody>\n",
       "    <tr>\n",
       "      <th>1</th>\n",
       "      <td>Rich Club</td>\n",
       "      <td>UV Protection Round Sunglasses (48)</td>\n",
       "      <td>₹174</td>\n",
       "    </tr>\n",
       "    <tr>\n",
       "      <th>2</th>\n",
       "      <td>ROZZETTA CRAFT</td>\n",
       "      <td>UV Protection, Riding Glasses Rectangular Sung...</td>\n",
       "      <td>₹426</td>\n",
       "    </tr>\n",
       "    <tr>\n",
       "      <th>3</th>\n",
       "      <td>Fastrack</td>\n",
       "      <td>UV Protection Wayfarer Sunglasses (Free Size)</td>\n",
       "      <td>₹721</td>\n",
       "    </tr>\n",
       "    <tr>\n",
       "      <th>4</th>\n",
       "      <td>Elligator</td>\n",
       "      <td>UV Protection Round Sunglasses (54)</td>\n",
       "      <td>₹248</td>\n",
       "    </tr>\n",
       "    <tr>\n",
       "      <th>5</th>\n",
       "      <td>SRPM</td>\n",
       "      <td>UV Protection Wayfarer Sunglasses (50)</td>\n",
       "      <td>₹188</td>\n",
       "    </tr>\n",
       "  </tbody>\n",
       "</table>\n",
       "</div>"
      ],
      "text/plain": [
       "            Brand                                        Description Price\n",
       "1       Rich Club                UV Protection Round Sunglasses (48)  ₹174\n",
       "2  ROZZETTA CRAFT  UV Protection, Riding Glasses Rectangular Sung...  ₹426\n",
       "3        Fastrack      UV Protection Wayfarer Sunglasses (Free Size)  ₹721\n",
       "4       Elligator                UV Protection Round Sunglasses (54)  ₹248\n",
       "5            SRPM             UV Protection Wayfarer Sunglasses (50)  ₹188"
      ]
     },
     "execution_count": 518,
     "metadata": {},
     "output_type": "execute_result"
    }
   ],
   "source": [
    "df.head()"
   ]
  },
  {
   "cell_type": "markdown",
   "id": "f776bc14",
   "metadata": {},
   "source": [
    "# Question 5"
   ]
  },
  {
   "cell_type": "code",
   "execution_count": 726,
   "id": "12507a8b",
   "metadata": {},
   "outputs": [],
   "source": [
    "s = Service(r'C:\\Users\\zobekenobe\\Desktop\\chromedriver.exe')\n",
    "driver = webdriver.Chrome(service = s)"
   ]
  },
  {
   "cell_type": "code",
   "execution_count": 727,
   "id": "d94aee84",
   "metadata": {},
   "outputs": [],
   "source": [
    "url = 'https://www.flipkart.com/apple-iphone-11-black-64-gb-includes- earpods-power-adapter/p/itm0f37c2240b217?pid=MOBFKCTSVZAXUHGR&lid=LSTMOBFKCTSVZAXUHGREPBFGI&marketplace'"
   ]
  },
  {
   "cell_type": "code",
   "execution_count": 728,
   "id": "85f56647",
   "metadata": {},
   "outputs": [],
   "source": [
    "driver.get(url)"
   ]
  },
  {
   "cell_type": "code",
   "execution_count": 729,
   "id": "703c7567",
   "metadata": {},
   "outputs": [],
   "source": [
    "all_reviews = driver.find_element(By.XPATH, '/html/body/div[1]/div/div[3]/div[1]/div[2]/div[8]/div/div/div[5]/div/a/div/span')"
   ]
  },
  {
   "cell_type": "code",
   "execution_count": 730,
   "id": "369286d2",
   "metadata": {},
   "outputs": [],
   "source": [
    "all_reviews.click()"
   ]
  },
  {
   "cell_type": "code",
   "execution_count": 731,
   "id": "21aa66f5",
   "metadata": {},
   "outputs": [],
   "source": [
    "rating  = []\n",
    "review  = []\n",
    "summary = []"
   ]
  },
  {
   "cell_type": "code",
   "execution_count": 732,
   "id": "59fd0cfd",
   "metadata": {},
   "outputs": [],
   "source": [
    "rating_element = driver.find_elements(By.XPATH, '//div[@class=\"_3LWZlK _1BLPMq\"]')\n",
    "rating += [_.text for _ in rating_element]\n",
    "review_element = driver.find_elements(By.CLASS_NAME, '_2-N8zT')\n",
    "review += [_.text for _ in review_element]\n",
    "summary_element = driver.find_elements(By.CLASS_NAME, 't-ZTKy')\n",
    "summary += [_.text for _ in summary_element]"
   ]
  },
  {
   "cell_type": "code",
   "execution_count": 733,
   "id": "22cee73e",
   "metadata": {},
   "outputs": [],
   "source": [
    "next_page = driver.find_elements(By.CLASS_NAME, '_1LKTO3')\n",
    "next_page[0].click()\n"
   ]
  },
  {
   "cell_type": "code",
   "execution_count": 734,
   "id": "7b54e867",
   "metadata": {},
   "outputs": [],
   "source": [
    "rating_element = driver.find_elements(By.XPATH, '//div[@class=\"_3LWZlK _1BLPMq\"]')\n",
    "rating += [_.text for _ in rating_element]\n",
    "review_element = driver.find_elements(By.CLASS_NAME, '_2-N8zT')\n",
    "review += [_.text for _ in review_element]\n",
    "summary_element = driver.find_elements(By.CLASS_NAME, 't-ZTKy')\n",
    "summary += [_.text for _ in summary_element]\n",
    "next_page = driver.find_elements(By.CLASS_NAME, '_1LKTO3')\n",
    "next_page[1].click()"
   ]
  },
  {
   "cell_type": "code",
   "execution_count": 735,
   "id": "0e8e863c",
   "metadata": {},
   "outputs": [],
   "source": [
    "rating_element = driver.find_elements(By.XPATH, '//div[@class=\"_3LWZlK _1BLPMq\"]')\n",
    "rating += [_.text for _ in rating_element]\n",
    "review_element = driver.find_elements(By.CLASS_NAME, '_2-N8zT')\n",
    "review += [_.text for _ in review_element]\n",
    "summary_element = driver.find_elements(By.CLASS_NAME, 't-ZTKy')\n",
    "summary += [_.text for _ in summary_element]\n",
    "next_page = driver.find_elements(By.CLASS_NAME, '_1LKTO3')\n",
    "next_page[1].click()\n"
   ]
  },
  {
   "cell_type": "code",
   "execution_count": 736,
   "id": "c54a0020",
   "metadata": {},
   "outputs": [],
   "source": [
    "rating_element = driver.find_elements(By.XPATH, '//div[@class=\"_3LWZlK _1BLPMq\"]')\n",
    "rating += [_.text for _ in rating_element]\n",
    "review_element = driver.find_elements(By.CLASS_NAME, '_2-N8zT')\n",
    "review += [_.text for _ in review_element]\n",
    "summary_element = driver.find_elements(By.CLASS_NAME, 't-ZTKy')\n",
    "summary += [_.text for _ in summary_element]\n",
    "next_page = driver.find_elements(By.CLASS_NAME, '_1LKTO3')\n",
    "next_page[1].click()"
   ]
  },
  {
   "cell_type": "code",
   "execution_count": 737,
   "id": "7577d90a",
   "metadata": {},
   "outputs": [],
   "source": [
    "rating_element = driver.find_elements(By.XPATH, '//div[@class=\"_3LWZlK _1BLPMq\"]')\n",
    "rating += [_.text for _ in rating_element]\n",
    "review_element = driver.find_elements(By.CLASS_NAME, '_2-N8zT')\n",
    "review += [_.text for _ in review_element]\n",
    "summary_element = driver.find_elements(By.CLASS_NAME, 't-ZTKy')\n",
    "summary += [_.text for _ in summary_element]\n",
    "next_page = driver.find_elements(By.CLASS_NAME, '_1LKTO3')\n",
    "next_page[1].click()"
   ]
  },
  {
   "cell_type": "code",
   "execution_count": 738,
   "id": "95aebe67",
   "metadata": {},
   "outputs": [],
   "source": [
    "rating_element = driver.find_elements(By.XPATH, '//div[@class=\"_3LWZlK _1BLPMq\"]')\n",
    "rating += [_.text for _ in rating_element]\n",
    "review_element = driver.find_elements(By.CLASS_NAME, '_2-N8zT')\n",
    "review += [_.text for _ in review_element]\n",
    "summary_element = driver.find_elements(By.CLASS_NAME, 't-ZTKy')\n",
    "summary += [_.text for _ in summary_element]\n",
    "next_page = driver.find_elements(By.CLASS_NAME, '_1LKTO3')\n",
    "next_page[1].click()"
   ]
  },
  {
   "cell_type": "code",
   "execution_count": 739,
   "id": "3ad8f112",
   "metadata": {},
   "outputs": [],
   "source": [
    "rating_element = driver.find_elements(By.XPATH, '//div[@class=\"_3LWZlK _1BLPMq\"]')\n",
    "rating += [_.text for _ in rating_element]\n",
    "review_element = driver.find_elements(By.CLASS_NAME, '_2-N8zT')\n",
    "review += [_.text for _ in review_element]\n",
    "summary_element = driver.find_elements(By.CLASS_NAME, 't-ZTKy')\n",
    "summary += [_.text for _ in summary_element]\n",
    "next_page = driver.find_elements(By.CLASS_NAME, '_1LKTO3')\n",
    "next_page[1].click()"
   ]
  },
  {
   "cell_type": "code",
   "execution_count": 740,
   "id": "d3c74d0e",
   "metadata": {},
   "outputs": [],
   "source": [
    "rating_element = driver.find_elements(By.XPATH, '//div[@class=\"_3LWZlK _1BLPMq\"]')\n",
    "rating += [_.text for _ in rating_element]\n",
    "review_element = driver.find_elements(By.CLASS_NAME, '_2-N8zT')\n",
    "review += [_.text for _ in review_element]\n",
    "summary_element = driver.find_elements(By.CLASS_NAME, 't-ZTKy')\n",
    "summary += [_.text for _ in summary_element]\n",
    "next_page = driver.find_elements(By.CLASS_NAME, '_1LKTO3')\n",
    "next_page[1].click()"
   ]
  },
  {
   "cell_type": "code",
   "execution_count": 742,
   "id": "6146088c",
   "metadata": {},
   "outputs": [],
   "source": [
    "rating_element = driver.find_elements(By.XPATH, '//div[@class=\"_3LWZlK _1BLPMq\"]')\n",
    "rating += [_.text for _ in rating_element]\n",
    "review_element = driver.find_elements(By.CLASS_NAME, '_2-N8zT')\n",
    "review += [_.text for _ in review_element]\n",
    "summary_element = driver.find_elements(By.CLASS_NAME, 't-ZTKy')\n",
    "summary += [_.text for _ in summary_element]\n",
    "next_page = driver.find_elements(By.CLASS_NAME, '_1LKTO3')\n",
    "next_page[1].click()"
   ]
  },
  {
   "cell_type": "code",
   "execution_count": 747,
   "id": "fb1cb6b1",
   "metadata": {},
   "outputs": [],
   "source": [
    "rating_element = driver.find_elements(By.XPATH, '//div[@class=\"_3LWZlK _1BLPMq\"]')\n",
    "rating += [_.text for _ in rating_element]\n",
    "review_element = driver.find_elements(By.CLASS_NAME, '_2-N8zT')\n",
    "review += [_.text for _ in review_element]\n",
    "summary_element = driver.find_elements(By.CLASS_NAME, 't-ZTKy')\n",
    "summary += [_.text for _ in summary_element]\n",
    "next_page = driver.find_elements(By.CLASS_NAME, '_1LKTO3')\n",
    "next_page[1].click()"
   ]
  },
  {
   "cell_type": "code",
   "execution_count": 748,
   "id": "148cc425",
   "metadata": {},
   "outputs": [],
   "source": [
    "rating_element = driver.find_elements(By.XPATH, '//div[@class=\"_3LWZlK _1BLPMq\"]')\n",
    "rating += [_.text for _ in rating_element]\n",
    "review_element = driver.find_elements(By.CLASS_NAME, '_2-N8zT')\n",
    "review += [_.text for _ in review_element]\n",
    "summary_element = driver.find_elements(By.CLASS_NAME, 't-ZTKy')\n",
    "summary += [_.text for _ in summary_element]\n",
    "next_page = driver.find_elements(By.CLASS_NAME, '_1LKTO3')\n",
    "next_page[1].click()"
   ]
  },
  {
   "cell_type": "code",
   "execution_count": 749,
   "id": "ccbc3e71",
   "metadata": {},
   "outputs": [],
   "source": [
    "df = pd.DataFrame(data = {\n",
    "    'Rating':rating[:100],\n",
    "    'Review':review[:100],\n",
    "    'Full Review':summary[:100]\n",
    "}, index = range(1, 101)\n",
    "                 )"
   ]
  },
  {
   "cell_type": "markdown",
   "id": "c4afc6e9",
   "metadata": {},
   "source": [
    "# Question 6"
   ]
  },
  {
   "cell_type": "code",
   "execution_count": 821,
   "id": "c341eeec",
   "metadata": {},
   "outputs": [],
   "source": [
    "s = Service(r'C:\\Users\\zobekenobe\\Desktop\\chromedriver.exe')\n",
    "driver = webdriver.Chrome(service = s)\n",
    "url = 'https://www.flipkart.com/'\n",
    "driver.get(url)"
   ]
  },
  {
   "cell_type": "code",
   "execution_count": 822,
   "id": "26bf8e7b",
   "metadata": {},
   "outputs": [],
   "source": [
    "\n",
    "close_window = driver.find_element(By.XPATH,'/html/body/div[2]/div/div/button').click()"
   ]
  },
  {
   "cell_type": "code",
   "execution_count": 823,
   "id": "ba601d57",
   "metadata": {},
   "outputs": [],
   "source": [
    "search_sunglasses = driver.find_element(By.CLASS_NAME, '_3704LK')\n",
    "search_sunglasses.clear()\n",
    "search_sunglasses.send_keys('sneakers')"
   ]
  },
  {
   "cell_type": "code",
   "execution_count": 824,
   "id": "55fb48da",
   "metadata": {},
   "outputs": [],
   "source": [
    "driver.find_element(By.CLASS_NAME,'L0Z3Pu').click()"
   ]
  },
  {
   "cell_type": "code",
   "execution_count": 825,
   "id": "aaa0cd8b",
   "metadata": {},
   "outputs": [],
   "source": [
    "brand_df = []\n",
    "description_df = []\n",
    "price_df = []"
   ]
  },
  {
   "cell_type": "code",
   "execution_count": 826,
   "id": "2f162e6c",
   "metadata": {},
   "outputs": [],
   "source": [
    "brand = driver.find_elements(By.XPATH, '//div[@class=\"_2WkVRV\"]')\n",
    "brand_df += [_.text for _ in brand]\n",
    "description = driver.find_elements(By.XPATH, '//a[@class=\"IRpwTa\"]')\n",
    "description_df += [_.text for _ in description]\n",
    "price = driver.find_elements(By.XPATH, '//div[@class=\"_30jeq3\"]')    \n",
    "price_df += [_.text for _ in price]\n",
    "\n",
    "driver.implicitly_wait(20)\n",
    "test = driver.find_elements(By.CLASS_NAME,'_1LKTO3')\n",
    "test[0].click()"
   ]
  },
  {
   "cell_type": "code",
   "execution_count": 827,
   "id": "24274eb2",
   "metadata": {},
   "outputs": [],
   "source": [
    "brand = driver.find_elements(By.XPATH, '//div[@class=\"_2WkVRV\"]')\n",
    "brand_df += [_.text for _ in brand]\n",
    "description = driver.find_elements(By.XPATH, '//a[@class=\"IRpwTa\"]')\n",
    "description_df += [_.text for _ in description]\n",
    "price = driver.find_elements(By.XPATH, '//div[@class=\"_30jeq3\"]')    \n",
    "price_df += [_.text for _ in price]\n",
    "\n",
    "driver.implicitly_wait(20)\n",
    "test = driver.find_elements(By.CLASS_NAME,'_1LKTO3')\n",
    "test[1].click()"
   ]
  },
  {
   "cell_type": "code",
   "execution_count": 830,
   "id": "125084ef",
   "metadata": {},
   "outputs": [],
   "source": [
    "brand = driver.find_elements(By.XPATH, '//div[@class=\"_2WkVRV\"]')\n",
    "brand_df += [_.text for _ in brand]\n",
    "description = driver.find_elements(By.XPATH, '//a[@class=\"IRpwTa\"]')\n",
    "description_df += [_.text for _ in description]\n",
    "price = driver.find_elements(By.XPATH, '//div[@class=\"_30jeq3\"]')    \n",
    "price_df += [_.text for _ in price]\n",
    "\n",
    "driver.implicitly_wait(20)\n",
    "test = driver.find_elements(By.CLASS_NAME,'_1LKTO3')\n",
    "test[1].click()"
   ]
  },
  {
   "cell_type": "code",
   "execution_count": 831,
   "id": "3d5b565c",
   "metadata": {},
   "outputs": [],
   "source": [
    "brand = driver.find_elements(By.XPATH, '//div[@class=\"_2WkVRV\"]')\n",
    "brand_df += [_.text for _ in brand]\n",
    "description = driver.find_elements(By.XPATH, '//a[@class=\"IRpwTa\"]')\n",
    "description_df += [_.text for _ in description]\n",
    "price = driver.find_elements(By.XPATH, '//div[@class=\"_30jeq3\"]')    \n",
    "price_df += [_.text for _ in price]"
   ]
  },
  {
   "cell_type": "code",
   "execution_count": 832,
   "id": "929a5cfa",
   "metadata": {},
   "outputs": [],
   "source": [
    "df = pd.DataFrame(data = {\n",
    "    'Brand' : brand_df[:100],\n",
    "    'Description' : description_df[:100],\n",
    "    'Price' : price_df[:100]\n",
    "})"
   ]
  },
  {
   "cell_type": "code",
   "execution_count": 835,
   "id": "23a0d29c",
   "metadata": {},
   "outputs": [
    {
     "data": {
      "text/html": [
       "<div>\n",
       "<style scoped>\n",
       "    .dataframe tbody tr th:only-of-type {\n",
       "        vertical-align: middle;\n",
       "    }\n",
       "\n",
       "    .dataframe tbody tr th {\n",
       "        vertical-align: top;\n",
       "    }\n",
       "\n",
       "    .dataframe thead th {\n",
       "        text-align: right;\n",
       "    }\n",
       "</style>\n",
       "<table border=\"1\" class=\"dataframe\">\n",
       "  <thead>\n",
       "    <tr style=\"text-align: right;\">\n",
       "      <th></th>\n",
       "      <th>Brand</th>\n",
       "      <th>Description</th>\n",
       "      <th>Price</th>\n",
       "    </tr>\n",
       "  </thead>\n",
       "  <tbody>\n",
       "    <tr>\n",
       "      <th>0</th>\n",
       "      <td>BRUTON</td>\n",
       "      <td>Lattest Sneakers Shoe Sneakers For Men</td>\n",
       "      <td>₹259</td>\n",
       "    </tr>\n",
       "    <tr>\n",
       "      <th>1</th>\n",
       "      <td>BRUTON</td>\n",
       "      <td>Lightweight Pack Of 1 Trendy Sneakers Sneakers...</td>\n",
       "      <td>₹189</td>\n",
       "    </tr>\n",
       "    <tr>\n",
       "      <th>2</th>\n",
       "      <td>Trendmode</td>\n",
       "      <td>white Casual shoes,Sneakers for men's Sneakers...</td>\n",
       "      <td>₹249</td>\n",
       "    </tr>\n",
       "    <tr>\n",
       "      <th>3</th>\n",
       "      <td>aadi</td>\n",
       "      <td>Puma Smash v2 L Sneakers For Men</td>\n",
       "      <td>₹399</td>\n",
       "    </tr>\n",
       "    <tr>\n",
       "      <th>4</th>\n",
       "      <td>Xtoon</td>\n",
       "      <td>Series 7 Sneakers For Men</td>\n",
       "      <td>₹479</td>\n",
       "    </tr>\n",
       "  </tbody>\n",
       "</table>\n",
       "</div>"
      ],
      "text/plain": [
       "       Brand                                        Description Price\n",
       "0     BRUTON             Lattest Sneakers Shoe Sneakers For Men  ₹259\n",
       "1     BRUTON  Lightweight Pack Of 1 Trendy Sneakers Sneakers...  ₹189\n",
       "2  Trendmode  white Casual shoes,Sneakers for men's Sneakers...  ₹249\n",
       "3       aadi                   Puma Smash v2 L Sneakers For Men  ₹399\n",
       "4      Xtoon                          Series 7 Sneakers For Men  ₹479"
      ]
     },
     "execution_count": 835,
     "metadata": {},
     "output_type": "execute_result"
    }
   ],
   "source": [
    "df.head()"
   ]
  },
  {
   "cell_type": "markdown",
   "id": "c17b5eaa",
   "metadata": {},
   "source": [
    "# Question 7"
   ]
  },
  {
   "cell_type": "code",
   "execution_count": 941,
   "id": "f49f18ce",
   "metadata": {},
   "outputs": [],
   "source": [
    "s = Service(r'C:\\Users\\zobekenobe\\Desktop\\chromedriver.exe')\n",
    "driver = webdriver.Chrome(service = s)"
   ]
  },
  {
   "cell_type": "code",
   "execution_count": 942,
   "id": "e33df5a1",
   "metadata": {},
   "outputs": [],
   "source": [
    "url = 'https://www.myntra.com/shoes'\n",
    "driver.get(url)"
   ]
  },
  {
   "cell_type": "code",
   "execution_count": 943,
   "id": "a5959f38",
   "metadata": {},
   "outputs": [],
   "source": [
    "driver.find_element(By.XPATH, '/html/body/div[2]/div/div[1]/main/div[3]/div[1]/section/div/div[5]/ul/li[2]/label').click()"
   ]
  },
  {
   "cell_type": "code",
   "execution_count": 944,
   "id": "1d1ffcee",
   "metadata": {},
   "outputs": [],
   "source": [
    "driver.find_element(By.XPATH, '/html/body/div[2]/div/div[1]/main/div[3]/div[1]/section/div/div[6]/ul/li[1]/label').click()"
   ]
  },
  {
   "cell_type": "code",
   "execution_count": 945,
   "id": "eafc5c0a",
   "metadata": {},
   "outputs": [],
   "source": [
    "brand = []\n",
    "price = []\n",
    "descr = []"
   ]
  },
  {
   "cell_type": "code",
   "execution_count": 947,
   "id": "9983538c",
   "metadata": {},
   "outputs": [],
   "source": [
    "brand_element = driver.find_elements(By.CLASS_NAME, 'product-brand')\n",
    "brand += [_.text for _ in brand_element]\n",
    "price_element = driver.find_elements(By.CLASS_NAME, 'product-price')\n",
    "price += [_.text for _ in price_element]"
   ]
  },
  {
   "cell_type": "code",
   "execution_count": 948,
   "id": "a5f9d9fb",
   "metadata": {},
   "outputs": [],
   "source": [
    "descr_element = driver.find_elements(By.XPATH, '//h4[@class=\"product-product\"]')\n"
   ]
  },
  {
   "cell_type": "code",
   "execution_count": 949,
   "id": "af4597ce",
   "metadata": {},
   "outputs": [],
   "source": [
    "descr += [_.text for _ in descr_element]"
   ]
  },
  {
   "cell_type": "code",
   "execution_count": 950,
   "id": "f683394b",
   "metadata": {},
   "outputs": [],
   "source": [
    "driver.find_element(By.XPATH, '/html/body/div[2]/div/div[1]/main/div[3]/div[2]/div/div[2]/section/div[2]/ul/li[12]/a').click()"
   ]
  },
  {
   "cell_type": "code",
   "execution_count": 951,
   "id": "5f3b2f16",
   "metadata": {},
   "outputs": [],
   "source": [
    "driver.implicitly_wait(20)"
   ]
  },
  {
   "cell_type": "code",
   "execution_count": 952,
   "id": "ea09e901",
   "metadata": {},
   "outputs": [],
   "source": [
    "brand_element = driver.find_elements(By.CLASS_NAME, 'product-brand')\n",
    "brand += [_.text for _ in brand_element]\n",
    "price_element = driver.find_elements(By.CLASS_NAME, 'product-price')\n",
    "price += [_.text for _ in price_element]"
   ]
  },
  {
   "cell_type": "code",
   "execution_count": 953,
   "id": "f5b02cb8",
   "metadata": {},
   "outputs": [],
   "source": [
    "descr_element = driver.find_elements(By.XPATH, '//h4[@class=\"product-product\"]')"
   ]
  },
  {
   "cell_type": "code",
   "execution_count": 954,
   "id": "e93081e9",
   "metadata": {},
   "outputs": [],
   "source": [
    "descr += [_.text for _ in descr_element]"
   ]
  },
  {
   "cell_type": "code",
   "execution_count": 955,
   "id": "0a0d8718",
   "metadata": {},
   "outputs": [],
   "source": [
    "df = pd.DataFrame(data ={\n",
    "    'Brand':brand,\n",
    "    'Price':price,\n",
    "    'Description':descr\n",
    "}, index = range(1,101))"
   ]
  },
  {
   "cell_type": "code",
   "execution_count": 959,
   "id": "e3539297",
   "metadata": {},
   "outputs": [
    {
     "data": {
      "text/html": [
       "<div>\n",
       "<style scoped>\n",
       "    .dataframe tbody tr th:only-of-type {\n",
       "        vertical-align: middle;\n",
       "    }\n",
       "\n",
       "    .dataframe tbody tr th {\n",
       "        vertical-align: top;\n",
       "    }\n",
       "\n",
       "    .dataframe thead th {\n",
       "        text-align: right;\n",
       "    }\n",
       "</style>\n",
       "<table border=\"1\" class=\"dataframe\">\n",
       "  <thead>\n",
       "    <tr style=\"text-align: right;\">\n",
       "      <th></th>\n",
       "      <th>Brand</th>\n",
       "      <th>Price</th>\n",
       "      <th>Description</th>\n",
       "    </tr>\n",
       "  </thead>\n",
       "  <tbody>\n",
       "    <tr>\n",
       "      <th>1</th>\n",
       "      <td>Nike</td>\n",
       "      <td>Rs. 1199Rs. 3495(Rs. 2296 OFF)</td>\n",
       "      <td>Kids Revolution 4 Running</td>\n",
       "    </tr>\n",
       "    <tr>\n",
       "      <th>2</th>\n",
       "      <td>Puma</td>\n",
       "      <td>Rs. 3024Rs. 5499(45% OFF)</td>\n",
       "      <td>Women Enzo 2 Running Shoes</td>\n",
       "    </tr>\n",
       "    <tr>\n",
       "      <th>3</th>\n",
       "      <td>MENGLER</td>\n",
       "      <td>Rs. 759Rs. 3999(81% OFF)</td>\n",
       "      <td>Men Walking Shoes</td>\n",
       "    </tr>\n",
       "    <tr>\n",
       "      <th>4</th>\n",
       "      <td>Cultsport</td>\n",
       "      <td>Rs. 2989Rs. 4599(35% OFF)</td>\n",
       "      <td>Men RN02 Dazsh Running Shoes</td>\n",
       "    </tr>\n",
       "    <tr>\n",
       "      <th>5</th>\n",
       "      <td>HRX by Hrithik Roshan</td>\n",
       "      <td>Rs. 1639Rs. 4099(60% OFF)</td>\n",
       "      <td>Women Running Shoes</td>\n",
       "    </tr>\n",
       "  </tbody>\n",
       "</table>\n",
       "</div>"
      ],
      "text/plain": [
       "                   Brand                           Price  \\\n",
       "1                   Nike  Rs. 1199Rs. 3495(Rs. 2296 OFF)   \n",
       "2                   Puma       Rs. 3024Rs. 5499(45% OFF)   \n",
       "3                MENGLER        Rs. 759Rs. 3999(81% OFF)   \n",
       "4              Cultsport       Rs. 2989Rs. 4599(35% OFF)   \n",
       "5  HRX by Hrithik Roshan       Rs. 1639Rs. 4099(60% OFF)   \n",
       "\n",
       "                    Description  \n",
       "1     Kids Revolution 4 Running  \n",
       "2    Women Enzo 2 Running Shoes  \n",
       "3             Men Walking Shoes  \n",
       "4  Men RN02 Dazsh Running Shoes  \n",
       "5           Women Running Shoes  "
      ]
     },
     "execution_count": 959,
     "metadata": {},
     "output_type": "execute_result"
    }
   ],
   "source": [
    "df.head()"
   ]
  },
  {
   "cell_type": "markdown",
   "id": "dcdbcf33",
   "metadata": {},
   "source": [
    "# Question 8"
   ]
  },
  {
   "cell_type": "code",
   "execution_count": 969,
   "id": "19a3cf4d",
   "metadata": {},
   "outputs": [],
   "source": [
    "s = Service(r'C:\\Users\\zobekenobe\\Desktop\\chromedriver.exe')\n",
    "driver = webdriver.Chrome(service = s)\n",
    "driver.get('https://www.amazon.in/')"
   ]
  },
  {
   "cell_type": "code",
   "execution_count": 970,
   "id": "12b3a917",
   "metadata": {},
   "outputs": [],
   "source": [
    "driver.find_element(By.XPATH, '/html/body/div[1]/header/div/div[1]/div[2]/div/form/div[2]/div[1]/input').send_keys('Laptop')"
   ]
  },
  {
   "cell_type": "code",
   "execution_count": 971,
   "id": "d9fbede5",
   "metadata": {},
   "outputs": [],
   "source": [
    "driver.find_element(By.XPATH,'/html/body/div[1]/header/div/div[1]/div[2]/div/form/div[3]/div/span/input').click()"
   ]
  },
  {
   "cell_type": "code",
   "execution_count": 972,
   "id": "55c8fdb1",
   "metadata": {},
   "outputs": [],
   "source": [
    "str_i7 = '/html/body/div[1]/div[2]/div[1]/div[2]/div/div[3]/span/div[1]/div/div/div[6]/ul[3]/li[12]/span/a/span'\n",
    "str_i9 = '/html/body/div[1]/div[2]/div[1]/div[2]/div/div[3]/span/div[1]/div/div/div[6]/ul[3]/li[13]/span/a/span'"
   ]
  },
  {
   "cell_type": "code",
   "execution_count": 973,
   "id": "91f2d87c",
   "metadata": {},
   "outputs": [],
   "source": [
    "filter_element = driver.find_element(By.XPATH, str_i7 and str_i9)"
   ]
  },
  {
   "cell_type": "code",
   "execution_count": 974,
   "id": "9e7f87ba",
   "metadata": {},
   "outputs": [],
   "source": [
    "filter_element.click()"
   ]
  },
  {
   "cell_type": "code",
   "execution_count": 975,
   "id": "febf53a4",
   "metadata": {},
   "outputs": [],
   "source": [
    "title = []\n",
    "rating= []\n",
    "price = []"
   ]
  },
  {
   "cell_type": "code",
   "execution_count": 978,
   "id": "8afba4e2",
   "metadata": {},
   "outputs": [],
   "source": [
    "title_element = driver.find_elements(By.XPATH, '//span[@class = \"a-size-medium a-color-base a-text-normal\"]')\n",
    "title += [_.text for _ in title_element]"
   ]
  },
  {
   "cell_type": "code",
   "execution_count": 983,
   "id": "7a675664",
   "metadata": {},
   "outputs": [],
   "source": [
    "rating_element = driver.find_elements(By.XPATH, '//span[@class=\"a-icon-alt\"]')\n",
    "rating += [_.text for _ in rating_element]"
   ]
  },
  {
   "cell_type": "code",
   "execution_count": 987,
   "id": "00841782",
   "metadata": {},
   "outputs": [
    {
     "data": {
      "text/plain": [
       "''"
      ]
     },
     "execution_count": 987,
     "metadata": {},
     "output_type": "execute_result"
    }
   ],
   "source": [
    "rating_element[0].text"
   ]
  },
  {
   "cell_type": "code",
   "execution_count": null,
   "id": "dda73ba3",
   "metadata": {},
   "outputs": [],
   "source": []
  },
  {
   "cell_type": "markdown",
   "id": "0a9a3dda",
   "metadata": {},
   "source": [
    "# Question 9"
   ]
  },
  {
   "cell_type": "code",
   "execution_count": 995,
   "id": "428be6c4",
   "metadata": {},
   "outputs": [],
   "source": [
    "s = Service(r'C:\\Users\\zobekenobe\\Desktop\\chromedriver.exe')\n",
    "driver = webdriver.Chrome(service = s)\n",
    "url = 'https://www.ambitionbox.com/'\n",
    "driver.get(url)"
   ]
  },
  {
   "cell_type": "code",
   "execution_count": 996,
   "id": "0f6c23d5",
   "metadata": {},
   "outputs": [],
   "source": [
    "driver.maximize_window()"
   ]
  },
  {
   "cell_type": "code",
   "execution_count": 997,
   "id": "c4897adf",
   "metadata": {},
   "outputs": [],
   "source": [
    "driver.find_element(By.XPATH, '/html/body/footer/div[1]/div[3]/div/div[4]/a').click()"
   ]
  },
  {
   "cell_type": "code",
   "execution_count": 998,
   "id": "c01eb087",
   "metadata": {},
   "outputs": [],
   "source": [
    "driver.find_element(By.XPATH, '/html/body/div/div/div/div[2]/div[1]/div/div/div/div/span/input').send_keys('Data Scientist')"
   ]
  },
  {
   "cell_type": "code",
   "execution_count": 999,
   "id": "8f35a7a1",
   "metadata": {},
   "outputs": [],
   "source": [
    "driver.find_element(By.XPATH, '/html/body/div/div/div/div[2]/div[1]/div/div/div/button/span').click()"
   ]
  },
  {
   "cell_type": "code",
   "execution_count": 1000,
   "id": "bb2c4173",
   "metadata": {},
   "outputs": [],
   "source": [
    "driver.find_element(By.XPATH, '/html/body/div/div/div/div[2]/div[2]/div[1]/div/div/div/div[2]/div[1]/p').click()"
   ]
  },
  {
   "cell_type": "code",
   "execution_count": 1001,
   "id": "75f9658f",
   "metadata": {},
   "outputs": [],
   "source": [
    "driver.find_element(By.XPATH, '/html/body/div/div/div/div[2]/div[2]/div[1]/div/div/div/div[2]/div[2]/div/div[2]/input').send_keys('Noida')"
   ]
  },
  {
   "cell_type": "code",
   "execution_count": 1002,
   "id": "3cbe3277",
   "metadata": {},
   "outputs": [],
   "source": [
    "driver.find_element(By.XPATH, '/html/body/div/div/div/div[2]/div[2]/div[1]/div/div/div/div[2]/div[2]/div/div[3]/div[1]/div[1]/div/label').click()"
   ]
  },
  {
   "cell_type": "code",
   "execution_count": 1023,
   "id": "ca119151",
   "metadata": {},
   "outputs": [],
   "source": [
    "company = driver.find_elements(By.XPATH, '//p[@class = \"company body-medium\"]')"
   ]
  },
  {
   "cell_type": "code",
   "execution_count": 1030,
   "id": "72747a16",
   "metadata": {},
   "outputs": [],
   "source": [
    "days = driver.find_elements(By.XPATH, '//span[contains(text(),\"ago\")]')"
   ]
  },
  {
   "cell_type": "code",
   "execution_count": 1037,
   "id": "e3a6104d",
   "metadata": {},
   "outputs": [],
   "source": [
    "rating = driver.find_elements(By.XPATH, '//a[contains(@title,\"Rating\")]')"
   ]
  },
  {
   "cell_type": "code",
   "execution_count": 1031,
   "id": "56107a93",
   "metadata": {},
   "outputs": [],
   "source": [
    "company_df = [_.text for _ in company]"
   ]
  },
  {
   "cell_type": "code",
   "execution_count": 1032,
   "id": "aec503de",
   "metadata": {},
   "outputs": [],
   "source": [
    "days_df = [_.text for _ in days]"
   ]
  },
  {
   "cell_type": "code",
   "execution_count": 1041,
   "id": "6662bf86",
   "metadata": {},
   "outputs": [],
   "source": [
    "rating_df = [_.text for _ in rating][1:]"
   ]
  },
  {
   "cell_type": "code",
   "execution_count": 1044,
   "id": "c75ac5c1",
   "metadata": {},
   "outputs": [],
   "source": [
    "df = pd.DataFrame(data = {\n",
    "    'Company name':company_df,\n",
    "    'Days since posted':days_df,\n",
    "    'Company rating':rating_df\n",
    "} ,index = range(1,11))"
   ]
  },
  {
   "cell_type": "code",
   "execution_count": 1045,
   "id": "411f25bc",
   "metadata": {},
   "outputs": [
    {
     "data": {
      "text/html": [
       "<div>\n",
       "<style scoped>\n",
       "    .dataframe tbody tr th:only-of-type {\n",
       "        vertical-align: middle;\n",
       "    }\n",
       "\n",
       "    .dataframe tbody tr th {\n",
       "        vertical-align: top;\n",
       "    }\n",
       "\n",
       "    .dataframe thead th {\n",
       "        text-align: right;\n",
       "    }\n",
       "</style>\n",
       "<table border=\"1\" class=\"dataframe\">\n",
       "  <thead>\n",
       "    <tr style=\"text-align: right;\">\n",
       "      <th></th>\n",
       "      <th>Company name</th>\n",
       "      <th>Days since posted</th>\n",
       "      <th>Company rating</th>\n",
       "    </tr>\n",
       "  </thead>\n",
       "  <tbody>\n",
       "    <tr>\n",
       "      <th>1</th>\n",
       "      <td>Jubilant Foodworks Limited</td>\n",
       "      <td>15d ago</td>\n",
       "      <td>3.9</td>\n",
       "    </tr>\n",
       "    <tr>\n",
       "      <th>2</th>\n",
       "      <td>HCL Technologies</td>\n",
       "      <td>28d ago</td>\n",
       "      <td>3.8</td>\n",
       "    </tr>\n",
       "    <tr>\n",
       "      <th>3</th>\n",
       "      <td>EY GDS</td>\n",
       "      <td>30d ago</td>\n",
       "      <td>3.7</td>\n",
       "    </tr>\n",
       "    <tr>\n",
       "      <th>4</th>\n",
       "      <td>Tavant Technologies India Pvt. Ltd.</td>\n",
       "      <td>9d ago</td>\n",
       "      <td>4.0</td>\n",
       "    </tr>\n",
       "    <tr>\n",
       "      <th>5</th>\n",
       "      <td>Denave India Pvt Ltd.</td>\n",
       "      <td>9d ago</td>\n",
       "      <td>4.0</td>\n",
       "    </tr>\n",
       "    <tr>\n",
       "      <th>6</th>\n",
       "      <td>EXL Service</td>\n",
       "      <td>22d ago</td>\n",
       "      <td>3.8</td>\n",
       "    </tr>\n",
       "    <tr>\n",
       "      <th>7</th>\n",
       "      <td>CHT Sapiense</td>\n",
       "      <td>3d ago</td>\n",
       "      <td>3.8</td>\n",
       "    </tr>\n",
       "    <tr>\n",
       "      <th>8</th>\n",
       "      <td>Pitney Bowes India Pvt ltd</td>\n",
       "      <td>29d ago</td>\n",
       "      <td>4.2</td>\n",
       "    </tr>\n",
       "    <tr>\n",
       "      <th>9</th>\n",
       "      <td>Zyoin</td>\n",
       "      <td>7d ago</td>\n",
       "      <td>4.1</td>\n",
       "    </tr>\n",
       "    <tr>\n",
       "      <th>10</th>\n",
       "      <td>Ameriprise Financial</td>\n",
       "      <td>1mon ago</td>\n",
       "      <td>4.0</td>\n",
       "    </tr>\n",
       "  </tbody>\n",
       "</table>\n",
       "</div>"
      ],
      "text/plain": [
       "                           Company name Days since posted Company rating\n",
       "1            Jubilant Foodworks Limited           15d ago            3.9\n",
       "2                      HCL Technologies           28d ago            3.8\n",
       "3                                EY GDS           30d ago            3.7\n",
       "4   Tavant Technologies India Pvt. Ltd.            9d ago            4.0\n",
       "5                 Denave India Pvt Ltd.            9d ago            4.0\n",
       "6                           EXL Service           22d ago            3.8\n",
       "7                          CHT Sapiense            3d ago            3.8\n",
       "8            Pitney Bowes India Pvt ltd           29d ago            4.2\n",
       "9                                 Zyoin            7d ago            4.1\n",
       "10                 Ameriprise Financial          1mon ago            4.0"
      ]
     },
     "execution_count": 1045,
     "metadata": {},
     "output_type": "execute_result"
    }
   ],
   "source": [
    "df"
   ]
  },
  {
   "cell_type": "markdown",
   "id": "77782dae",
   "metadata": {},
   "source": [
    "# Question 10"
   ]
  },
  {
   "cell_type": "code",
   "execution_count": 1046,
   "id": "50b47e2b",
   "metadata": {},
   "outputs": [],
   "source": [
    "s = Service(r'C:\\Users\\zobekenobe\\Desktop\\chromedriver.exe')\n",
    "driver = webdriver.Chrome(service = s)\n",
    "url = 'https://www.ambitionbox.com/'\n",
    "driver.get(url)"
   ]
  },
  {
   "cell_type": "code",
   "execution_count": 1047,
   "id": "6580ae33",
   "metadata": {},
   "outputs": [],
   "source": [
    "driver.find_element(By.XPATH, '/html/body/div[1]/nav/nav/a[4]').click()"
   ]
  },
  {
   "cell_type": "code",
   "execution_count": 1052,
   "id": "148b3c9b",
   "metadata": {},
   "outputs": [],
   "source": [
    "driver.find_element(By.XPATH, '/html/body/div/div/div/div[2]/div/div/div/div[1]/span/input').send_keys('Data Scientist')"
   ]
  },
  {
   "cell_type": "code",
   "execution_count": 1053,
   "id": "d7b158dc",
   "metadata": {},
   "outputs": [],
   "source": [
    "driver.find_element(By.XPATH, '/html/body/div/div/div/div[2]/div/div/div/button').click()"
   ]
  },
  {
   "cell_type": "markdown",
   "id": "a1353ab3",
   "metadata": {},
   "source": [
    "The website keeps redirecting the user to the reviews page and hence we select the suggested review about the data scientist salary"
   ]
  },
  {
   "cell_type": "code",
   "execution_count": 1056,
   "id": "31bcdce5",
   "metadata": {},
   "outputs": [],
   "source": [
    "driver.find_element(By.XPATH, '/html/body/section[1]/div/section/div/div/div/div/div/div/div[5]/div[2]/div/div/div[1]/div[1]/div[1]/div[1]/div/a').click()"
   ]
  },
  {
   "cell_type": "code",
   "execution_count": 1055,
   "id": "b91abb81",
   "metadata": {},
   "outputs": [],
   "source": []
  },
  {
   "cell_type": "code",
   "execution_count": null,
   "id": "b0baa3c9",
   "metadata": {},
   "outputs": [],
   "source": []
  },
  {
   "cell_type": "code",
   "execution_count": null,
   "id": "7a257dbb",
   "metadata": {},
   "outputs": [],
   "source": []
  }
 ],
 "metadata": {
  "kernelspec": {
   "display_name": "Python 3 (ipykernel)",
   "language": "python",
   "name": "python3"
  },
  "language_info": {
   "codemirror_mode": {
    "name": "ipython",
    "version": 3
   },
   "file_extension": ".py",
   "mimetype": "text/x-python",
   "name": "python",
   "nbconvert_exporter": "python",
   "pygments_lexer": "ipython3",
   "version": "3.9.10"
  }
 },
 "nbformat": 4,
 "nbformat_minor": 5
}
