{
 "cells": [
  {
   "cell_type": "code",
   "execution_count": 380,
   "id": "236b53de",
   "metadata": {},
   "outputs": [],
   "source": [
    "import pandas as pd\n",
    "import numpy as np\n",
    "import selenium\n",
    "from selenium import webdriver\n",
    "from selenium.webdriver.common.by import By\n",
    "from selenium.webdriver.chrome.service import Service\n",
    "\n",
    "from selenium.webdriver.support.ui import WebDriverWait\n",
    "from selenium.webdriver.support import expected_conditions as EC"
   ]
  },
  {
   "cell_type": "markdown",
   "id": "d503ac85",
   "metadata": {},
   "source": [
    "# Question 1"
   ]
  },
  {
   "cell_type": "code",
   "execution_count": 16,
   "id": "a320f822",
   "metadata": {},
   "outputs": [],
   "source": [
    "s   = Service(r'C:\\Users\\zobekenobe\\Desktop\\chromedriver.exe')\n",
    "driver = webdriver.Chrome(service = s)"
   ]
  },
  {
   "cell_type": "code",
   "execution_count": 17,
   "id": "f8ce8d57",
   "metadata": {},
   "outputs": [],
   "source": [
    "url = 'https://www.naukri.com/'\n",
    "driver.get(url)\n",
    "driver.delete_all_cookies()"
   ]
  },
  {
   "cell_type": "code",
   "execution_count": 18,
   "id": "709d5c66",
   "metadata": {},
   "outputs": [],
   "source": [
    "search_jobs = driver.find_element(By.CLASS_NAME, 'suggestor-input')\n",
    "search_jobs.clear()\n",
    "search_jobs.send_keys('Data Analyst')"
   ]
  },
  {
   "cell_type": "code",
   "execution_count": 19,
   "id": "ca679108",
   "metadata": {},
   "outputs": [],
   "source": [
    "search_location = driver.find_element(By.XPATH, '/html/body/div/div[2]/div[4]/div/div/div[3]/div/div/div/input')\n",
    "search_location.clear()\n",
    "search_location.send_keys('Bangalore')"
   ]
  },
  {
   "cell_type": "code",
   "execution_count": 20,
   "id": "88974e08",
   "metadata": {},
   "outputs": [],
   "source": [
    "search_button = driver.find_element(By.CLASS_NAME,'qsbSubmit')"
   ]
  },
  {
   "cell_type": "code",
   "execution_count": 21,
   "id": "5f3562e4",
   "metadata": {},
   "outputs": [],
   "source": [
    "search_button.click()"
   ]
  },
  {
   "cell_type": "code",
   "execution_count": 28,
   "id": "a1d95185",
   "metadata": {},
   "outputs": [],
   "source": [
    "job_title = driver.find_elements(By.XPATH, '//a[@class=\"title fw500 ellipsis\"]')"
   ]
  },
  {
   "cell_type": "code",
   "execution_count": 29,
   "id": "0b06be45",
   "metadata": {},
   "outputs": [],
   "source": [
    "experience = driver.find_elements(By.XPATH, '//span[contains(@title,\"Yrs\")]')"
   ]
  },
  {
   "cell_type": "code",
   "execution_count": 30,
   "id": "e7927fd0",
   "metadata": {},
   "outputs": [],
   "source": [
    "company = driver.find_elements(By.XPATH, '//a[@class=\"subTitle ellipsis fleft\"]')"
   ]
  },
  {
   "cell_type": "code",
   "execution_count": 31,
   "id": "2362ce12",
   "metadata": {},
   "outputs": [],
   "source": [
    "location = driver.find_elements(By.XPATH, '//li[@class=\"fleft grey-text br2 placeHolderLi location\"]')"
   ]
  },
  {
   "cell_type": "code",
   "execution_count": 36,
   "id": "b1913389",
   "metadata": {},
   "outputs": [],
   "source": [
    "jobs_df = [_.text for _ in job_title][:10]\n",
    "location_df = [_.text for _ in location][:10]\n",
    "company_df = [_.text for _ in company][:10]\n",
    "experience_df = [_.text for _ in experience][:10]"
   ]
  },
  {
   "cell_type": "code",
   "execution_count": 43,
   "id": "b12ea8a2",
   "metadata": {},
   "outputs": [],
   "source": [
    "df = pd.DataFrame(data = {\n",
    "    'Job Title' : jobs_df,\n",
    "    'Company Location' : location_df,\n",
    "    'Company Name' : company_df,\n",
    "    'Experience Required' : experience_df\n",
    "}, index = np.arange(1,11))\n",
    "\n"
   ]
  },
  {
   "cell_type": "markdown",
   "id": "97468537",
   "metadata": {},
   "source": [
    "# Question 2"
   ]
  },
  {
   "cell_type": "code",
   "execution_count": 61,
   "id": "0a037917",
   "metadata": {},
   "outputs": [],
   "source": [
    "s = Service(r'C:\\Users\\zobekenobe\\Desktop\\chromedriver.exe')\n",
    "driver = webdriver.Chrome(service = s)"
   ]
  },
  {
   "cell_type": "code",
   "execution_count": 62,
   "id": "4ae062e6",
   "metadata": {},
   "outputs": [],
   "source": [
    "url = 'https://www.naukri.com/'\n",
    "driver.get(url)\n",
    "driver.delete_all_cookies()"
   ]
  },
  {
   "cell_type": "code",
   "execution_count": 63,
   "id": "552b3dd2",
   "metadata": {},
   "outputs": [],
   "source": [
    "search_jobTitle = driver.find_element(By.CLASS_NAME, 'suggestor-input')\n",
    "search_jobTitle.clear()\n",
    "search_jobTitle.send_keys('Data Scientist')"
   ]
  },
  {
   "cell_type": "code",
   "execution_count": 64,
   "id": "de090fb1",
   "metadata": {},
   "outputs": [],
   "source": [
    "search_location = driver.find_element(By.XPATH, '/html/body/div/div[2]/div[4]/div/div/div[3]/div/div/div/input')\n",
    "search_location.clear()\n",
    "search_location.send_keys('Bangalore')"
   ]
  },
  {
   "cell_type": "code",
   "execution_count": 65,
   "id": "54157d15",
   "metadata": {},
   "outputs": [],
   "source": [
    "search_button = driver.find_element(By.CLASS_NAME,'qsbSubmit')"
   ]
  },
  {
   "cell_type": "code",
   "execution_count": 66,
   "id": "3e1f1b30",
   "metadata": {},
   "outputs": [],
   "source": [
    "search_button.click()"
   ]
  },
  {
   "cell_type": "code",
   "execution_count": 67,
   "id": "5b3cb9f5",
   "metadata": {},
   "outputs": [],
   "source": [
    "job_title = driver.find_elements(By.XPATH, '//a[@class=\"title fw500 ellipsis\"]')"
   ]
  },
  {
   "cell_type": "code",
   "execution_count": 68,
   "id": "65b3e790",
   "metadata": {},
   "outputs": [],
   "source": [
    "location = driver.find_elements(By.XPATH, '//li[@class=\"fleft grey-text br2 placeHolderLi location\"]')"
   ]
  },
  {
   "cell_type": "code",
   "execution_count": 69,
   "id": "3e68d4ae",
   "metadata": {},
   "outputs": [],
   "source": [
    "company = driver.find_elements(By.XPATH, '//a[@class=\"subTitle ellipsis fleft\"]')"
   ]
  },
  {
   "cell_type": "code",
   "execution_count": 70,
   "id": "5a0d4c48",
   "metadata": {},
   "outputs": [],
   "source": [
    "jobs_df = [_.text for _ in job_title][:10]\n",
    "location_df = [_.text for _ in location][:10]\n",
    "company_df = [_.text for _ in company][:10]"
   ]
  },
  {
   "cell_type": "code",
   "execution_count": 71,
   "id": "446438ef",
   "metadata": {},
   "outputs": [],
   "source": [
    "df = pd.DataFrame(data = {\n",
    "    'Job Title' : jobs_df,\n",
    "    'Company Location' : location_df,\n",
    "    'Company Name' : company_df,\n",
    "}, index = np.arange(1,11))"
   ]
  },
  {
   "cell_type": "code",
   "execution_count": 72,
   "id": "2facb8cf",
   "metadata": {},
   "outputs": [
    {
     "data": {
      "text/html": [
       "<div>\n",
       "<style scoped>\n",
       "    .dataframe tbody tr th:only-of-type {\n",
       "        vertical-align: middle;\n",
       "    }\n",
       "\n",
       "    .dataframe tbody tr th {\n",
       "        vertical-align: top;\n",
       "    }\n",
       "\n",
       "    .dataframe thead th {\n",
       "        text-align: right;\n",
       "    }\n",
       "</style>\n",
       "<table border=\"1\" class=\"dataframe\">\n",
       "  <thead>\n",
       "    <tr style=\"text-align: right;\">\n",
       "      <th></th>\n",
       "      <th>Job Title</th>\n",
       "      <th>Company Location</th>\n",
       "      <th>Company Name</th>\n",
       "    </tr>\n",
       "  </thead>\n",
       "  <tbody>\n",
       "    <tr>\n",
       "      <th>1</th>\n",
       "      <td>Senior Data Scientist</td>\n",
       "      <td>Chennai, Bangalore/Bengaluru</td>\n",
       "      <td>Shell</td>\n",
       "    </tr>\n",
       "    <tr>\n",
       "      <th>2</th>\n",
       "      <td>Global Tax Automation &amp; Operations - Data Scie...</td>\n",
       "      <td>Bangalore/Bengaluru</td>\n",
       "      <td>Dell</td>\n",
       "    </tr>\n",
       "    <tr>\n",
       "      <th>3</th>\n",
       "      <td>Lead Data Scientist - Machine Learning/ Data M...</td>\n",
       "      <td>Bangalore/Bengaluru</td>\n",
       "      <td>Wrackle Technologies Pvt Ltd</td>\n",
       "    </tr>\n",
       "    <tr>\n",
       "      <th>4</th>\n",
       "      <td>Opportunity For Data Scientist Internship - Be...</td>\n",
       "      <td>Indore, Bangalore/Bengaluru\\n(WFH during Covid)</td>\n",
       "      <td>Corner Stone Solutions</td>\n",
       "    </tr>\n",
       "    <tr>\n",
       "      <th>5</th>\n",
       "      <td>Louis Dreyfus Company Looking For Data Scientist</td>\n",
       "      <td>Bangalore/Bengaluru</td>\n",
       "      <td>Louis Dreyfus Commodities</td>\n",
       "    </tr>\n",
       "    <tr>\n",
       "      <th>6</th>\n",
       "      <td>Data Scientist: Advanced Analytics</td>\n",
       "      <td>Bangalore/Bengaluru</td>\n",
       "      <td>IBM</td>\n",
       "    </tr>\n",
       "    <tr>\n",
       "      <th>7</th>\n",
       "      <td>Data Scientist: Advanced Analytics</td>\n",
       "      <td>Bangalore/Bengaluru</td>\n",
       "      <td>IBM</td>\n",
       "    </tr>\n",
       "    <tr>\n",
       "      <th>8</th>\n",
       "      <td>GSC Operational Analytics Data Scientist</td>\n",
       "      <td>Bangalore/Bengaluru</td>\n",
       "      <td>Intel</td>\n",
       "    </tr>\n",
       "    <tr>\n",
       "      <th>9</th>\n",
       "      <td>Data Scientist: Artificial Intelligence</td>\n",
       "      <td>Bangalore/Bengaluru</td>\n",
       "      <td>IBM</td>\n",
       "    </tr>\n",
       "    <tr>\n",
       "      <th>10</th>\n",
       "      <td>Data Scientist: Artificial Intelligence</td>\n",
       "      <td>Bangalore/Bengaluru</td>\n",
       "      <td>IBM</td>\n",
       "    </tr>\n",
       "  </tbody>\n",
       "</table>\n",
       "</div>"
      ],
      "text/plain": [
       "                                            Job Title  \\\n",
       "1                               Senior Data Scientist   \n",
       "2   Global Tax Automation & Operations - Data Scie...   \n",
       "3   Lead Data Scientist - Machine Learning/ Data M...   \n",
       "4   Opportunity For Data Scientist Internship - Be...   \n",
       "5    Louis Dreyfus Company Looking For Data Scientist   \n",
       "6                  Data Scientist: Advanced Analytics   \n",
       "7                  Data Scientist: Advanced Analytics   \n",
       "8            GSC Operational Analytics Data Scientist   \n",
       "9             Data Scientist: Artificial Intelligence   \n",
       "10            Data Scientist: Artificial Intelligence   \n",
       "\n",
       "                                   Company Location  \\\n",
       "1                      Chennai, Bangalore/Bengaluru   \n",
       "2                               Bangalore/Bengaluru   \n",
       "3                               Bangalore/Bengaluru   \n",
       "4   Indore, Bangalore/Bengaluru\\n(WFH during Covid)   \n",
       "5                               Bangalore/Bengaluru   \n",
       "6                               Bangalore/Bengaluru   \n",
       "7                               Bangalore/Bengaluru   \n",
       "8                               Bangalore/Bengaluru   \n",
       "9                               Bangalore/Bengaluru   \n",
       "10                              Bangalore/Bengaluru   \n",
       "\n",
       "                    Company Name  \n",
       "1                          Shell  \n",
       "2                           Dell  \n",
       "3   Wrackle Technologies Pvt Ltd  \n",
       "4         Corner Stone Solutions  \n",
       "5      Louis Dreyfus Commodities  \n",
       "6                            IBM  \n",
       "7                            IBM  \n",
       "8                          Intel  \n",
       "9                            IBM  \n",
       "10                           IBM  "
      ]
     },
     "execution_count": 72,
     "metadata": {},
     "output_type": "execute_result"
    }
   ],
   "source": [
    "df"
   ]
  },
  {
   "cell_type": "markdown",
   "id": "793c4c79",
   "metadata": {},
   "source": [
    "# Question 3"
   ]
  },
  {
   "cell_type": "code",
   "execution_count": 92,
   "id": "7a76021b",
   "metadata": {},
   "outputs": [],
   "source": [
    "s = Service(r'C:\\Users\\zobekenobe\\Desktop\\chromedriver.exe')\n",
    "driver = webdriver.Chrome(service = s)"
   ]
  },
  {
   "cell_type": "code",
   "execution_count": 93,
   "id": "ed93e17d",
   "metadata": {},
   "outputs": [],
   "source": [
    "url = 'https://naukri.com'\n",
    "driver.get(url)\n",
    "driver.delete_all_cookies()"
   ]
  },
  {
   "cell_type": "code",
   "execution_count": 94,
   "id": "84444f4e",
   "metadata": {},
   "outputs": [],
   "source": [
    "search_jobTitle = driver.find_element(By.CLASS_NAME, 'suggestor-input')\n",
    "search_jobTitle.clear()\n",
    "search_jobTitle.send_keys('Data Scientist')"
   ]
  },
  {
   "cell_type": "code",
   "execution_count": 95,
   "id": "35b67e05",
   "metadata": {},
   "outputs": [],
   "source": [
    "search_button = driver.find_element(By.CLASS_NAME, 'qsbSubmit')"
   ]
  },
  {
   "cell_type": "code",
   "execution_count": 96,
   "id": "2d9e63a4",
   "metadata": {},
   "outputs": [],
   "source": [
    "search_button.click()"
   ]
  },
  {
   "cell_type": "code",
   "execution_count": 97,
   "id": "320cab93",
   "metadata": {},
   "outputs": [],
   "source": [
    "location_filter = driver.find_element(By.XPATH, '//span[contains(@title,\"Delhi / NCR\")]')\n",
    "driver.delete_all_cookies()"
   ]
  },
  {
   "cell_type": "code",
   "execution_count": 98,
   "id": "6fcb6f90",
   "metadata": {},
   "outputs": [],
   "source": [
    "location_filter.click()"
   ]
  },
  {
   "cell_type": "code",
   "execution_count": 99,
   "id": "4092912e",
   "metadata": {},
   "outputs": [],
   "source": [
    "salary_filter = driver.find_element(By.XPATH, '/html/body/div[1]/div[3]/div[2]/section[1]/div[2]/div[4]/div[2]/div[2]/label/p/span[1]')\n",
    "driver.delete_all_cookies()"
   ]
  },
  {
   "cell_type": "code",
   "execution_count": 100,
   "id": "ad1e9628",
   "metadata": {},
   "outputs": [],
   "source": [
    "salary_filter.click()"
   ]
  },
  {
   "cell_type": "code",
   "execution_count": 101,
   "id": "b21c99b1",
   "metadata": {},
   "outputs": [],
   "source": [
    "job_title = driver.find_elements(By.XPATH, '//a[@class=\"title fw500 ellipsis\"]')"
   ]
  },
  {
   "cell_type": "code",
   "execution_count": 102,
   "id": "89c971c8",
   "metadata": {},
   "outputs": [],
   "source": [
    "location = driver.find_elements(By.XPATH, '//li[@class=\"fleft grey-text br2 placeHolderLi location\"]')"
   ]
  },
  {
   "cell_type": "code",
   "execution_count": 103,
   "id": "4e2a22e6",
   "metadata": {},
   "outputs": [],
   "source": [
    "company = driver.find_elements(By.XPATH, '//a[@class=\"subTitle ellipsis fleft\"]')"
   ]
  },
  {
   "cell_type": "code",
   "execution_count": 104,
   "id": "8102be3e",
   "metadata": {},
   "outputs": [],
   "source": [
    "experience = driver.find_elements(By.XPATH, '//span[contains(@title,\"Yrs\")]')"
   ]
  },
  {
   "cell_type": "code",
   "execution_count": 105,
   "id": "bc545b76",
   "metadata": {},
   "outputs": [],
   "source": [
    "jobs_df = [_.text for _ in job_title][:10]\n",
    "location_df = [_.text for _ in location][:10]\n",
    "company_df = [_.text for _ in company][:10]\n",
    "experience_df = [_.text for _ in experience][:10]"
   ]
  },
  {
   "cell_type": "code",
   "execution_count": 109,
   "id": "7d3e0659",
   "metadata": {},
   "outputs": [],
   "source": [
    "df = pd.DataFrame(data = {\n",
    "    'Job Title' : jobs_df,\n",
    "    'Company Location' : location_df,\n",
    "    'Company Name' : company_df,\n",
    "    'Experience Required' : experience_df\n",
    "}, index = np.arange(1,11))"
   ]
  },
  {
   "cell_type": "code",
   "execution_count": 110,
   "id": "87aa63e0",
   "metadata": {
    "scrolled": true
   },
   "outputs": [
    {
     "data": {
      "text/html": [
       "<div>\n",
       "<style scoped>\n",
       "    .dataframe tbody tr th:only-of-type {\n",
       "        vertical-align: middle;\n",
       "    }\n",
       "\n",
       "    .dataframe tbody tr th {\n",
       "        vertical-align: top;\n",
       "    }\n",
       "\n",
       "    .dataframe thead th {\n",
       "        text-align: right;\n",
       "    }\n",
       "</style>\n",
       "<table border=\"1\" class=\"dataframe\">\n",
       "  <thead>\n",
       "    <tr style=\"text-align: right;\">\n",
       "      <th></th>\n",
       "      <th>Job Title</th>\n",
       "      <th>Company Location</th>\n",
       "      <th>Company Name</th>\n",
       "      <th>Experience Required</th>\n",
       "    </tr>\n",
       "  </thead>\n",
       "  <tbody>\n",
       "    <tr>\n",
       "      <th>1</th>\n",
       "      <td>Data Scientist</td>\n",
       "      <td>New Delhi</td>\n",
       "      <td>CHANGE LEADERS CONSULTING</td>\n",
       "      <td>3-8 Yrs</td>\n",
       "    </tr>\n",
       "    <tr>\n",
       "      <th>2</th>\n",
       "      <td>Data Scientist</td>\n",
       "      <td>Gurgaon/Gurugram, Chennai\\n(WFH during Covid)</td>\n",
       "      <td>DECISION POINT PRIVATE LIMITED</td>\n",
       "      <td>1-6 Yrs</td>\n",
       "    </tr>\n",
       "    <tr>\n",
       "      <th>3</th>\n",
       "      <td>Opening For Data Scientist</td>\n",
       "      <td>Gurgaon/Gurugram</td>\n",
       "      <td>Care Health Insurance</td>\n",
       "      <td>1-5 Yrs</td>\n",
       "    </tr>\n",
       "    <tr>\n",
       "      <th>4</th>\n",
       "      <td>Data Scientist | A Fintech Organisation</td>\n",
       "      <td>Gurgaon/Gurugram</td>\n",
       "      <td>Vision Beyond Resources India Private Limited</td>\n",
       "      <td>2-7 Yrs</td>\n",
       "    </tr>\n",
       "    <tr>\n",
       "      <th>5</th>\n",
       "      <td>Data Scientist</td>\n",
       "      <td>Kolkata, Hyderabad/Secunderabad, Pune, Chennai...</td>\n",
       "      <td>Alp Consulting Limited</td>\n",
       "      <td>1-6 Yrs</td>\n",
       "    </tr>\n",
       "    <tr>\n",
       "      <th>6</th>\n",
       "      <td>Data Scientist-Onsite and offshore</td>\n",
       "      <td>Hyderabad/Secunderabad, Pune, Chennai, Bangalo...</td>\n",
       "      <td>PROKXIMITY</td>\n",
       "      <td>3-8 Yrs</td>\n",
       "    </tr>\n",
       "    <tr>\n",
       "      <th>7</th>\n",
       "      <td>Data &amp; Applied Scientist</td>\n",
       "      <td>Noida, Hyderabad/Secunderabad, Bangalore/Benga...</td>\n",
       "      <td>Microsoft</td>\n",
       "      <td>3-7 Yrs</td>\n",
       "    </tr>\n",
       "    <tr>\n",
       "      <th>8</th>\n",
       "      <td>Data and applied Scientist</td>\n",
       "      <td>Noida, Hyderabad/Secunderabad, Bangalore/Benga...</td>\n",
       "      <td>Microsoft</td>\n",
       "      <td>3-7 Yrs</td>\n",
       "    </tr>\n",
       "    <tr>\n",
       "      <th>9</th>\n",
       "      <td>Urgent Requirement || Data Scientist || Noida</td>\n",
       "      <td>Noida, Delhi / NCR</td>\n",
       "      <td>HCL</td>\n",
       "      <td>3-8 Yrs</td>\n",
       "    </tr>\n",
       "    <tr>\n",
       "      <th>10</th>\n",
       "      <td>Data Analyst / Data Scientist / Business Analy...</td>\n",
       "      <td>Noida, New Delhi, Delhi / NCR</td>\n",
       "      <td>GABA Consultancy services</td>\n",
       "      <td>0-0 Yrs</td>\n",
       "    </tr>\n",
       "  </tbody>\n",
       "</table>\n",
       "</div>"
      ],
      "text/plain": [
       "                                            Job Title  \\\n",
       "1                                      Data Scientist   \n",
       "2                                      Data Scientist   \n",
       "3                          Opening For Data Scientist   \n",
       "4             Data Scientist | A Fintech Organisation   \n",
       "5                                      Data Scientist   \n",
       "6                  Data Scientist-Onsite and offshore   \n",
       "7                            Data & Applied Scientist   \n",
       "8                          Data and applied Scientist   \n",
       "9       Urgent Requirement || Data Scientist || Noida   \n",
       "10  Data Analyst / Data Scientist / Business Analy...   \n",
       "\n",
       "                                     Company Location  \\\n",
       "1                                           New Delhi   \n",
       "2       Gurgaon/Gurugram, Chennai\\n(WFH during Covid)   \n",
       "3                                    Gurgaon/Gurugram   \n",
       "4                                    Gurgaon/Gurugram   \n",
       "5   Kolkata, Hyderabad/Secunderabad, Pune, Chennai...   \n",
       "6   Hyderabad/Secunderabad, Pune, Chennai, Bangalo...   \n",
       "7   Noida, Hyderabad/Secunderabad, Bangalore/Benga...   \n",
       "8   Noida, Hyderabad/Secunderabad, Bangalore/Benga...   \n",
       "9                                  Noida, Delhi / NCR   \n",
       "10                      Noida, New Delhi, Delhi / NCR   \n",
       "\n",
       "                                     Company Name Experience Required  \n",
       "1                       CHANGE LEADERS CONSULTING             3-8 Yrs  \n",
       "2                  DECISION POINT PRIVATE LIMITED             1-6 Yrs  \n",
       "3                           Care Health Insurance             1-5 Yrs  \n",
       "4   Vision Beyond Resources India Private Limited             2-7 Yrs  \n",
       "5                          Alp Consulting Limited             1-6 Yrs  \n",
       "6                                      PROKXIMITY             3-8 Yrs  \n",
       "7                                       Microsoft             3-7 Yrs  \n",
       "8                                       Microsoft             3-7 Yrs  \n",
       "9                                             HCL             3-8 Yrs  \n",
       "10                      GABA Consultancy services             0-0 Yrs  "
      ]
     },
     "execution_count": 110,
     "metadata": {},
     "output_type": "execute_result"
    }
   ],
   "source": [
    "df"
   ]
  },
  {
   "cell_type": "markdown",
   "id": "9fe4ae84",
   "metadata": {},
   "source": [
    "# Question 4"
   ]
  },
  {
   "cell_type": "code",
   "execution_count": 491,
   "id": "ab9f8930",
   "metadata": {},
   "outputs": [],
   "source": [
    "s = Service(r'C:\\Users\\zobekenobe\\Desktop\\chromedriver.exe')\n",
    "driver = webdriver.Chrome(service = s)"
   ]
  },
  {
   "cell_type": "code",
   "execution_count": 492,
   "id": "5d9b4ea1",
   "metadata": {},
   "outputs": [],
   "source": [
    "url = 'https://www.flipkart.com/'\n",
    "driver.get(url)"
   ]
  },
  {
   "cell_type": "code",
   "execution_count": 493,
   "id": "361efbfd",
   "metadata": {},
   "outputs": [],
   "source": [
    "driver.maximize_window()"
   ]
  },
  {
   "cell_type": "code",
   "execution_count": 494,
   "id": "14e6e9c3",
   "metadata": {},
   "outputs": [],
   "source": [
    "# close interuppting window\n",
    "close_window = driver.find_element(By.XPATH,'/html/body/div[2]/div/div/button')"
   ]
  },
  {
   "cell_type": "code",
   "execution_count": 495,
   "id": "15cad2be",
   "metadata": {},
   "outputs": [],
   "source": [
    "close_window.click()"
   ]
  },
  {
   "cell_type": "code",
   "execution_count": 496,
   "id": "5a96476c",
   "metadata": {},
   "outputs": [],
   "source": [
    "search_sunglasses = driver.find_element(By.CLASS_NAME, '_3704LK')\n",
    "search_sunglasses.clear()\n",
    "search_sunglasses.send_keys('sunglasses')"
   ]
  },
  {
   "cell_type": "code",
   "execution_count": 497,
   "id": "efbc6d32",
   "metadata": {},
   "outputs": [],
   "source": [
    "search_button = driver.find_element(By.CLASS_NAME,'L0Z3Pu')"
   ]
  },
  {
   "cell_type": "code",
   "execution_count": 498,
   "id": "502a13c8",
   "metadata": {},
   "outputs": [],
   "source": [
    "search_button.click()"
   ]
  },
  {
   "cell_type": "code",
   "execution_count": 499,
   "id": "8a074591",
   "metadata": {},
   "outputs": [],
   "source": [
    "brand_df = []\n",
    "description_df = []\n",
    "price_df = []"
   ]
  },
  {
   "cell_type": "code",
   "execution_count": 500,
   "id": "24313899",
   "metadata": {},
   "outputs": [],
   "source": [
    "brand = driver.find_elements(By.XPATH, '//div[@class=\"_2WkVRV\"]')\n",
    "brand_df += [_.text for _ in brand]\n",
    "description = driver.find_elements(By.XPATH, '//a[@class=\"IRpwTa\"]')\n",
    "description_df += [_.text for _ in description]\n",
    "price = driver.find_elements(By.XPATH, '//div[@class=\"_30jeq3\"]')    \n",
    "price_df += [_.text for _ in price]\n",
    "\n",
    "driver.implicitly_wait(20)\n",
    "test = driver.find_elements(By.CLASS_NAME,'_1LKTO3')\n",
    "test[0].click()"
   ]
  },
  {
   "cell_type": "code",
   "execution_count": 501,
   "id": "f5cd660e",
   "metadata": {},
   "outputs": [],
   "source": [
    "brand = driver.find_elements(By.XPATH, '//div[@class=\"_2WkVRV\"]')\n",
    "brand_df += [_.text for _ in brand]\n",
    "description = driver.find_elements(By.XPATH, '//a[@class=\"IRpwTa\"]')\n",
    "description_df += [_.text for _ in description]\n",
    "price = driver.find_elements(By.XPATH, '//div[@class=\"_30jeq3\"]')    \n",
    "price_df += [_.text for _ in price]\n",
    "\n",
    "driver.implicitly_wait(20)\n",
    "test = driver.find_elements(By.CLASS_NAME,'_1LKTO3')\n",
    "test[1].click()"
   ]
  },
  {
   "cell_type": "code",
   "execution_count": 502,
   "id": "bfffe662",
   "metadata": {},
   "outputs": [],
   "source": [
    "brand = driver.find_elements(By.XPATH, '//div[@class=\"_2WkVRV\"]')\n",
    "brand_df += [_.text for _ in brand]\n",
    "description = driver.find_elements(By.XPATH, '//a[@class=\"IRpwTa\"]')\n",
    "description_df += [_.text for _ in description]\n",
    "price = driver.find_elements(By.XPATH, '//div[@class=\"_30jeq3\"]')    \n",
    "price_df += [_.text for _ in price]"
   ]
  },
  {
   "cell_type": "code",
   "execution_count": 507,
   "id": "2570d143",
   "metadata": {},
   "outputs": [],
   "source": [
    "df = pd.DataFrame(data = {\n",
    "    'Brand' : brand_df[:100],\n",
    "    'Description' : description_df[:100],\n",
    "    'Price' : price_df[:100]\n",
    "}, index = range(1,101))"
   ]
  },
  {
   "cell_type": "code",
   "execution_count": 517,
   "id": "bf664b68",
   "metadata": {},
   "outputs": [
    {
     "ename": "IndexError",
     "evalue": "single positional indexer is out-of-bounds",
     "output_type": "error",
     "traceback": [
      "\u001b[1;31m---------------------------------------------------------------------------\u001b[0m",
      "\u001b[1;31mIndexError\u001b[0m                                Traceback (most recent call last)",
      "Input \u001b[1;32mIn [517]\u001b[0m, in \u001b[0;36m<module>\u001b[1;34m\u001b[0m\n\u001b[1;32m----> 1\u001b[0m \u001b[43mdf\u001b[49m\u001b[38;5;241;43m.\u001b[39;49m\u001b[43miloc\u001b[49m\u001b[43m[\u001b[49m\u001b[38;5;241;43m100\u001b[39;49m\u001b[43m]\u001b[49m\n",
      "File \u001b[1;32m~\\anaconda3\\envs\\datasci\\lib\\site-packages\\pandas\\core\\indexing.py:967\u001b[0m, in \u001b[0;36m_LocationIndexer.__getitem__\u001b[1;34m(self, key)\u001b[0m\n\u001b[0;32m    964\u001b[0m axis \u001b[38;5;241m=\u001b[39m \u001b[38;5;28mself\u001b[39m\u001b[38;5;241m.\u001b[39maxis \u001b[38;5;129;01mor\u001b[39;00m \u001b[38;5;241m0\u001b[39m\n\u001b[0;32m    966\u001b[0m maybe_callable \u001b[38;5;241m=\u001b[39m com\u001b[38;5;241m.\u001b[39mapply_if_callable(key, \u001b[38;5;28mself\u001b[39m\u001b[38;5;241m.\u001b[39mobj)\n\u001b[1;32m--> 967\u001b[0m \u001b[38;5;28;01mreturn\u001b[39;00m \u001b[38;5;28;43mself\u001b[39;49m\u001b[38;5;241;43m.\u001b[39;49m\u001b[43m_getitem_axis\u001b[49m\u001b[43m(\u001b[49m\u001b[43mmaybe_callable\u001b[49m\u001b[43m,\u001b[49m\u001b[43m \u001b[49m\u001b[43maxis\u001b[49m\u001b[38;5;241;43m=\u001b[39;49m\u001b[43maxis\u001b[49m\u001b[43m)\u001b[49m\n",
      "File \u001b[1;32m~\\anaconda3\\envs\\datasci\\lib\\site-packages\\pandas\\core\\indexing.py:1520\u001b[0m, in \u001b[0;36m_iLocIndexer._getitem_axis\u001b[1;34m(self, key, axis)\u001b[0m\n\u001b[0;32m   1517\u001b[0m     \u001b[38;5;28;01mraise\u001b[39;00m \u001b[38;5;167;01mTypeError\u001b[39;00m(\u001b[38;5;124m\"\u001b[39m\u001b[38;5;124mCannot index by location index with a non-integer key\u001b[39m\u001b[38;5;124m\"\u001b[39m)\n\u001b[0;32m   1519\u001b[0m \u001b[38;5;66;03m# validate the location\u001b[39;00m\n\u001b[1;32m-> 1520\u001b[0m \u001b[38;5;28;43mself\u001b[39;49m\u001b[38;5;241;43m.\u001b[39;49m\u001b[43m_validate_integer\u001b[49m\u001b[43m(\u001b[49m\u001b[43mkey\u001b[49m\u001b[43m,\u001b[49m\u001b[43m \u001b[49m\u001b[43maxis\u001b[49m\u001b[43m)\u001b[49m\n\u001b[0;32m   1522\u001b[0m \u001b[38;5;28;01mreturn\u001b[39;00m \u001b[38;5;28mself\u001b[39m\u001b[38;5;241m.\u001b[39mobj\u001b[38;5;241m.\u001b[39m_ixs(key, axis\u001b[38;5;241m=\u001b[39maxis)\n",
      "File \u001b[1;32m~\\anaconda3\\envs\\datasci\\lib\\site-packages\\pandas\\core\\indexing.py:1452\u001b[0m, in \u001b[0;36m_iLocIndexer._validate_integer\u001b[1;34m(self, key, axis)\u001b[0m\n\u001b[0;32m   1450\u001b[0m len_axis \u001b[38;5;241m=\u001b[39m \u001b[38;5;28mlen\u001b[39m(\u001b[38;5;28mself\u001b[39m\u001b[38;5;241m.\u001b[39mobj\u001b[38;5;241m.\u001b[39m_get_axis(axis))\n\u001b[0;32m   1451\u001b[0m \u001b[38;5;28;01mif\u001b[39;00m key \u001b[38;5;241m>\u001b[39m\u001b[38;5;241m=\u001b[39m len_axis \u001b[38;5;129;01mor\u001b[39;00m key \u001b[38;5;241m<\u001b[39m \u001b[38;5;241m-\u001b[39mlen_axis:\n\u001b[1;32m-> 1452\u001b[0m     \u001b[38;5;28;01mraise\u001b[39;00m \u001b[38;5;167;01mIndexError\u001b[39;00m(\u001b[38;5;124m\"\u001b[39m\u001b[38;5;124msingle positional indexer is out-of-bounds\u001b[39m\u001b[38;5;124m\"\u001b[39m)\n",
      "\u001b[1;31mIndexError\u001b[0m: single positional indexer is out-of-bounds"
     ]
    }
   ],
   "source": []
  },
  {
   "cell_type": "code",
   "execution_count": null,
   "id": "c1883760",
   "metadata": {},
   "outputs": [],
   "source": []
  },
  {
   "cell_type": "code",
   "execution_count": null,
   "id": "97437a5b",
   "metadata": {},
   "outputs": [],
   "source": []
  }
 ],
 "metadata": {
  "kernelspec": {
   "display_name": "Python 3 (ipykernel)",
   "language": "python",
   "name": "python3"
  },
  "language_info": {
   "codemirror_mode": {
    "name": "ipython",
    "version": 3
   },
   "file_extension": ".py",
   "mimetype": "text/x-python",
   "name": "python",
   "nbconvert_exporter": "python",
   "pygments_lexer": "ipython3",
   "version": "3.9.10"
  }
 },
 "nbformat": 4,
 "nbformat_minor": 5
}
