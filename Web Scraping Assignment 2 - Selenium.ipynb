{
 "cells": [
  {
   "cell_type": "code",
   "execution_count": 380,
   "id": "236b53de",
   "metadata": {},
   "outputs": [],
   "source": [
    "import pandas as pd\n",
    "import numpy as np\n",
    "import selenium\n",
    "from selenium import webdriver\n",
    "from selenium.webdriver.common.by import By\n",
    "from selenium.webdriver.chrome.service import Service\n",
    "\n",
    "from selenium.webdriver.support.ui import WebDriverWait\n",
    "from selenium.webdriver.support import expected_conditions as EC"
   ]
  },
  {
   "cell_type": "markdown",
   "id": "74e33c97",
   "metadata": {},
   "source": [
    "# Question 1"
   ]
  },
  {
   "cell_type": "code",
   "execution_count": 16,
   "id": "ff68221c",
   "metadata": {},
   "outputs": [],
   "source": [
    "s   = Service(r'C:\\Users\\zobekenobe\\Desktop\\chromedriver.exe')\n",
    "driver = webdriver.Chrome(service = s)"
   ]
  },
  {
   "cell_type": "code",
   "execution_count": 17,
   "id": "ff49c68b",
   "metadata": {},
   "outputs": [],
   "source": [
    "url = 'https://www.naukri.com/'\n",
    "driver.get(url)\n",
    "driver.delete_all_cookies()"
   ]
  },
  {
   "cell_type": "code",
   "execution_count": 18,
   "id": "8feb1595",
   "metadata": {},
   "outputs": [],
   "source": [
    "search_jobs = driver.find_element(By.CLASS_NAME, 'suggestor-input')\n",
    "search_jobs.clear()\n",
    "search_jobs.send_keys('Data Analyst')"
   ]
  },
  {
   "cell_type": "code",
   "execution_count": 19,
   "id": "b7f79ac2",
   "metadata": {},
   "outputs": [],
   "source": [
    "search_location = driver.find_element(By.XPATH, '/html/body/div/div[2]/div[4]/div/div/div[3]/div/div/div/input')\n",
    "search_location.clear()\n",
    "search_location.send_keys('Bangalore')"
   ]
  },
  {
   "cell_type": "code",
   "execution_count": 20,
   "id": "437c5dc9",
   "metadata": {},
   "outputs": [],
   "source": [
    "search_button = driver.find_element(By.CLASS_NAME,'qsbSubmit')"
   ]
  },
  {
   "cell_type": "code",
   "execution_count": 21,
   "id": "7b029e58",
   "metadata": {},
   "outputs": [],
   "source": [
    "search_button.click()"
   ]
  },
  {
   "cell_type": "code",
   "execution_count": 28,
   "id": "efb730d1",
   "metadata": {},
   "outputs": [],
   "source": [
    "job_title = driver.find_elements(By.XPATH, '//a[@class=\"title fw500 ellipsis\"]')"
   ]
  },
  {
   "cell_type": "code",
   "execution_count": 29,
   "id": "5b5dda2e",
   "metadata": {},
   "outputs": [],
   "source": [
    "experience = driver.find_elements(By.XPATH, '//span[contains(@title,\"Yrs\")]')"
   ]
  },
  {
   "cell_type": "code",
   "execution_count": 30,
   "id": "bb087ac6",
   "metadata": {},
   "outputs": [],
   "source": [
    "company = driver.find_elements(By.XPATH, '//a[@class=\"subTitle ellipsis fleft\"]')"
   ]
  },
  {
   "cell_type": "code",
   "execution_count": 31,
   "id": "ce5c1ebb",
   "metadata": {},
   "outputs": [],
   "source": [
    "location = driver.find_elements(By.XPATH, '//li[@class=\"fleft grey-text br2 placeHolderLi location\"]')"
   ]
  },
  {
   "cell_type": "code",
   "execution_count": 36,
   "id": "97b1be74",
   "metadata": {},
   "outputs": [],
   "source": [
    "jobs_df = [_.text for _ in job_title][:10]\n",
    "location_df = [_.text for _ in location][:10]\n",
    "company_df = [_.text for _ in company][:10]\n",
    "experience_df = [_.text for _ in experience][:10]"
   ]
  },
  {
   "cell_type": "code",
   "execution_count": 43,
   "id": "8989b3ec",
   "metadata": {},
   "outputs": [],
   "source": [
    "df = pd.DataFrame(data = {\n",
    "    'Job Title' : jobs_df,\n",
    "    'Company Location' : location_df,\n",
    "    'Company Name' : company_df,\n",
    "    'Experience Required' : experience_df\n",
    "}, index = np.arange(1,11))\n",
    "\n"
   ]
  },
  {
   "cell_type": "markdown",
   "id": "3548d480",
   "metadata": {},
   "source": [
    "# Question 2"
   ]
  },
  {
   "cell_type": "code",
   "execution_count": 61,
   "id": "c49d91c7",
   "metadata": {},
   "outputs": [],
   "source": [
    "s = Service(r'C:\\Users\\zobekenobe\\Desktop\\chromedriver.exe')\n",
    "driver = webdriver.Chrome(service = s)"
   ]
  },
  {
   "cell_type": "code",
   "execution_count": 62,
   "id": "ba4aaa31",
   "metadata": {},
   "outputs": [],
   "source": [
    "url = 'https://www.naukri.com/'\n",
    "driver.get(url)\n",
    "driver.delete_all_cookies()"
   ]
  },
  {
   "cell_type": "code",
   "execution_count": 63,
   "id": "addae560",
   "metadata": {},
   "outputs": [],
   "source": [
    "search_jobTitle = driver.find_element(By.CLASS_NAME, 'suggestor-input')\n",
    "search_jobTitle.clear()\n",
    "search_jobTitle.send_keys('Data Scientist')"
   ]
  },
  {
   "cell_type": "code",
   "execution_count": 64,
   "id": "56de7784",
   "metadata": {},
   "outputs": [],
   "source": [
    "search_location = driver.find_element(By.XPATH, '/html/body/div/div[2]/div[4]/div/div/div[3]/div/div/div/input')\n",
    "search_location.clear()\n",
    "search_location.send_keys('Bangalore')"
   ]
  },
  {
   "cell_type": "code",
   "execution_count": 65,
   "id": "cef7e0a1",
   "metadata": {},
   "outputs": [],
   "source": [
    "search_button = driver.find_element(By.CLASS_NAME,'qsbSubmit')"
   ]
  },
  {
   "cell_type": "code",
   "execution_count": 66,
   "id": "07eabbb6",
   "metadata": {},
   "outputs": [],
   "source": [
    "search_button.click()"
   ]
  },
  {
   "cell_type": "code",
   "execution_count": 67,
   "id": "160cee45",
   "metadata": {},
   "outputs": [],
   "source": [
    "job_title = driver.find_elements(By.XPATH, '//a[@class=\"title fw500 ellipsis\"]')"
   ]
  },
  {
   "cell_type": "code",
   "execution_count": 68,
   "id": "47d4991b",
   "metadata": {},
   "outputs": [],
   "source": [
    "location = driver.find_elements(By.XPATH, '//li[@class=\"fleft grey-text br2 placeHolderLi location\"]')"
   ]
  },
  {
   "cell_type": "code",
   "execution_count": 69,
   "id": "451fe491",
   "metadata": {},
   "outputs": [],
   "source": [
    "company = driver.find_elements(By.XPATH, '//a[@class=\"subTitle ellipsis fleft\"]')"
   ]
  },
  {
   "cell_type": "code",
   "execution_count": 70,
   "id": "7b0c13ac",
   "metadata": {},
   "outputs": [],
   "source": [
    "jobs_df = [_.text for _ in job_title][:10]\n",
    "location_df = [_.text for _ in location][:10]\n",
    "company_df = [_.text for _ in company][:10]"
   ]
  },
  {
   "cell_type": "code",
   "execution_count": 71,
   "id": "d4f21d1b",
   "metadata": {},
   "outputs": [],
   "source": [
    "df = pd.DataFrame(data = {\n",
    "    'Job Title' : jobs_df,\n",
    "    'Company Location' : location_df,\n",
    "    'Company Name' : company_df,\n",
    "}, index = np.arange(1,11))"
   ]
  },
  {
   "cell_type": "code",
   "execution_count": 72,
   "id": "a1d61302",
   "metadata": {},
   "outputs": [
    {
     "data": {
      "text/html": [
       "<div>\n",
       "<style scoped>\n",
       "    .dataframe tbody tr th:only-of-type {\n",
       "        vertical-align: middle;\n",
       "    }\n",
       "\n",
       "    .dataframe tbody tr th {\n",
       "        vertical-align: top;\n",
       "    }\n",
       "\n",
       "    .dataframe thead th {\n",
       "        text-align: right;\n",
       "    }\n",
       "</style>\n",
       "<table border=\"1\" class=\"dataframe\">\n",
       "  <thead>\n",
       "    <tr style=\"text-align: right;\">\n",
       "      <th></th>\n",
       "      <th>Job Title</th>\n",
       "      <th>Company Location</th>\n",
       "      <th>Company Name</th>\n",
       "    </tr>\n",
       "  </thead>\n",
       "  <tbody>\n",
       "    <tr>\n",
       "      <th>1</th>\n",
       "      <td>Senior Data Scientist</td>\n",
       "      <td>Chennai, Bangalore/Bengaluru</td>\n",
       "      <td>Shell</td>\n",
       "    </tr>\n",
       "    <tr>\n",
       "      <th>2</th>\n",
       "      <td>Global Tax Automation &amp; Operations - Data Scie...</td>\n",
       "      <td>Bangalore/Bengaluru</td>\n",
       "      <td>Dell</td>\n",
       "    </tr>\n",
       "    <tr>\n",
       "      <th>3</th>\n",
       "      <td>Lead Data Scientist - Machine Learning/ Data M...</td>\n",
       "      <td>Bangalore/Bengaluru</td>\n",
       "      <td>Wrackle Technologies Pvt Ltd</td>\n",
       "    </tr>\n",
       "    <tr>\n",
       "      <th>4</th>\n",
       "      <td>Opportunity For Data Scientist Internship - Be...</td>\n",
       "      <td>Indore, Bangalore/Bengaluru\\n(WFH during Covid)</td>\n",
       "      <td>Corner Stone Solutions</td>\n",
       "    </tr>\n",
       "    <tr>\n",
       "      <th>5</th>\n",
       "      <td>Louis Dreyfus Company Looking For Data Scientist</td>\n",
       "      <td>Bangalore/Bengaluru</td>\n",
       "      <td>Louis Dreyfus Commodities</td>\n",
       "    </tr>\n",
       "    <tr>\n",
       "      <th>6</th>\n",
       "      <td>Data Scientist: Advanced Analytics</td>\n",
       "      <td>Bangalore/Bengaluru</td>\n",
       "      <td>IBM</td>\n",
       "    </tr>\n",
       "    <tr>\n",
       "      <th>7</th>\n",
       "      <td>Data Scientist: Advanced Analytics</td>\n",
       "      <td>Bangalore/Bengaluru</td>\n",
       "      <td>IBM</td>\n",
       "    </tr>\n",
       "    <tr>\n",
       "      <th>8</th>\n",
       "      <td>GSC Operational Analytics Data Scientist</td>\n",
       "      <td>Bangalore/Bengaluru</td>\n",
       "      <td>Intel</td>\n",
       "    </tr>\n",
       "    <tr>\n",
       "      <th>9</th>\n",
       "      <td>Data Scientist: Artificial Intelligence</td>\n",
       "      <td>Bangalore/Bengaluru</td>\n",
       "      <td>IBM</td>\n",
       "    </tr>\n",
       "    <tr>\n",
       "      <th>10</th>\n",
       "      <td>Data Scientist: Artificial Intelligence</td>\n",
       "      <td>Bangalore/Bengaluru</td>\n",
       "      <td>IBM</td>\n",
       "    </tr>\n",
       "  </tbody>\n",
       "</table>\n",
       "</div>"
      ],
      "text/plain": [
       "                                            Job Title  \\\n",
       "1                               Senior Data Scientist   \n",
       "2   Global Tax Automation & Operations - Data Scie...   \n",
       "3   Lead Data Scientist - Machine Learning/ Data M...   \n",
       "4   Opportunity For Data Scientist Internship - Be...   \n",
       "5    Louis Dreyfus Company Looking For Data Scientist   \n",
       "6                  Data Scientist: Advanced Analytics   \n",
       "7                  Data Scientist: Advanced Analytics   \n",
       "8            GSC Operational Analytics Data Scientist   \n",
       "9             Data Scientist: Artificial Intelligence   \n",
       "10            Data Scientist: Artificial Intelligence   \n",
       "\n",
       "                                   Company Location  \\\n",
       "1                      Chennai, Bangalore/Bengaluru   \n",
       "2                               Bangalore/Bengaluru   \n",
       "3                               Bangalore/Bengaluru   \n",
       "4   Indore, Bangalore/Bengaluru\\n(WFH during Covid)   \n",
       "5                               Bangalore/Bengaluru   \n",
       "6                               Bangalore/Bengaluru   \n",
       "7                               Bangalore/Bengaluru   \n",
       "8                               Bangalore/Bengaluru   \n",
       "9                               Bangalore/Bengaluru   \n",
       "10                              Bangalore/Bengaluru   \n",
       "\n",
       "                    Company Name  \n",
       "1                          Shell  \n",
       "2                           Dell  \n",
       "3   Wrackle Technologies Pvt Ltd  \n",
       "4         Corner Stone Solutions  \n",
       "5      Louis Dreyfus Commodities  \n",
       "6                            IBM  \n",
       "7                            IBM  \n",
       "8                          Intel  \n",
       "9                            IBM  \n",
       "10                           IBM  "
      ]
     },
     "execution_count": 72,
     "metadata": {},
     "output_type": "execute_result"
    }
   ],
   "source": [
    "df"
   ]
  },
  {
   "cell_type": "markdown",
   "id": "58f03728",
   "metadata": {},
   "source": [
    "# Question 3"
   ]
  },
  {
   "cell_type": "code",
   "execution_count": 92,
   "id": "3b842d91",
   "metadata": {},
   "outputs": [],
   "source": [
    "s = Service(r'C:\\Users\\zobekenobe\\Desktop\\chromedriver.exe')\n",
    "driver = webdriver.Chrome(service = s)"
   ]
  },
  {
   "cell_type": "code",
   "execution_count": 93,
   "id": "7d83203f",
   "metadata": {},
   "outputs": [],
   "source": [
    "url = 'https://naukri.com'\n",
    "driver.get(url)\n",
    "driver.delete_all_cookies()"
   ]
  },
  {
   "cell_type": "code",
   "execution_count": 94,
   "id": "3dbebefa",
   "metadata": {},
   "outputs": [],
   "source": [
    "search_jobTitle = driver.find_element(By.CLASS_NAME, 'suggestor-input')\n",
    "search_jobTitle.clear()\n",
    "search_jobTitle.send_keys('Data Scientist')"
   ]
  },
  {
   "cell_type": "code",
   "execution_count": 95,
   "id": "559dd444",
   "metadata": {},
   "outputs": [],
   "source": [
    "search_button = driver.find_element(By.CLASS_NAME, 'qsbSubmit')"
   ]
  },
  {
   "cell_type": "code",
   "execution_count": 96,
   "id": "a6974bed",
   "metadata": {},
   "outputs": [],
   "source": [
    "search_button.click()"
   ]
  },
  {
   "cell_type": "code",
   "execution_count": 97,
   "id": "73d0c4da",
   "metadata": {},
   "outputs": [],
   "source": [
    "location_filter = driver.find_element(By.XPATH, '//span[contains(@title,\"Delhi / NCR\")]')\n",
    "driver.delete_all_cookies()"
   ]
  },
  {
   "cell_type": "code",
   "execution_count": 98,
   "id": "9cd3cea5",
   "metadata": {},
   "outputs": [],
   "source": [
    "location_filter.click()"
   ]
  },
  {
   "cell_type": "code",
   "execution_count": 99,
   "id": "972aeaa4",
   "metadata": {},
   "outputs": [],
   "source": [
    "salary_filter = driver.find_element(By.XPATH, '/html/body/div[1]/div[3]/div[2]/section[1]/div[2]/div[4]/div[2]/div[2]/label/p/span[1]')\n",
    "driver.delete_all_cookies()"
   ]
  },
  {
   "cell_type": "code",
   "execution_count": 100,
   "id": "bc7918b1",
   "metadata": {},
   "outputs": [],
   "source": [
    "salary_filter.click()"
   ]
  },
  {
   "cell_type": "code",
   "execution_count": 101,
   "id": "19916268",
   "metadata": {},
   "outputs": [],
   "source": [
    "job_title = driver.find_elements(By.XPATH, '//a[@class=\"title fw500 ellipsis\"]')"
   ]
  },
  {
   "cell_type": "code",
   "execution_count": 102,
   "id": "e6a487f6",
   "metadata": {},
   "outputs": [],
   "source": [
    "location = driver.find_elements(By.XPATH, '//li[@class=\"fleft grey-text br2 placeHolderLi location\"]')"
   ]
  },
  {
   "cell_type": "code",
   "execution_count": 103,
   "id": "29aa61a0",
   "metadata": {},
   "outputs": [],
   "source": [
    "company = driver.find_elements(By.XPATH, '//a[@class=\"subTitle ellipsis fleft\"]')"
   ]
  },
  {
   "cell_type": "code",
   "execution_count": 104,
   "id": "66ac3581",
   "metadata": {},
   "outputs": [],
   "source": [
    "experience = driver.find_elements(By.XPATH, '//span[contains(@title,\"Yrs\")]')"
   ]
  },
  {
   "cell_type": "code",
   "execution_count": 105,
   "id": "4726be88",
   "metadata": {},
   "outputs": [],
   "source": [
    "jobs_df = [_.text for _ in job_title][:10]\n",
    "location_df = [_.text for _ in location][:10]\n",
    "company_df = [_.text for _ in company][:10]\n",
    "experience_df = [_.text for _ in experience][:10]"
   ]
  },
  {
   "cell_type": "code",
   "execution_count": 109,
   "id": "beb57ec1",
   "metadata": {},
   "outputs": [],
   "source": [
    "df = pd.DataFrame(data = {\n",
    "    'Job Title' : jobs_df,\n",
    "    'Company Location' : location_df,\n",
    "    'Company Name' : company_df,\n",
    "    'Experience Required' : experience_df\n",
    "}, index = np.arange(1,11))"
   ]
  },
  {
   "cell_type": "code",
   "execution_count": 110,
   "id": "e81ba37a",
   "metadata": {
    "scrolled": true
   },
   "outputs": [
    {
     "data": {
      "text/html": [
       "<div>\n",
       "<style scoped>\n",
       "    .dataframe tbody tr th:only-of-type {\n",
       "        vertical-align: middle;\n",
       "    }\n",
       "\n",
       "    .dataframe tbody tr th {\n",
       "        vertical-align: top;\n",
       "    }\n",
       "\n",
       "    .dataframe thead th {\n",
       "        text-align: right;\n",
       "    }\n",
       "</style>\n",
       "<table border=\"1\" class=\"dataframe\">\n",
       "  <thead>\n",
       "    <tr style=\"text-align: right;\">\n",
       "      <th></th>\n",
       "      <th>Job Title</th>\n",
       "      <th>Company Location</th>\n",
       "      <th>Company Name</th>\n",
       "      <th>Experience Required</th>\n",
       "    </tr>\n",
       "  </thead>\n",
       "  <tbody>\n",
       "    <tr>\n",
       "      <th>1</th>\n",
       "      <td>Data Scientist</td>\n",
       "      <td>New Delhi</td>\n",
       "      <td>CHANGE LEADERS CONSULTING</td>\n",
       "      <td>3-8 Yrs</td>\n",
       "    </tr>\n",
       "    <tr>\n",
       "      <th>2</th>\n",
       "      <td>Data Scientist</td>\n",
       "      <td>Gurgaon/Gurugram, Chennai\\n(WFH during Covid)</td>\n",
       "      <td>DECISION POINT PRIVATE LIMITED</td>\n",
       "      <td>1-6 Yrs</td>\n",
       "    </tr>\n",
       "    <tr>\n",
       "      <th>3</th>\n",
       "      <td>Opening For Data Scientist</td>\n",
       "      <td>Gurgaon/Gurugram</td>\n",
       "      <td>Care Health Insurance</td>\n",
       "      <td>1-5 Yrs</td>\n",
       "    </tr>\n",
       "    <tr>\n",
       "      <th>4</th>\n",
       "      <td>Data Scientist | A Fintech Organisation</td>\n",
       "      <td>Gurgaon/Gurugram</td>\n",
       "      <td>Vision Beyond Resources India Private Limited</td>\n",
       "      <td>2-7 Yrs</td>\n",
       "    </tr>\n",
       "    <tr>\n",
       "      <th>5</th>\n",
       "      <td>Data Scientist</td>\n",
       "      <td>Kolkata, Hyderabad/Secunderabad, Pune, Chennai...</td>\n",
       "      <td>Alp Consulting Limited</td>\n",
       "      <td>1-6 Yrs</td>\n",
       "    </tr>\n",
       "    <tr>\n",
       "      <th>6</th>\n",
       "      <td>Data Scientist-Onsite and offshore</td>\n",
       "      <td>Hyderabad/Secunderabad, Pune, Chennai, Bangalo...</td>\n",
       "      <td>PROKXIMITY</td>\n",
       "      <td>3-8 Yrs</td>\n",
       "    </tr>\n",
       "    <tr>\n",
       "      <th>7</th>\n",
       "      <td>Data &amp; Applied Scientist</td>\n",
       "      <td>Noida, Hyderabad/Secunderabad, Bangalore/Benga...</td>\n",
       "      <td>Microsoft</td>\n",
       "      <td>3-7 Yrs</td>\n",
       "    </tr>\n",
       "    <tr>\n",
       "      <th>8</th>\n",
       "      <td>Data and applied Scientist</td>\n",
       "      <td>Noida, Hyderabad/Secunderabad, Bangalore/Benga...</td>\n",
       "      <td>Microsoft</td>\n",
       "      <td>3-7 Yrs</td>\n",
       "    </tr>\n",
       "    <tr>\n",
       "      <th>9</th>\n",
       "      <td>Urgent Requirement || Data Scientist || Noida</td>\n",
       "      <td>Noida, Delhi / NCR</td>\n",
       "      <td>HCL</td>\n",
       "      <td>3-8 Yrs</td>\n",
       "    </tr>\n",
       "    <tr>\n",
       "      <th>10</th>\n",
       "      <td>Data Analyst / Data Scientist / Business Analy...</td>\n",
       "      <td>Noida, New Delhi, Delhi / NCR</td>\n",
       "      <td>GABA Consultancy services</td>\n",
       "      <td>0-0 Yrs</td>\n",
       "    </tr>\n",
       "  </tbody>\n",
       "</table>\n",
       "</div>"
      ],
      "text/plain": [
       "                                            Job Title  \\\n",
       "1                                      Data Scientist   \n",
       "2                                      Data Scientist   \n",
       "3                          Opening For Data Scientist   \n",
       "4             Data Scientist | A Fintech Organisation   \n",
       "5                                      Data Scientist   \n",
       "6                  Data Scientist-Onsite and offshore   \n",
       "7                            Data & Applied Scientist   \n",
       "8                          Data and applied Scientist   \n",
       "9       Urgent Requirement || Data Scientist || Noida   \n",
       "10  Data Analyst / Data Scientist / Business Analy...   \n",
       "\n",
       "                                     Company Location  \\\n",
       "1                                           New Delhi   \n",
       "2       Gurgaon/Gurugram, Chennai\\n(WFH during Covid)   \n",
       "3                                    Gurgaon/Gurugram   \n",
       "4                                    Gurgaon/Gurugram   \n",
       "5   Kolkata, Hyderabad/Secunderabad, Pune, Chennai...   \n",
       "6   Hyderabad/Secunderabad, Pune, Chennai, Bangalo...   \n",
       "7   Noida, Hyderabad/Secunderabad, Bangalore/Benga...   \n",
       "8   Noida, Hyderabad/Secunderabad, Bangalore/Benga...   \n",
       "9                                  Noida, Delhi / NCR   \n",
       "10                      Noida, New Delhi, Delhi / NCR   \n",
       "\n",
       "                                     Company Name Experience Required  \n",
       "1                       CHANGE LEADERS CONSULTING             3-8 Yrs  \n",
       "2                  DECISION POINT PRIVATE LIMITED             1-6 Yrs  \n",
       "3                           Care Health Insurance             1-5 Yrs  \n",
       "4   Vision Beyond Resources India Private Limited             2-7 Yrs  \n",
       "5                          Alp Consulting Limited             1-6 Yrs  \n",
       "6                                      PROKXIMITY             3-8 Yrs  \n",
       "7                                       Microsoft             3-7 Yrs  \n",
       "8                                       Microsoft             3-7 Yrs  \n",
       "9                                             HCL             3-8 Yrs  \n",
       "10                      GABA Consultancy services             0-0 Yrs  "
      ]
     },
     "execution_count": 110,
     "metadata": {},
     "output_type": "execute_result"
    }
   ],
   "source": [
    "df"
   ]
  },
  {
   "cell_type": "markdown",
   "id": "95f33d58",
   "metadata": {},
   "source": [
    "# Question 4"
   ]
  },
  {
   "cell_type": "code",
   "execution_count": 491,
   "id": "95da7388",
   "metadata": {},
   "outputs": [],
   "source": [
    "s = Service(r'C:\\Users\\zobekenobe\\Desktop\\chromedriver.exe')\n",
    "driver = webdriver.Chrome(service = s)"
   ]
  },
  {
   "cell_type": "code",
   "execution_count": 492,
   "id": "46f04b23",
   "metadata": {},
   "outputs": [],
   "source": [
    "url = 'https://www.flipkart.com/'\n",
    "driver.get(url)"
   ]
  },
  {
   "cell_type": "code",
   "execution_count": 493,
   "id": "7021df27",
   "metadata": {},
   "outputs": [],
   "source": [
    "driver.maximize_window()"
   ]
  },
  {
   "cell_type": "code",
   "execution_count": 494,
   "id": "9d1a5f8c",
   "metadata": {},
   "outputs": [],
   "source": [
    "# close interuppting window\n",
    "close_window = driver.find_element(By.XPATH,'/html/body/div[2]/div/div/button')"
   ]
  },
  {
   "cell_type": "code",
   "execution_count": 495,
   "id": "418809b7",
   "metadata": {},
   "outputs": [],
   "source": [
    "close_window.click()"
   ]
  },
  {
   "cell_type": "code",
   "execution_count": 496,
   "id": "51975534",
   "metadata": {},
   "outputs": [],
   "source": [
    "search_sunglasses = driver.find_element(By.CLASS_NAME, '_3704LK')\n",
    "search_sunglasses.clear()\n",
    "search_sunglasses.send_keys('sunglasses')"
   ]
  },
  {
   "cell_type": "code",
   "execution_count": 497,
   "id": "46ca10c7",
   "metadata": {},
   "outputs": [],
   "source": [
    "search_button = driver.find_element(By.CLASS_NAME,'L0Z3Pu')"
   ]
  },
  {
   "cell_type": "code",
   "execution_count": 498,
   "id": "524007ad",
   "metadata": {},
   "outputs": [],
   "source": [
    "search_button.click()"
   ]
  },
  {
   "cell_type": "code",
   "execution_count": 499,
   "id": "cc340ce8",
   "metadata": {},
   "outputs": [],
   "source": [
    "brand_df = []\n",
    "description_df = []\n",
    "price_df = []"
   ]
  },
  {
   "cell_type": "code",
   "execution_count": 500,
   "id": "ec70e2b3",
   "metadata": {},
   "outputs": [],
   "source": [
    "brand = driver.find_elements(By.XPATH, '//div[@class=\"_2WkVRV\"]')\n",
    "brand_df += [_.text for _ in brand]\n",
    "description = driver.find_elements(By.XPATH, '//a[@class=\"IRpwTa\"]')\n",
    "description_df += [_.text for _ in description]\n",
    "price = driver.find_elements(By.XPATH, '//div[@class=\"_30jeq3\"]')    \n",
    "price_df += [_.text for _ in price]\n",
    "\n",
    "driver.implicitly_wait(20)\n",
    "test = driver.find_elements(By.CLASS_NAME,'_1LKTO3')\n",
    "test[0].click()"
   ]
  },
  {
   "cell_type": "code",
   "execution_count": 501,
   "id": "a6b60293",
   "metadata": {},
   "outputs": [],
   "source": [
    "brand = driver.find_elements(By.XPATH, '//div[@class=\"_2WkVRV\"]')\n",
    "brand_df += [_.text for _ in brand]\n",
    "description = driver.find_elements(By.XPATH, '//a[@class=\"IRpwTa\"]')\n",
    "description_df += [_.text for _ in description]\n",
    "price = driver.find_elements(By.XPATH, '//div[@class=\"_30jeq3\"]')    \n",
    "price_df += [_.text for _ in price]\n",
    "\n",
    "driver.implicitly_wait(20)\n",
    "test = driver.find_elements(By.CLASS_NAME,'_1LKTO3')\n",
    "test[1].click()"
   ]
  },
  {
   "cell_type": "code",
   "execution_count": 502,
   "id": "252d998f",
   "metadata": {},
   "outputs": [],
   "source": [
    "brand = driver.find_elements(By.XPATH, '//div[@class=\"_2WkVRV\"]')\n",
    "brand_df += [_.text for _ in brand]\n",
    "description = driver.find_elements(By.XPATH, '//a[@class=\"IRpwTa\"]')\n",
    "description_df += [_.text for _ in description]\n",
    "price = driver.find_elements(By.XPATH, '//div[@class=\"_30jeq3\"]')    \n",
    "price_df += [_.text for _ in price]"
   ]
  },
  {
   "cell_type": "code",
   "execution_count": 507,
   "id": "36bbfb47",
   "metadata": {},
   "outputs": [],
   "source": [
    "df = pd.DataFrame(data = {\n",
    "    'Brand' : brand_df[:100],\n",
    "    'Description' : description_df[:100],\n",
    "    'Price' : price_df[:100]\n",
    "}, index = range(1,101))"
   ]
  },
  {
   "cell_type": "code",
   "execution_count": 518,
   "id": "1748f836",
   "metadata": {},
   "outputs": [
    {
     "data": {
      "text/html": [
       "<div>\n",
       "<style scoped>\n",
       "    .dataframe tbody tr th:only-of-type {\n",
       "        vertical-align: middle;\n",
       "    }\n",
       "\n",
       "    .dataframe tbody tr th {\n",
       "        vertical-align: top;\n",
       "    }\n",
       "\n",
       "    .dataframe thead th {\n",
       "        text-align: right;\n",
       "    }\n",
       "</style>\n",
       "<table border=\"1\" class=\"dataframe\">\n",
       "  <thead>\n",
       "    <tr style=\"text-align: right;\">\n",
       "      <th></th>\n",
       "      <th>Brand</th>\n",
       "      <th>Description</th>\n",
       "      <th>Price</th>\n",
       "    </tr>\n",
       "  </thead>\n",
       "  <tbody>\n",
       "    <tr>\n",
       "      <th>1</th>\n",
       "      <td>Rich Club</td>\n",
       "      <td>UV Protection Round Sunglasses (48)</td>\n",
       "      <td>₹174</td>\n",
       "    </tr>\n",
       "    <tr>\n",
       "      <th>2</th>\n",
       "      <td>ROZZETTA CRAFT</td>\n",
       "      <td>UV Protection, Riding Glasses Rectangular Sung...</td>\n",
       "      <td>₹426</td>\n",
       "    </tr>\n",
       "    <tr>\n",
       "      <th>3</th>\n",
       "      <td>Fastrack</td>\n",
       "      <td>UV Protection Wayfarer Sunglasses (Free Size)</td>\n",
       "      <td>₹721</td>\n",
       "    </tr>\n",
       "    <tr>\n",
       "      <th>4</th>\n",
       "      <td>Elligator</td>\n",
       "      <td>UV Protection Round Sunglasses (54)</td>\n",
       "      <td>₹248</td>\n",
       "    </tr>\n",
       "    <tr>\n",
       "      <th>5</th>\n",
       "      <td>SRPM</td>\n",
       "      <td>UV Protection Wayfarer Sunglasses (50)</td>\n",
       "      <td>₹188</td>\n",
       "    </tr>\n",
       "  </tbody>\n",
       "</table>\n",
       "</div>"
      ],
      "text/plain": [
       "            Brand                                        Description Price\n",
       "1       Rich Club                UV Protection Round Sunglasses (48)  ₹174\n",
       "2  ROZZETTA CRAFT  UV Protection, Riding Glasses Rectangular Sung...  ₹426\n",
       "3        Fastrack      UV Protection Wayfarer Sunglasses (Free Size)  ₹721\n",
       "4       Elligator                UV Protection Round Sunglasses (54)  ₹248\n",
       "5            SRPM             UV Protection Wayfarer Sunglasses (50)  ₹188"
      ]
     },
     "execution_count": 518,
     "metadata": {},
     "output_type": "execute_result"
    }
   ],
   "source": [
    "df.head()"
   ]
  },
  {
   "cell_type": "markdown",
   "id": "389c2efe",
   "metadata": {},
   "source": [
    "# Question 5"
   ]
  },
  {
   "cell_type": "code",
   "execution_count": 726,
   "id": "b45ab27e",
   "metadata": {},
   "outputs": [],
   "source": [
    "s = Service(r'C:\\Users\\zobekenobe\\Desktop\\chromedriver.exe')\n",
    "driver = webdriver.Chrome(service = s)"
   ]
  },
  {
   "cell_type": "code",
   "execution_count": 727,
   "id": "08d6f6b3",
   "metadata": {},
   "outputs": [],
   "source": [
    "url = 'https://www.flipkart.com/apple-iphone-11-black-64-gb-includes- earpods-power-adapter/p/itm0f37c2240b217?pid=MOBFKCTSVZAXUHGR&lid=LSTMOBFKCTSVZAXUHGREPBFGI&marketplace'"
   ]
  },
  {
   "cell_type": "code",
   "execution_count": 728,
   "id": "0825555e",
   "metadata": {},
   "outputs": [],
   "source": [
    "driver.get(url)"
   ]
  },
  {
   "cell_type": "code",
   "execution_count": 729,
   "id": "6124eadd",
   "metadata": {},
   "outputs": [],
   "source": [
    "all_reviews = driver.find_element(By.XPATH, '/html/body/div[1]/div/div[3]/div[1]/div[2]/div[8]/div/div/div[5]/div/a/div/span')"
   ]
  },
  {
   "cell_type": "code",
   "execution_count": 730,
   "id": "5ab1793d",
   "metadata": {},
   "outputs": [],
   "source": [
    "all_reviews.click()"
   ]
  },
  {
   "cell_type": "code",
   "execution_count": 731,
   "id": "ecdddfb3",
   "metadata": {},
   "outputs": [],
   "source": [
    "rating  = []\n",
    "review  = []\n",
    "summary = []"
   ]
  },
  {
   "cell_type": "code",
   "execution_count": 732,
   "id": "73247e56",
   "metadata": {},
   "outputs": [],
   "source": [
    "rating_element = driver.find_elements(By.XPATH, '//div[@class=\"_3LWZlK _1BLPMq\"]')\n",
    "rating += [_.text for _ in rating_element]\n",
    "review_element = driver.find_elements(By.CLASS_NAME, '_2-N8zT')\n",
    "review += [_.text for _ in review_element]\n",
    "summary_element = driver.find_elements(By.CLASS_NAME, 't-ZTKy')\n",
    "summary += [_.text for _ in summary_element]"
   ]
  },
  {
   "cell_type": "code",
   "execution_count": 733,
   "id": "8d0a059e",
   "metadata": {},
   "outputs": [],
   "source": [
    "next_page = driver.find_elements(By.CLASS_NAME, '_1LKTO3')\n",
    "next_page[0].click()\n"
   ]
  },
  {
   "cell_type": "code",
   "execution_count": 734,
   "id": "1aebd34d",
   "metadata": {},
   "outputs": [],
   "source": [
    "rating_element = driver.find_elements(By.XPATH, '//div[@class=\"_3LWZlK _1BLPMq\"]')\n",
    "rating += [_.text for _ in rating_element]\n",
    "review_element = driver.find_elements(By.CLASS_NAME, '_2-N8zT')\n",
    "review += [_.text for _ in review_element]\n",
    "summary_element = driver.find_elements(By.CLASS_NAME, 't-ZTKy')\n",
    "summary += [_.text for _ in summary_element]\n",
    "next_page = driver.find_elements(By.CLASS_NAME, '_1LKTO3')\n",
    "next_page[1].click()"
   ]
  },
  {
   "cell_type": "code",
   "execution_count": 735,
   "id": "7b446e24",
   "metadata": {},
   "outputs": [],
   "source": [
    "rating_element = driver.find_elements(By.XPATH, '//div[@class=\"_3LWZlK _1BLPMq\"]')\n",
    "rating += [_.text for _ in rating_element]\n",
    "review_element = driver.find_elements(By.CLASS_NAME, '_2-N8zT')\n",
    "review += [_.text for _ in review_element]\n",
    "summary_element = driver.find_elements(By.CLASS_NAME, 't-ZTKy')\n",
    "summary += [_.text for _ in summary_element]\n",
    "next_page = driver.find_elements(By.CLASS_NAME, '_1LKTO3')\n",
    "next_page[1].click()\n"
   ]
  },
  {
   "cell_type": "code",
   "execution_count": 736,
   "id": "26de3ab6",
   "metadata": {},
   "outputs": [],
   "source": [
    "rating_element = driver.find_elements(By.XPATH, '//div[@class=\"_3LWZlK _1BLPMq\"]')\n",
    "rating += [_.text for _ in rating_element]\n",
    "review_element = driver.find_elements(By.CLASS_NAME, '_2-N8zT')\n",
    "review += [_.text for _ in review_element]\n",
    "summary_element = driver.find_elements(By.CLASS_NAME, 't-ZTKy')\n",
    "summary += [_.text for _ in summary_element]\n",
    "next_page = driver.find_elements(By.CLASS_NAME, '_1LKTO3')\n",
    "next_page[1].click()"
   ]
  },
  {
   "cell_type": "code",
   "execution_count": 737,
   "id": "b9bd05c9",
   "metadata": {},
   "outputs": [],
   "source": [
    "rating_element = driver.find_elements(By.XPATH, '//div[@class=\"_3LWZlK _1BLPMq\"]')\n",
    "rating += [_.text for _ in rating_element]\n",
    "review_element = driver.find_elements(By.CLASS_NAME, '_2-N8zT')\n",
    "review += [_.text for _ in review_element]\n",
    "summary_element = driver.find_elements(By.CLASS_NAME, 't-ZTKy')\n",
    "summary += [_.text for _ in summary_element]\n",
    "next_page = driver.find_elements(By.CLASS_NAME, '_1LKTO3')\n",
    "next_page[1].click()"
   ]
  },
  {
   "cell_type": "code",
   "execution_count": 738,
   "id": "2dcb18f3",
   "metadata": {},
   "outputs": [],
   "source": [
    "rating_element = driver.find_elements(By.XPATH, '//div[@class=\"_3LWZlK _1BLPMq\"]')\n",
    "rating += [_.text for _ in rating_element]\n",
    "review_element = driver.find_elements(By.CLASS_NAME, '_2-N8zT')\n",
    "review += [_.text for _ in review_element]\n",
    "summary_element = driver.find_elements(By.CLASS_NAME, 't-ZTKy')\n",
    "summary += [_.text for _ in summary_element]\n",
    "next_page = driver.find_elements(By.CLASS_NAME, '_1LKTO3')\n",
    "next_page[1].click()"
   ]
  },
  {
   "cell_type": "code",
   "execution_count": 739,
   "id": "b0d6bd17",
   "metadata": {},
   "outputs": [],
   "source": [
    "rating_element = driver.find_elements(By.XPATH, '//div[@class=\"_3LWZlK _1BLPMq\"]')\n",
    "rating += [_.text for _ in rating_element]\n",
    "review_element = driver.find_elements(By.CLASS_NAME, '_2-N8zT')\n",
    "review += [_.text for _ in review_element]\n",
    "summary_element = driver.find_elements(By.CLASS_NAME, 't-ZTKy')\n",
    "summary += [_.text for _ in summary_element]\n",
    "next_page = driver.find_elements(By.CLASS_NAME, '_1LKTO3')\n",
    "next_page[1].click()"
   ]
  },
  {
   "cell_type": "code",
   "execution_count": 740,
   "id": "4e7ba342",
   "metadata": {},
   "outputs": [],
   "source": [
    "rating_element = driver.find_elements(By.XPATH, '//div[@class=\"_3LWZlK _1BLPMq\"]')\n",
    "rating += [_.text for _ in rating_element]\n",
    "review_element = driver.find_elements(By.CLASS_NAME, '_2-N8zT')\n",
    "review += [_.text for _ in review_element]\n",
    "summary_element = driver.find_elements(By.CLASS_NAME, 't-ZTKy')\n",
    "summary += [_.text for _ in summary_element]\n",
    "next_page = driver.find_elements(By.CLASS_NAME, '_1LKTO3')\n",
    "next_page[1].click()"
   ]
  },
  {
   "cell_type": "code",
   "execution_count": 742,
   "id": "fe7ee0de",
   "metadata": {},
   "outputs": [],
   "source": [
    "rating_element = driver.find_elements(By.XPATH, '//div[@class=\"_3LWZlK _1BLPMq\"]')\n",
    "rating += [_.text for _ in rating_element]\n",
    "review_element = driver.find_elements(By.CLASS_NAME, '_2-N8zT')\n",
    "review += [_.text for _ in review_element]\n",
    "summary_element = driver.find_elements(By.CLASS_NAME, 't-ZTKy')\n",
    "summary += [_.text for _ in summary_element]\n",
    "next_page = driver.find_elements(By.CLASS_NAME, '_1LKTO3')\n",
    "next_page[1].click()"
   ]
  },
  {
   "cell_type": "code",
   "execution_count": 747,
   "id": "f79621ed",
   "metadata": {},
   "outputs": [],
   "source": [
    "rating_element = driver.find_elements(By.XPATH, '//div[@class=\"_3LWZlK _1BLPMq\"]')\n",
    "rating += [_.text for _ in rating_element]\n",
    "review_element = driver.find_elements(By.CLASS_NAME, '_2-N8zT')\n",
    "review += [_.text for _ in review_element]\n",
    "summary_element = driver.find_elements(By.CLASS_NAME, 't-ZTKy')\n",
    "summary += [_.text for _ in summary_element]\n",
    "next_page = driver.find_elements(By.CLASS_NAME, '_1LKTO3')\n",
    "next_page[1].click()"
   ]
  },
  {
   "cell_type": "code",
   "execution_count": 748,
   "id": "8be6589d",
   "metadata": {},
   "outputs": [],
   "source": [
    "rating_element = driver.find_elements(By.XPATH, '//div[@class=\"_3LWZlK _1BLPMq\"]')\n",
    "rating += [_.text for _ in rating_element]\n",
    "review_element = driver.find_elements(By.CLASS_NAME, '_2-N8zT')\n",
    "review += [_.text for _ in review_element]\n",
    "summary_element = driver.find_elements(By.CLASS_NAME, 't-ZTKy')\n",
    "summary += [_.text for _ in summary_element]\n",
    "next_page = driver.find_elements(By.CLASS_NAME, '_1LKTO3')\n",
    "next_page[1].click()"
   ]
  },
  {
   "cell_type": "code",
   "execution_count": 749,
   "id": "2ef149cd",
   "metadata": {},
   "outputs": [],
   "source": [
    "df = pd.DataFrame(data = {\n",
    "    'Rating':rating[:100],\n",
    "    'Review':review[:100],\n",
    "    'Full Review':summary[:100]\n",
    "}, index = range(1, 101)\n",
    "                 )"
   ]
  },
  {
   "cell_type": "markdown",
   "id": "c18caaeb",
   "metadata": {},
   "source": [
    "# Question 6"
   ]
  },
  {
   "cell_type": "code",
   "execution_count": 821,
   "id": "d60af6ad",
   "metadata": {},
   "outputs": [],
   "source": [
    "s = Service(r'C:\\Users\\zobekenobe\\Desktop\\chromedriver.exe')\n",
    "driver = webdriver.Chrome(service = s)\n",
    "url = 'https://www.flipkart.com/'\n",
    "driver.get(url)"
   ]
  },
  {
   "cell_type": "code",
   "execution_count": 822,
   "id": "0c956662",
   "metadata": {},
   "outputs": [],
   "source": [
    "\n",
    "close_window = driver.find_element(By.XPATH,'/html/body/div[2]/div/div/button').click()"
   ]
  },
  {
   "cell_type": "code",
   "execution_count": 823,
   "id": "63154524",
   "metadata": {},
   "outputs": [],
   "source": [
    "search_sunglasses = driver.find_element(By.CLASS_NAME, '_3704LK')\n",
    "search_sunglasses.clear()\n",
    "search_sunglasses.send_keys('sneakers')"
   ]
  },
  {
   "cell_type": "code",
   "execution_count": 824,
   "id": "96981db3",
   "metadata": {},
   "outputs": [],
   "source": [
    "driver.find_element(By.CLASS_NAME,'L0Z3Pu').click()"
   ]
  },
  {
   "cell_type": "code",
   "execution_count": 825,
   "id": "7b94784c",
   "metadata": {},
   "outputs": [],
   "source": [
    "brand_df = []\n",
    "description_df = []\n",
    "price_df = []"
   ]
  },
  {
   "cell_type": "code",
   "execution_count": 826,
   "id": "440a9a99",
   "metadata": {},
   "outputs": [],
   "source": [
    "brand = driver.find_elements(By.XPATH, '//div[@class=\"_2WkVRV\"]')\n",
    "brand_df += [_.text for _ in brand]\n",
    "description = driver.find_elements(By.XPATH, '//a[@class=\"IRpwTa\"]')\n",
    "description_df += [_.text for _ in description]\n",
    "price = driver.find_elements(By.XPATH, '//div[@class=\"_30jeq3\"]')    \n",
    "price_df += [_.text for _ in price]\n",
    "\n",
    "driver.implicitly_wait(20)\n",
    "test = driver.find_elements(By.CLASS_NAME,'_1LKTO3')\n",
    "test[0].click()"
   ]
  },
  {
   "cell_type": "code",
   "execution_count": 827,
   "id": "bb1c6873",
   "metadata": {},
   "outputs": [],
   "source": [
    "brand = driver.find_elements(By.XPATH, '//div[@class=\"_2WkVRV\"]')\n",
    "brand_df += [_.text for _ in brand]\n",
    "description = driver.find_elements(By.XPATH, '//a[@class=\"IRpwTa\"]')\n",
    "description_df += [_.text for _ in description]\n",
    "price = driver.find_elements(By.XPATH, '//div[@class=\"_30jeq3\"]')    \n",
    "price_df += [_.text for _ in price]\n",
    "\n",
    "driver.implicitly_wait(20)\n",
    "test = driver.find_elements(By.CLASS_NAME,'_1LKTO3')\n",
    "test[1].click()"
   ]
  },
  {
   "cell_type": "code",
   "execution_count": 830,
   "id": "2860907d",
   "metadata": {},
   "outputs": [],
   "source": [
    "brand = driver.find_elements(By.XPATH, '//div[@class=\"_2WkVRV\"]')\n",
    "brand_df += [_.text for _ in brand]\n",
    "description = driver.find_elements(By.XPATH, '//a[@class=\"IRpwTa\"]')\n",
    "description_df += [_.text for _ in description]\n",
    "price = driver.find_elements(By.XPATH, '//div[@class=\"_30jeq3\"]')    \n",
    "price_df += [_.text for _ in price]\n",
    "\n",
    "driver.implicitly_wait(20)\n",
    "test = driver.find_elements(By.CLASS_NAME,'_1LKTO3')\n",
    "test[1].click()"
   ]
  },
  {
   "cell_type": "code",
   "execution_count": 831,
   "id": "2baac9bf",
   "metadata": {},
   "outputs": [],
   "source": [
    "brand = driver.find_elements(By.XPATH, '//div[@class=\"_2WkVRV\"]')\n",
    "brand_df += [_.text for _ in brand]\n",
    "description = driver.find_elements(By.XPATH, '//a[@class=\"IRpwTa\"]')\n",
    "description_df += [_.text for _ in description]\n",
    "price = driver.find_elements(By.XPATH, '//div[@class=\"_30jeq3\"]')    \n",
    "price_df += [_.text for _ in price]"
   ]
  },
  {
   "cell_type": "code",
   "execution_count": 832,
   "id": "0ec839de",
   "metadata": {},
   "outputs": [],
   "source": [
    "df = pd.DataFrame(data = {\n",
    "    'Brand' : brand_df[:100],\n",
    "    'Description' : description_df[:100],\n",
    "    'Price' : price_df[:100]\n",
    "})"
   ]
  },
  {
   "cell_type": "code",
   "execution_count": 835,
   "id": "f2bef97e",
   "metadata": {},
   "outputs": [
    {
     "data": {
      "text/html": [
       "<div>\n",
       "<style scoped>\n",
       "    .dataframe tbody tr th:only-of-type {\n",
       "        vertical-align: middle;\n",
       "    }\n",
       "\n",
       "    .dataframe tbody tr th {\n",
       "        vertical-align: top;\n",
       "    }\n",
       "\n",
       "    .dataframe thead th {\n",
       "        text-align: right;\n",
       "    }\n",
       "</style>\n",
       "<table border=\"1\" class=\"dataframe\">\n",
       "  <thead>\n",
       "    <tr style=\"text-align: right;\">\n",
       "      <th></th>\n",
       "      <th>Brand</th>\n",
       "      <th>Description</th>\n",
       "      <th>Price</th>\n",
       "    </tr>\n",
       "  </thead>\n",
       "  <tbody>\n",
       "    <tr>\n",
       "      <th>0</th>\n",
       "      <td>BRUTON</td>\n",
       "      <td>Lattest Sneakers Shoe Sneakers For Men</td>\n",
       "      <td>₹259</td>\n",
       "    </tr>\n",
       "    <tr>\n",
       "      <th>1</th>\n",
       "      <td>BRUTON</td>\n",
       "      <td>Lightweight Pack Of 1 Trendy Sneakers Sneakers...</td>\n",
       "      <td>₹189</td>\n",
       "    </tr>\n",
       "    <tr>\n",
       "      <th>2</th>\n",
       "      <td>Trendmode</td>\n",
       "      <td>white Casual shoes,Sneakers for men's Sneakers...</td>\n",
       "      <td>₹249</td>\n",
       "    </tr>\n",
       "    <tr>\n",
       "      <th>3</th>\n",
       "      <td>aadi</td>\n",
       "      <td>Puma Smash v2 L Sneakers For Men</td>\n",
       "      <td>₹399</td>\n",
       "    </tr>\n",
       "    <tr>\n",
       "      <th>4</th>\n",
       "      <td>Xtoon</td>\n",
       "      <td>Series 7 Sneakers For Men</td>\n",
       "      <td>₹479</td>\n",
       "    </tr>\n",
       "  </tbody>\n",
       "</table>\n",
       "</div>"
      ],
      "text/plain": [
       "       Brand                                        Description Price\n",
       "0     BRUTON             Lattest Sneakers Shoe Sneakers For Men  ₹259\n",
       "1     BRUTON  Lightweight Pack Of 1 Trendy Sneakers Sneakers...  ₹189\n",
       "2  Trendmode  white Casual shoes,Sneakers for men's Sneakers...  ₹249\n",
       "3       aadi                   Puma Smash v2 L Sneakers For Men  ₹399\n",
       "4      Xtoon                          Series 7 Sneakers For Men  ₹479"
      ]
     },
     "execution_count": 835,
     "metadata": {},
     "output_type": "execute_result"
    }
   ],
   "source": [
    "df.head()"
   ]
  },
  {
   "cell_type": "markdown",
   "id": "a21b8951",
   "metadata": {},
   "source": [
    "# Question 7"
   ]
  },
  {
   "cell_type": "code",
   "execution_count": 941,
   "id": "f2d4bf34",
   "metadata": {},
   "outputs": [],
   "source": [
    "s = Service(r'C:\\Users\\zobekenobe\\Desktop\\chromedriver.exe')\n",
    "driver = webdriver.Chrome(service = s)"
   ]
  },
  {
   "cell_type": "code",
   "execution_count": 942,
   "id": "0df1c53a",
   "metadata": {},
   "outputs": [],
   "source": [
    "url = 'https://www.myntra.com/shoes'\n",
    "driver.get(url)"
   ]
  },
  {
   "cell_type": "code",
   "execution_count": 943,
   "id": "7ce88570",
   "metadata": {},
   "outputs": [],
   "source": [
    "driver.find_element(By.XPATH, '/html/body/div[2]/div/div[1]/main/div[3]/div[1]/section/div/div[5]/ul/li[2]/label').click()"
   ]
  },
  {
   "cell_type": "code",
   "execution_count": 944,
   "id": "ed6a1f12",
   "metadata": {},
   "outputs": [],
   "source": [
    "driver.find_element(By.XPATH, '/html/body/div[2]/div/div[1]/main/div[3]/div[1]/section/div/div[6]/ul/li[1]/label').click()"
   ]
  },
  {
   "cell_type": "code",
   "execution_count": 945,
   "id": "daa1859f",
   "metadata": {},
   "outputs": [],
   "source": [
    "brand = []\n",
    "price = []\n",
    "descr = []"
   ]
  },
  {
   "cell_type": "code",
   "execution_count": 947,
   "id": "562b36ae",
   "metadata": {},
   "outputs": [],
   "source": [
    "brand_element = driver.find_elements(By.CLASS_NAME, 'product-brand')\n",
    "brand += [_.text for _ in brand_element]\n",
    "price_element = driver.find_elements(By.CLASS_NAME, 'product-price')\n",
    "price += [_.text for _ in price_element]"
   ]
  },
  {
   "cell_type": "code",
   "execution_count": 948,
   "id": "1eb16d98",
   "metadata": {},
   "outputs": [],
   "source": [
    "descr_element = driver.find_elements(By.XPATH, '//h4[@class=\"product-product\"]')\n"
   ]
  },
  {
   "cell_type": "code",
   "execution_count": 949,
   "id": "2654d5d0",
   "metadata": {},
   "outputs": [],
   "source": [
    "descr += [_.text for _ in descr_element]"
   ]
  },
  {
   "cell_type": "code",
   "execution_count": 950,
   "id": "99f4cc56",
   "metadata": {},
   "outputs": [],
   "source": [
    "driver.find_element(By.XPATH, '/html/body/div[2]/div/div[1]/main/div[3]/div[2]/div/div[2]/section/div[2]/ul/li[12]/a').click()"
   ]
  },
  {
   "cell_type": "code",
   "execution_count": 951,
   "id": "ea628e51",
   "metadata": {},
   "outputs": [],
   "source": [
    "driver.implicitly_wait(20)"
   ]
  },
  {
   "cell_type": "code",
   "execution_count": 952,
   "id": "e7f5b4af",
   "metadata": {},
   "outputs": [],
   "source": [
    "brand_element = driver.find_elements(By.CLASS_NAME, 'product-brand')\n",
    "brand += [_.text for _ in brand_element]\n",
    "price_element = driver.find_elements(By.CLASS_NAME, 'product-price')\n",
    "price += [_.text for _ in price_element]"
   ]
  },
  {
   "cell_type": "code",
   "execution_count": 953,
   "id": "8dd362a3",
   "metadata": {},
   "outputs": [],
   "source": [
    "descr_element = driver.find_elements(By.XPATH, '//h4[@class=\"product-product\"]')"
   ]
  },
  {
   "cell_type": "code",
   "execution_count": 954,
   "id": "8fff3543",
   "metadata": {},
   "outputs": [],
   "source": [
    "descr += [_.text for _ in descr_element]"
   ]
  },
  {
   "cell_type": "code",
   "execution_count": 955,
   "id": "a9c2c8fe",
   "metadata": {},
   "outputs": [],
   "source": [
    "df = pd.DataFrame(data ={\n",
    "    'Brand':brand,\n",
    "    'Price':price,\n",
    "    'Description':descr\n",
    "}, index = range(1,101))"
   ]
  },
  {
   "cell_type": "code",
   "execution_count": 959,
   "id": "936a1c87",
   "metadata": {},
   "outputs": [
    {
     "data": {
      "text/html": [
       "<div>\n",
       "<style scoped>\n",
       "    .dataframe tbody tr th:only-of-type {\n",
       "        vertical-align: middle;\n",
       "    }\n",
       "\n",
       "    .dataframe tbody tr th {\n",
       "        vertical-align: top;\n",
       "    }\n",
       "\n",
       "    .dataframe thead th {\n",
       "        text-align: right;\n",
       "    }\n",
       "</style>\n",
       "<table border=\"1\" class=\"dataframe\">\n",
       "  <thead>\n",
       "    <tr style=\"text-align: right;\">\n",
       "      <th></th>\n",
       "      <th>Brand</th>\n",
       "      <th>Price</th>\n",
       "      <th>Description</th>\n",
       "    </tr>\n",
       "  </thead>\n",
       "  <tbody>\n",
       "    <tr>\n",
       "      <th>1</th>\n",
       "      <td>Nike</td>\n",
       "      <td>Rs. 1199Rs. 3495(Rs. 2296 OFF)</td>\n",
       "      <td>Kids Revolution 4 Running</td>\n",
       "    </tr>\n",
       "    <tr>\n",
       "      <th>2</th>\n",
       "      <td>Puma</td>\n",
       "      <td>Rs. 3024Rs. 5499(45% OFF)</td>\n",
       "      <td>Women Enzo 2 Running Shoes</td>\n",
       "    </tr>\n",
       "    <tr>\n",
       "      <th>3</th>\n",
       "      <td>MENGLER</td>\n",
       "      <td>Rs. 759Rs. 3999(81% OFF)</td>\n",
       "      <td>Men Walking Shoes</td>\n",
       "    </tr>\n",
       "    <tr>\n",
       "      <th>4</th>\n",
       "      <td>Cultsport</td>\n",
       "      <td>Rs. 2989Rs. 4599(35% OFF)</td>\n",
       "      <td>Men RN02 Dazsh Running Shoes</td>\n",
       "    </tr>\n",
       "    <tr>\n",
       "      <th>5</th>\n",
       "      <td>HRX by Hrithik Roshan</td>\n",
       "      <td>Rs. 1639Rs. 4099(60% OFF)</td>\n",
       "      <td>Women Running Shoes</td>\n",
       "    </tr>\n",
       "  </tbody>\n",
       "</table>\n",
       "</div>"
      ],
      "text/plain": [
       "                   Brand                           Price  \\\n",
       "1                   Nike  Rs. 1199Rs. 3495(Rs. 2296 OFF)   \n",
       "2                   Puma       Rs. 3024Rs. 5499(45% OFF)   \n",
       "3                MENGLER        Rs. 759Rs. 3999(81% OFF)   \n",
       "4              Cultsport       Rs. 2989Rs. 4599(35% OFF)   \n",
       "5  HRX by Hrithik Roshan       Rs. 1639Rs. 4099(60% OFF)   \n",
       "\n",
       "                    Description  \n",
       "1     Kids Revolution 4 Running  \n",
       "2    Women Enzo 2 Running Shoes  \n",
       "3             Men Walking Shoes  \n",
       "4  Men RN02 Dazsh Running Shoes  \n",
       "5           Women Running Shoes  "
      ]
     },
     "execution_count": 959,
     "metadata": {},
     "output_type": "execute_result"
    }
   ],
   "source": [
    "df.head()"
   ]
  },
  {
   "cell_type": "markdown",
   "id": "5e0081f4",
   "metadata": {},
   "source": [
    "# Question 8"
   ]
  },
  {
   "cell_type": "code",
   "execution_count": 969,
   "id": "7dcb0619",
   "metadata": {},
   "outputs": [],
   "source": [
    "s = Service(r'C:\\Users\\zobekenobe\\Desktop\\chromedriver.exe')\n",
    "driver = webdriver.Chrome(service = s)\n",
    "driver.get('https://www.amazon.in/')"
   ]
  },
  {
   "cell_type": "code",
   "execution_count": 970,
   "id": "3e38e8c2",
   "metadata": {},
   "outputs": [],
   "source": [
    "driver.find_element(By.XPATH, '/html/body/div[1]/header/div/div[1]/div[2]/div/form/div[2]/div[1]/input').send_keys('Laptop')"
   ]
  },
  {
   "cell_type": "code",
   "execution_count": 971,
   "id": "6a51a36d",
   "metadata": {},
   "outputs": [],
   "source": [
    "driver.find_element(By.XPATH,'/html/body/div[1]/header/div/div[1]/div[2]/div/form/div[3]/div/span/input').click()"
   ]
  },
  {
   "cell_type": "code",
   "execution_count": 972,
   "id": "f77b4f7a",
   "metadata": {},
   "outputs": [],
   "source": [
    "str_i7 = '/html/body/div[1]/div[2]/div[1]/div[2]/div/div[3]/span/div[1]/div/div/div[6]/ul[3]/li[12]/span/a/span'\n",
    "str_i9 = '/html/body/div[1]/div[2]/div[1]/div[2]/div/div[3]/span/div[1]/div/div/div[6]/ul[3]/li[13]/span/a/span'"
   ]
  },
  {
   "cell_type": "code",
   "execution_count": 973,
   "id": "1f0ba52e",
   "metadata": {},
   "outputs": [],
   "source": [
    "filter_element = driver.find_element(By.XPATH, str_i7 and str_i9)"
   ]
  },
  {
   "cell_type": "code",
   "execution_count": 974,
   "id": "d5d049ad",
   "metadata": {},
   "outputs": [],
   "source": [
    "filter_element.click()"
   ]
  },
  {
   "cell_type": "code",
   "execution_count": 975,
   "id": "4170c1f2",
   "metadata": {},
   "outputs": [],
   "source": [
    "title = []\n",
    "rating= []\n",
    "price = []"
   ]
  },
  {
   "cell_type": "code",
   "execution_count": 978,
   "id": "5ae3fa1e",
   "metadata": {},
   "outputs": [],
   "source": [
    "title_element = driver.find_elements(By.XPATH, '//span[@class = \"a-size-medium a-color-base a-text-normal\"]')\n",
    "title += [_.text for _ in title_element]"
   ]
  },
  {
   "cell_type": "code",
   "execution_count": 983,
   "id": "eb1a5b95",
   "metadata": {},
   "outputs": [],
   "source": [
    "rating_element = driver.find_elements(By.XPATH, '//span[@class=\"a-icon-alt\"]')\n",
    "rating += [_.text for _ in rating_element]"
   ]
  },
  {
   "cell_type": "code",
   "execution_count": 987,
   "id": "75fb98f4",
   "metadata": {},
   "outputs": [
    {
     "data": {
      "text/plain": [
       "''"
      ]
     },
     "execution_count": 987,
     "metadata": {},
     "output_type": "execute_result"
    }
   ],
   "source": [
    "rating_element[0].text"
   ]
  },
  {
   "cell_type": "code",
   "execution_count": null,
   "id": "e6028b4f",
   "metadata": {},
   "outputs": [],
   "source": []
  },
  {
   "cell_type": "markdown",
   "id": "efe2d568",
   "metadata": {},
   "source": [
    "# Question 9"
   ]
  },
  {
   "cell_type": "code",
   "execution_count": 995,
   "id": "93b86241",
   "metadata": {},
   "outputs": [],
   "source": [
    "s = Service(r'C:\\Users\\zobekenobe\\Desktop\\chromedriver.exe')\n",
    "driver = webdriver.Chrome(service = s)\n",
    "url = 'https://www.ambitionbox.com/'\n",
    "driver.get(url)"
   ]
  },
  {
   "cell_type": "code",
   "execution_count": 996,
   "id": "5b344d25",
   "metadata": {},
   "outputs": [],
   "source": [
    "driver.maximize_window()"
   ]
  },
  {
   "cell_type": "code",
   "execution_count": 997,
   "id": "68b60f37",
   "metadata": {},
   "outputs": [],
   "source": [
    "driver.find_element(By.XPATH, '/html/body/footer/div[1]/div[3]/div/div[4]/a').click()"
   ]
  },
  {
   "cell_type": "code",
   "execution_count": 998,
   "id": "6586c151",
   "metadata": {},
   "outputs": [],
   "source": [
    "driver.find_element(By.XPATH, '/html/body/div/div/div/div[2]/div[1]/div/div/div/div/span/input').send_keys('Data Scientist')"
   ]
  },
  {
   "cell_type": "code",
   "execution_count": 999,
   "id": "21e482ad",
   "metadata": {},
   "outputs": [],
   "source": [
    "driver.find_element(By.XPATH, '/html/body/div/div/div/div[2]/div[1]/div/div/div/button/span').click()"
   ]
  },
  {
   "cell_type": "code",
   "execution_count": 1000,
   "id": "cd077e18",
   "metadata": {},
   "outputs": [],
   "source": [
    "driver.find_element(By.XPATH, '/html/body/div/div/div/div[2]/div[2]/div[1]/div/div/div/div[2]/div[1]/p').click()"
   ]
  },
  {
   "cell_type": "code",
   "execution_count": 1001,
   "id": "8194260a",
   "metadata": {},
   "outputs": [],
   "source": [
    "driver.find_element(By.XPATH, '/html/body/div/div/div/div[2]/div[2]/div[1]/div/div/div/div[2]/div[2]/div/div[2]/input').send_keys('Noida')"
   ]
  },
  {
   "cell_type": "code",
   "execution_count": 1002,
   "id": "3bc8677d",
   "metadata": {},
   "outputs": [],
   "source": [
    "driver.find_element(By.XPATH, '/html/body/div/div/div/div[2]/div[2]/div[1]/div/div/div/div[2]/div[2]/div/div[3]/div[1]/div[1]/div/label').click()"
   ]
  },
  {
   "cell_type": "code",
   "execution_count": 1023,
   "id": "78e50bec",
   "metadata": {},
   "outputs": [],
   "source": [
    "company = driver.find_elements(By.XPATH, '//p[@class = \"company body-medium\"]')"
   ]
  },
  {
   "cell_type": "code",
   "execution_count": 1030,
   "id": "76c9ce05",
   "metadata": {},
   "outputs": [],
   "source": [
    "days = driver.find_elements(By.XPATH, '//span[contains(text(),\"ago\")]')"
   ]
  },
  {
   "cell_type": "code",
   "execution_count": 1037,
   "id": "e7a55449",
   "metadata": {},
   "outputs": [],
   "source": [
    "rating = driver.find_elements(By.XPATH, '//a[contains(@title,\"Rating\")]')"
   ]
  },
  {
   "cell_type": "code",
   "execution_count": 1031,
   "id": "2807d0f9",
   "metadata": {},
   "outputs": [],
   "source": [
    "company_df = [_.text for _ in company]"
   ]
  },
  {
   "cell_type": "code",
   "execution_count": 1032,
   "id": "cea75c33",
   "metadata": {},
   "outputs": [],
   "source": [
    "days_df = [_.text for _ in days]"
   ]
  },
  {
   "cell_type": "code",
   "execution_count": 1041,
   "id": "4c6fbccd",
   "metadata": {},
   "outputs": [],
   "source": [
    "rating_df = [_.text for _ in rating][1:]"
   ]
  },
  {
   "cell_type": "code",
   "execution_count": 1042,
   "id": "2ebd7dba",
   "metadata": {},
   "outputs": [
    {
     "data": {
      "text/plain": [
       "['3.9', '3.8', '3.7', '4.0', '4.0', '3.8', '3.8', '4.2', '4.1', '4.0']"
      ]
     },
     "execution_count": 1042,
     "metadata": {},
     "output_type": "execute_result"
    }
   ],
   "source": [
    "df = pd.DataFrame(data = {\n",
    "    'Company Name':company_df,\n",
    "    'Days since posted':\n",
    "    \n",
    "})"
   ]
  },
  {
   "cell_type": "code",
   "execution_count": null,
   "id": "97574936",
   "metadata": {},
   "outputs": [],
   "source": []
  },
  {
   "cell_type": "code",
   "execution_count": null,
   "id": "3fba4670",
   "metadata": {},
   "outputs": [],
   "source": []
  },
  {
   "cell_type": "code",
   "execution_count": null,
   "id": "05198b6e",
   "metadata": {},
   "outputs": [],
   "source": []
  },
  {
   "cell_type": "markdown",
   "id": "35af75f0",
   "metadata": {},
   "source": [
    "# Question 10"
   ]
  },
  {
   "cell_type": "code",
   "execution_count": null,
   "id": "00d37cfe",
   "metadata": {},
   "outputs": [],
   "source": []
  },
  {
   "cell_type": "code",
   "execution_count": null,
   "id": "08a73003",
   "metadata": {},
   "outputs": [],
   "source": []
  },
  {
   "cell_type": "code",
   "execution_count": null,
   "id": "30ac2aef",
   "metadata": {},
   "outputs": [],
   "source": [
    "s = Service(r'C:\\Users\\zobekenobe\\Desktop\\chromedriver.exe')\n",
    "driver = webdriver.Chrome(service = s)\n",
    "url = 'https://www.ambitionbox.com/'\n",
    "driver.get(url)"
   ]
  }
 ],
 "metadata": {
  "kernelspec": {
   "display_name": "Python 3 (ipykernel)",
   "language": "python",
   "name": "python3"
  },
  "language_info": {
   "codemirror_mode": {
    "name": "ipython",
    "version": 3
   },
   "file_extension": ".py",
   "mimetype": "text/x-python",
   "name": "python",
   "nbconvert_exporter": "python",
   "pygments_lexer": "ipython3",
   "version": "3.9.10"
  }
 },
 "nbformat": 4,
 "nbformat_minor": 5
}
