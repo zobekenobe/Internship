{
 "cells": [
  {
   "cell_type": "code",
   "execution_count": 380,
   "id": "236b53de",
   "metadata": {},
   "outputs": [],
   "source": [
    "import pandas as pd\n",
    "import numpy as np\n",
    "import selenium\n",
    "from selenium import webdriver\n",
    "from selenium.webdriver.common.by import By\n",
    "from selenium.webdriver.chrome.service import Service\n",
    "\n",
    "from selenium.webdriver.support.ui import WebDriverWait\n",
    "from selenium.webdriver.support import expected_conditions as EC"
   ]
  },
  {
   "cell_type": "markdown",
   "id": "88cb904a",
   "metadata": {},
   "source": [
    "# Question 1"
   ]
  },
  {
   "cell_type": "code",
   "execution_count": 16,
   "id": "369c3c8e",
   "metadata": {},
   "outputs": [],
   "source": [
    "s   = Service(r'C:\\Users\\zobekenobe\\Desktop\\chromedriver.exe')\n",
    "driver = webdriver.Chrome(service = s)"
   ]
  },
  {
   "cell_type": "code",
   "execution_count": 17,
   "id": "9ed3dac7",
   "metadata": {},
   "outputs": [],
   "source": [
    "url = 'https://www.naukri.com/'\n",
    "driver.get(url)\n",
    "driver.delete_all_cookies()"
   ]
  },
  {
   "cell_type": "code",
   "execution_count": 18,
   "id": "65ff5f74",
   "metadata": {},
   "outputs": [],
   "source": [
    "search_jobs = driver.find_element(By.CLASS_NAME, 'suggestor-input')\n",
    "search_jobs.clear()\n",
    "search_jobs.send_keys('Data Analyst')"
   ]
  },
  {
   "cell_type": "code",
   "execution_count": 19,
   "id": "aed11655",
   "metadata": {},
   "outputs": [],
   "source": [
    "search_location = driver.find_element(By.XPATH, '/html/body/div/div[2]/div[4]/div/div/div[3]/div/div/div/input')\n",
    "search_location.clear()\n",
    "search_location.send_keys('Bangalore')"
   ]
  },
  {
   "cell_type": "code",
   "execution_count": 20,
   "id": "e07090c8",
   "metadata": {},
   "outputs": [],
   "source": [
    "search_button = driver.find_element(By.CLASS_NAME,'qsbSubmit')"
   ]
  },
  {
   "cell_type": "code",
   "execution_count": 21,
   "id": "c036e3e2",
   "metadata": {},
   "outputs": [],
   "source": [
    "search_button.click()"
   ]
  },
  {
   "cell_type": "code",
   "execution_count": 28,
   "id": "3ffa55f9",
   "metadata": {},
   "outputs": [],
   "source": [
    "job_title = driver.find_elements(By.XPATH, '//a[@class=\"title fw500 ellipsis\"]')"
   ]
  },
  {
   "cell_type": "code",
   "execution_count": 29,
   "id": "8cc5c012",
   "metadata": {},
   "outputs": [],
   "source": [
    "experience = driver.find_elements(By.XPATH, '//span[contains(@title,\"Yrs\")]')"
   ]
  },
  {
   "cell_type": "code",
   "execution_count": 30,
   "id": "0469feda",
   "metadata": {},
   "outputs": [],
   "source": [
    "company = driver.find_elements(By.XPATH, '//a[@class=\"subTitle ellipsis fleft\"]')"
   ]
  },
  {
   "cell_type": "code",
   "execution_count": 31,
   "id": "2aa0dff5",
   "metadata": {},
   "outputs": [],
   "source": [
    "location = driver.find_elements(By.XPATH, '//li[@class=\"fleft grey-text br2 placeHolderLi location\"]')"
   ]
  },
  {
   "cell_type": "code",
   "execution_count": 36,
   "id": "9094f001",
   "metadata": {},
   "outputs": [],
   "source": [
    "jobs_df = [_.text for _ in job_title][:10]\n",
    "location_df = [_.text for _ in location][:10]\n",
    "company_df = [_.text for _ in company][:10]\n",
    "experience_df = [_.text for _ in experience][:10]"
   ]
  },
  {
   "cell_type": "code",
   "execution_count": 43,
   "id": "0ba995be",
   "metadata": {},
   "outputs": [],
   "source": [
    "df = pd.DataFrame(data = {\n",
    "    'Job Title' : jobs_df,\n",
    "    'Company Location' : location_df,\n",
    "    'Company Name' : company_df,\n",
    "    'Experience Required' : experience_df\n",
    "}, index = np.arange(1,11))\n",
    "\n"
   ]
  },
  {
   "cell_type": "markdown",
   "id": "51803ec1",
   "metadata": {},
   "source": [
    "# Question 2"
   ]
  },
  {
   "cell_type": "code",
   "execution_count": 61,
   "id": "d8f049a5",
   "metadata": {},
   "outputs": [],
   "source": [
    "s = Service(r'C:\\Users\\zobekenobe\\Desktop\\chromedriver.exe')\n",
    "driver = webdriver.Chrome(service = s)"
   ]
  },
  {
   "cell_type": "code",
   "execution_count": 62,
   "id": "65149519",
   "metadata": {},
   "outputs": [],
   "source": [
    "url = 'https://www.naukri.com/'\n",
    "driver.get(url)\n",
    "driver.delete_all_cookies()"
   ]
  },
  {
   "cell_type": "code",
   "execution_count": 63,
   "id": "8e9f553a",
   "metadata": {},
   "outputs": [],
   "source": [
    "search_jobTitle = driver.find_element(By.CLASS_NAME, 'suggestor-input')\n",
    "search_jobTitle.clear()\n",
    "search_jobTitle.send_keys('Data Scientist')"
   ]
  },
  {
   "cell_type": "code",
   "execution_count": 64,
   "id": "7755c4b2",
   "metadata": {},
   "outputs": [],
   "source": [
    "search_location = driver.find_element(By.XPATH, '/html/body/div/div[2]/div[4]/div/div/div[3]/div/div/div/input')\n",
    "search_location.clear()\n",
    "search_location.send_keys('Bangalore')"
   ]
  },
  {
   "cell_type": "code",
   "execution_count": 65,
   "id": "74e4e86f",
   "metadata": {},
   "outputs": [],
   "source": [
    "search_button = driver.find_element(By.CLASS_NAME,'qsbSubmit')"
   ]
  },
  {
   "cell_type": "code",
   "execution_count": 66,
   "id": "0419c8b7",
   "metadata": {},
   "outputs": [],
   "source": [
    "search_button.click()"
   ]
  },
  {
   "cell_type": "code",
   "execution_count": 67,
   "id": "8f0dbeb2",
   "metadata": {},
   "outputs": [],
   "source": [
    "job_title = driver.find_elements(By.XPATH, '//a[@class=\"title fw500 ellipsis\"]')"
   ]
  },
  {
   "cell_type": "code",
   "execution_count": 68,
   "id": "f73de4f1",
   "metadata": {},
   "outputs": [],
   "source": [
    "location = driver.find_elements(By.XPATH, '//li[@class=\"fleft grey-text br2 placeHolderLi location\"]')"
   ]
  },
  {
   "cell_type": "code",
   "execution_count": 69,
   "id": "d6ff12d5",
   "metadata": {},
   "outputs": [],
   "source": [
    "company = driver.find_elements(By.XPATH, '//a[@class=\"subTitle ellipsis fleft\"]')"
   ]
  },
  {
   "cell_type": "code",
   "execution_count": 70,
   "id": "af7bbfb0",
   "metadata": {},
   "outputs": [],
   "source": [
    "jobs_df = [_.text for _ in job_title][:10]\n",
    "location_df = [_.text for _ in location][:10]\n",
    "company_df = [_.text for _ in company][:10]"
   ]
  },
  {
   "cell_type": "code",
   "execution_count": 71,
   "id": "8200ffc8",
   "metadata": {},
   "outputs": [],
   "source": [
    "df = pd.DataFrame(data = {\n",
    "    'Job Title' : jobs_df,\n",
    "    'Company Location' : location_df,\n",
    "    'Company Name' : company_df,\n",
    "}, index = np.arange(1,11))"
   ]
  },
  {
   "cell_type": "code",
   "execution_count": 72,
   "id": "9f0aaf12",
   "metadata": {},
   "outputs": [
    {
     "data": {
      "text/html": [
       "<div>\n",
       "<style scoped>\n",
       "    .dataframe tbody tr th:only-of-type {\n",
       "        vertical-align: middle;\n",
       "    }\n",
       "\n",
       "    .dataframe tbody tr th {\n",
       "        vertical-align: top;\n",
       "    }\n",
       "\n",
       "    .dataframe thead th {\n",
       "        text-align: right;\n",
       "    }\n",
       "</style>\n",
       "<table border=\"1\" class=\"dataframe\">\n",
       "  <thead>\n",
       "    <tr style=\"text-align: right;\">\n",
       "      <th></th>\n",
       "      <th>Job Title</th>\n",
       "      <th>Company Location</th>\n",
       "      <th>Company Name</th>\n",
       "    </tr>\n",
       "  </thead>\n",
       "  <tbody>\n",
       "    <tr>\n",
       "      <th>1</th>\n",
       "      <td>Senior Data Scientist</td>\n",
       "      <td>Chennai, Bangalore/Bengaluru</td>\n",
       "      <td>Shell</td>\n",
       "    </tr>\n",
       "    <tr>\n",
       "      <th>2</th>\n",
       "      <td>Global Tax Automation &amp; Operations - Data Scie...</td>\n",
       "      <td>Bangalore/Bengaluru</td>\n",
       "      <td>Dell</td>\n",
       "    </tr>\n",
       "    <tr>\n",
       "      <th>3</th>\n",
       "      <td>Lead Data Scientist - Machine Learning/ Data M...</td>\n",
       "      <td>Bangalore/Bengaluru</td>\n",
       "      <td>Wrackle Technologies Pvt Ltd</td>\n",
       "    </tr>\n",
       "    <tr>\n",
       "      <th>4</th>\n",
       "      <td>Opportunity For Data Scientist Internship - Be...</td>\n",
       "      <td>Indore, Bangalore/Bengaluru\\n(WFH during Covid)</td>\n",
       "      <td>Corner Stone Solutions</td>\n",
       "    </tr>\n",
       "    <tr>\n",
       "      <th>5</th>\n",
       "      <td>Louis Dreyfus Company Looking For Data Scientist</td>\n",
       "      <td>Bangalore/Bengaluru</td>\n",
       "      <td>Louis Dreyfus Commodities</td>\n",
       "    </tr>\n",
       "    <tr>\n",
       "      <th>6</th>\n",
       "      <td>Data Scientist: Advanced Analytics</td>\n",
       "      <td>Bangalore/Bengaluru</td>\n",
       "      <td>IBM</td>\n",
       "    </tr>\n",
       "    <tr>\n",
       "      <th>7</th>\n",
       "      <td>Data Scientist: Advanced Analytics</td>\n",
       "      <td>Bangalore/Bengaluru</td>\n",
       "      <td>IBM</td>\n",
       "    </tr>\n",
       "    <tr>\n",
       "      <th>8</th>\n",
       "      <td>GSC Operational Analytics Data Scientist</td>\n",
       "      <td>Bangalore/Bengaluru</td>\n",
       "      <td>Intel</td>\n",
       "    </tr>\n",
       "    <tr>\n",
       "      <th>9</th>\n",
       "      <td>Data Scientist: Artificial Intelligence</td>\n",
       "      <td>Bangalore/Bengaluru</td>\n",
       "      <td>IBM</td>\n",
       "    </tr>\n",
       "    <tr>\n",
       "      <th>10</th>\n",
       "      <td>Data Scientist: Artificial Intelligence</td>\n",
       "      <td>Bangalore/Bengaluru</td>\n",
       "      <td>IBM</td>\n",
       "    </tr>\n",
       "  </tbody>\n",
       "</table>\n",
       "</div>"
      ],
      "text/plain": [
       "                                            Job Title  \\\n",
       "1                               Senior Data Scientist   \n",
       "2   Global Tax Automation & Operations - Data Scie...   \n",
       "3   Lead Data Scientist - Machine Learning/ Data M...   \n",
       "4   Opportunity For Data Scientist Internship - Be...   \n",
       "5    Louis Dreyfus Company Looking For Data Scientist   \n",
       "6                  Data Scientist: Advanced Analytics   \n",
       "7                  Data Scientist: Advanced Analytics   \n",
       "8            GSC Operational Analytics Data Scientist   \n",
       "9             Data Scientist: Artificial Intelligence   \n",
       "10            Data Scientist: Artificial Intelligence   \n",
       "\n",
       "                                   Company Location  \\\n",
       "1                      Chennai, Bangalore/Bengaluru   \n",
       "2                               Bangalore/Bengaluru   \n",
       "3                               Bangalore/Bengaluru   \n",
       "4   Indore, Bangalore/Bengaluru\\n(WFH during Covid)   \n",
       "5                               Bangalore/Bengaluru   \n",
       "6                               Bangalore/Bengaluru   \n",
       "7                               Bangalore/Bengaluru   \n",
       "8                               Bangalore/Bengaluru   \n",
       "9                               Bangalore/Bengaluru   \n",
       "10                              Bangalore/Bengaluru   \n",
       "\n",
       "                    Company Name  \n",
       "1                          Shell  \n",
       "2                           Dell  \n",
       "3   Wrackle Technologies Pvt Ltd  \n",
       "4         Corner Stone Solutions  \n",
       "5      Louis Dreyfus Commodities  \n",
       "6                            IBM  \n",
       "7                            IBM  \n",
       "8                          Intel  \n",
       "9                            IBM  \n",
       "10                           IBM  "
      ]
     },
     "execution_count": 72,
     "metadata": {},
     "output_type": "execute_result"
    }
   ],
   "source": [
    "df"
   ]
  },
  {
   "cell_type": "markdown",
   "id": "83780bd1",
   "metadata": {},
   "source": [
    "# Question 3"
   ]
  },
  {
   "cell_type": "code",
   "execution_count": 92,
   "id": "7c41e02c",
   "metadata": {},
   "outputs": [],
   "source": [
    "s = Service(r'C:\\Users\\zobekenobe\\Desktop\\chromedriver.exe')\n",
    "driver = webdriver.Chrome(service = s)"
   ]
  },
  {
   "cell_type": "code",
   "execution_count": 93,
   "id": "79108cce",
   "metadata": {},
   "outputs": [],
   "source": [
    "url = 'https://naukri.com'\n",
    "driver.get(url)\n",
    "driver.delete_all_cookies()"
   ]
  },
  {
   "cell_type": "code",
   "execution_count": 94,
   "id": "0eddf94a",
   "metadata": {},
   "outputs": [],
   "source": [
    "search_jobTitle = driver.find_element(By.CLASS_NAME, 'suggestor-input')\n",
    "search_jobTitle.clear()\n",
    "search_jobTitle.send_keys('Data Scientist')"
   ]
  },
  {
   "cell_type": "code",
   "execution_count": 95,
   "id": "7d2a5de2",
   "metadata": {},
   "outputs": [],
   "source": [
    "search_button = driver.find_element(By.CLASS_NAME, 'qsbSubmit')"
   ]
  },
  {
   "cell_type": "code",
   "execution_count": 96,
   "id": "3dd96eb7",
   "metadata": {},
   "outputs": [],
   "source": [
    "search_button.click()"
   ]
  },
  {
   "cell_type": "code",
   "execution_count": 97,
   "id": "b7ba3477",
   "metadata": {},
   "outputs": [],
   "source": [
    "location_filter = driver.find_element(By.XPATH, '//span[contains(@title,\"Delhi / NCR\")]')\n",
    "driver.delete_all_cookies()"
   ]
  },
  {
   "cell_type": "code",
   "execution_count": 98,
   "id": "06f2f23e",
   "metadata": {},
   "outputs": [],
   "source": [
    "location_filter.click()"
   ]
  },
  {
   "cell_type": "code",
   "execution_count": 99,
   "id": "a0db0f42",
   "metadata": {},
   "outputs": [],
   "source": [
    "salary_filter = driver.find_element(By.XPATH, '/html/body/div[1]/div[3]/div[2]/section[1]/div[2]/div[4]/div[2]/div[2]/label/p/span[1]')\n",
    "driver.delete_all_cookies()"
   ]
  },
  {
   "cell_type": "code",
   "execution_count": 100,
   "id": "df821f4d",
   "metadata": {},
   "outputs": [],
   "source": [
    "salary_filter.click()"
   ]
  },
  {
   "cell_type": "code",
   "execution_count": 101,
   "id": "e475b887",
   "metadata": {},
   "outputs": [],
   "source": [
    "job_title = driver.find_elements(By.XPATH, '//a[@class=\"title fw500 ellipsis\"]')"
   ]
  },
  {
   "cell_type": "code",
   "execution_count": 102,
   "id": "a0feb687",
   "metadata": {},
   "outputs": [],
   "source": [
    "location = driver.find_elements(By.XPATH, '//li[@class=\"fleft grey-text br2 placeHolderLi location\"]')"
   ]
  },
  {
   "cell_type": "code",
   "execution_count": 103,
   "id": "19be77be",
   "metadata": {},
   "outputs": [],
   "source": [
    "company = driver.find_elements(By.XPATH, '//a[@class=\"subTitle ellipsis fleft\"]')"
   ]
  },
  {
   "cell_type": "code",
   "execution_count": 104,
   "id": "84569310",
   "metadata": {},
   "outputs": [],
   "source": [
    "experience = driver.find_elements(By.XPATH, '//span[contains(@title,\"Yrs\")]')"
   ]
  },
  {
   "cell_type": "code",
   "execution_count": 105,
   "id": "2e13ec5b",
   "metadata": {},
   "outputs": [],
   "source": [
    "jobs_df = [_.text for _ in job_title][:10]\n",
    "location_df = [_.text for _ in location][:10]\n",
    "company_df = [_.text for _ in company][:10]\n",
    "experience_df = [_.text for _ in experience][:10]"
   ]
  },
  {
   "cell_type": "code",
   "execution_count": 109,
   "id": "cfa8ba12",
   "metadata": {},
   "outputs": [],
   "source": [
    "df = pd.DataFrame(data = {\n",
    "    'Job Title' : jobs_df,\n",
    "    'Company Location' : location_df,\n",
    "    'Company Name' : company_df,\n",
    "    'Experience Required' : experience_df\n",
    "}, index = np.arange(1,11))"
   ]
  },
  {
   "cell_type": "code",
   "execution_count": 110,
   "id": "ef4accf3",
   "metadata": {
    "scrolled": true
   },
   "outputs": [
    {
     "data": {
      "text/html": [
       "<div>\n",
       "<style scoped>\n",
       "    .dataframe tbody tr th:only-of-type {\n",
       "        vertical-align: middle;\n",
       "    }\n",
       "\n",
       "    .dataframe tbody tr th {\n",
       "        vertical-align: top;\n",
       "    }\n",
       "\n",
       "    .dataframe thead th {\n",
       "        text-align: right;\n",
       "    }\n",
       "</style>\n",
       "<table border=\"1\" class=\"dataframe\">\n",
       "  <thead>\n",
       "    <tr style=\"text-align: right;\">\n",
       "      <th></th>\n",
       "      <th>Job Title</th>\n",
       "      <th>Company Location</th>\n",
       "      <th>Company Name</th>\n",
       "      <th>Experience Required</th>\n",
       "    </tr>\n",
       "  </thead>\n",
       "  <tbody>\n",
       "    <tr>\n",
       "      <th>1</th>\n",
       "      <td>Data Scientist</td>\n",
       "      <td>New Delhi</td>\n",
       "      <td>CHANGE LEADERS CONSULTING</td>\n",
       "      <td>3-8 Yrs</td>\n",
       "    </tr>\n",
       "    <tr>\n",
       "      <th>2</th>\n",
       "      <td>Data Scientist</td>\n",
       "      <td>Gurgaon/Gurugram, Chennai\\n(WFH during Covid)</td>\n",
       "      <td>DECISION POINT PRIVATE LIMITED</td>\n",
       "      <td>1-6 Yrs</td>\n",
       "    </tr>\n",
       "    <tr>\n",
       "      <th>3</th>\n",
       "      <td>Opening For Data Scientist</td>\n",
       "      <td>Gurgaon/Gurugram</td>\n",
       "      <td>Care Health Insurance</td>\n",
       "      <td>1-5 Yrs</td>\n",
       "    </tr>\n",
       "    <tr>\n",
       "      <th>4</th>\n",
       "      <td>Data Scientist | A Fintech Organisation</td>\n",
       "      <td>Gurgaon/Gurugram</td>\n",
       "      <td>Vision Beyond Resources India Private Limited</td>\n",
       "      <td>2-7 Yrs</td>\n",
       "    </tr>\n",
       "    <tr>\n",
       "      <th>5</th>\n",
       "      <td>Data Scientist</td>\n",
       "      <td>Kolkata, Hyderabad/Secunderabad, Pune, Chennai...</td>\n",
       "      <td>Alp Consulting Limited</td>\n",
       "      <td>1-6 Yrs</td>\n",
       "    </tr>\n",
       "    <tr>\n",
       "      <th>6</th>\n",
       "      <td>Data Scientist-Onsite and offshore</td>\n",
       "      <td>Hyderabad/Secunderabad, Pune, Chennai, Bangalo...</td>\n",
       "      <td>PROKXIMITY</td>\n",
       "      <td>3-8 Yrs</td>\n",
       "    </tr>\n",
       "    <tr>\n",
       "      <th>7</th>\n",
       "      <td>Data &amp; Applied Scientist</td>\n",
       "      <td>Noida, Hyderabad/Secunderabad, Bangalore/Benga...</td>\n",
       "      <td>Microsoft</td>\n",
       "      <td>3-7 Yrs</td>\n",
       "    </tr>\n",
       "    <tr>\n",
       "      <th>8</th>\n",
       "      <td>Data and applied Scientist</td>\n",
       "      <td>Noida, Hyderabad/Secunderabad, Bangalore/Benga...</td>\n",
       "      <td>Microsoft</td>\n",
       "      <td>3-7 Yrs</td>\n",
       "    </tr>\n",
       "    <tr>\n",
       "      <th>9</th>\n",
       "      <td>Urgent Requirement || Data Scientist || Noida</td>\n",
       "      <td>Noida, Delhi / NCR</td>\n",
       "      <td>HCL</td>\n",
       "      <td>3-8 Yrs</td>\n",
       "    </tr>\n",
       "    <tr>\n",
       "      <th>10</th>\n",
       "      <td>Data Analyst / Data Scientist / Business Analy...</td>\n",
       "      <td>Noida, New Delhi, Delhi / NCR</td>\n",
       "      <td>GABA Consultancy services</td>\n",
       "      <td>0-0 Yrs</td>\n",
       "    </tr>\n",
       "  </tbody>\n",
       "</table>\n",
       "</div>"
      ],
      "text/plain": [
       "                                            Job Title  \\\n",
       "1                                      Data Scientist   \n",
       "2                                      Data Scientist   \n",
       "3                          Opening For Data Scientist   \n",
       "4             Data Scientist | A Fintech Organisation   \n",
       "5                                      Data Scientist   \n",
       "6                  Data Scientist-Onsite and offshore   \n",
       "7                            Data & Applied Scientist   \n",
       "8                          Data and applied Scientist   \n",
       "9       Urgent Requirement || Data Scientist || Noida   \n",
       "10  Data Analyst / Data Scientist / Business Analy...   \n",
       "\n",
       "                                     Company Location  \\\n",
       "1                                           New Delhi   \n",
       "2       Gurgaon/Gurugram, Chennai\\n(WFH during Covid)   \n",
       "3                                    Gurgaon/Gurugram   \n",
       "4                                    Gurgaon/Gurugram   \n",
       "5   Kolkata, Hyderabad/Secunderabad, Pune, Chennai...   \n",
       "6   Hyderabad/Secunderabad, Pune, Chennai, Bangalo...   \n",
       "7   Noida, Hyderabad/Secunderabad, Bangalore/Benga...   \n",
       "8   Noida, Hyderabad/Secunderabad, Bangalore/Benga...   \n",
       "9                                  Noida, Delhi / NCR   \n",
       "10                      Noida, New Delhi, Delhi / NCR   \n",
       "\n",
       "                                     Company Name Experience Required  \n",
       "1                       CHANGE LEADERS CONSULTING             3-8 Yrs  \n",
       "2                  DECISION POINT PRIVATE LIMITED             1-6 Yrs  \n",
       "3                           Care Health Insurance             1-5 Yrs  \n",
       "4   Vision Beyond Resources India Private Limited             2-7 Yrs  \n",
       "5                          Alp Consulting Limited             1-6 Yrs  \n",
       "6                                      PROKXIMITY             3-8 Yrs  \n",
       "7                                       Microsoft             3-7 Yrs  \n",
       "8                                       Microsoft             3-7 Yrs  \n",
       "9                                             HCL             3-8 Yrs  \n",
       "10                      GABA Consultancy services             0-0 Yrs  "
      ]
     },
     "execution_count": 110,
     "metadata": {},
     "output_type": "execute_result"
    }
   ],
   "source": [
    "df"
   ]
  },
  {
   "cell_type": "markdown",
   "id": "666b9125",
   "metadata": {},
   "source": [
    "# Question 4"
   ]
  },
  {
   "cell_type": "code",
   "execution_count": 491,
   "id": "2320dcfc",
   "metadata": {},
   "outputs": [],
   "source": [
    "s = Service(r'C:\\Users\\zobekenobe\\Desktop\\chromedriver.exe')\n",
    "driver = webdriver.Chrome(service = s)"
   ]
  },
  {
   "cell_type": "code",
   "execution_count": 492,
   "id": "ae6dd1ac",
   "metadata": {},
   "outputs": [],
   "source": [
    "url = 'https://www.flipkart.com/'\n",
    "driver.get(url)"
   ]
  },
  {
   "cell_type": "code",
   "execution_count": 493,
   "id": "8e88b411",
   "metadata": {},
   "outputs": [],
   "source": [
    "driver.maximize_window()"
   ]
  },
  {
   "cell_type": "code",
   "execution_count": 494,
   "id": "e10ab3d6",
   "metadata": {},
   "outputs": [],
   "source": [
    "# close interuppting window\n",
    "close_window = driver.find_element(By.XPATH,'/html/body/div[2]/div/div/button')"
   ]
  },
  {
   "cell_type": "code",
   "execution_count": 495,
   "id": "394147c9",
   "metadata": {},
   "outputs": [],
   "source": [
    "close_window.click()"
   ]
  },
  {
   "cell_type": "code",
   "execution_count": 496,
   "id": "da658cfc",
   "metadata": {},
   "outputs": [],
   "source": [
    "search_sunglasses = driver.find_element(By.CLASS_NAME, '_3704LK')\n",
    "search_sunglasses.clear()\n",
    "search_sunglasses.send_keys('sunglasses')"
   ]
  },
  {
   "cell_type": "code",
   "execution_count": 497,
   "id": "9d692877",
   "metadata": {},
   "outputs": [],
   "source": [
    "search_button = driver.find_element(By.CLASS_NAME,'L0Z3Pu')"
   ]
  },
  {
   "cell_type": "code",
   "execution_count": 498,
   "id": "65c5227a",
   "metadata": {},
   "outputs": [],
   "source": [
    "search_button.click()"
   ]
  },
  {
   "cell_type": "code",
   "execution_count": 499,
   "id": "8033e3c9",
   "metadata": {},
   "outputs": [],
   "source": [
    "brand_df = []\n",
    "description_df = []\n",
    "price_df = []"
   ]
  },
  {
   "cell_type": "code",
   "execution_count": 500,
   "id": "4ac6fbcd",
   "metadata": {},
   "outputs": [],
   "source": [
    "brand = driver.find_elements(By.XPATH, '//div[@class=\"_2WkVRV\"]')\n",
    "brand_df += [_.text for _ in brand]\n",
    "description = driver.find_elements(By.XPATH, '//a[@class=\"IRpwTa\"]')\n",
    "description_df += [_.text for _ in description]\n",
    "price = driver.find_elements(By.XPATH, '//div[@class=\"_30jeq3\"]')    \n",
    "price_df += [_.text for _ in price]\n",
    "\n",
    "driver.implicitly_wait(20)\n",
    "test = driver.find_elements(By.CLASS_NAME,'_1LKTO3')\n",
    "test[0].click()"
   ]
  },
  {
   "cell_type": "code",
   "execution_count": 501,
   "id": "eb7874c4",
   "metadata": {},
   "outputs": [],
   "source": [
    "brand = driver.find_elements(By.XPATH, '//div[@class=\"_2WkVRV\"]')\n",
    "brand_df += [_.text for _ in brand]\n",
    "description = driver.find_elements(By.XPATH, '//a[@class=\"IRpwTa\"]')\n",
    "description_df += [_.text for _ in description]\n",
    "price = driver.find_elements(By.XPATH, '//div[@class=\"_30jeq3\"]')    \n",
    "price_df += [_.text for _ in price]\n",
    "\n",
    "driver.implicitly_wait(20)\n",
    "test = driver.find_elements(By.CLASS_NAME,'_1LKTO3')\n",
    "test[1].click()"
   ]
  },
  {
   "cell_type": "code",
   "execution_count": 502,
   "id": "9f8b8d72",
   "metadata": {},
   "outputs": [],
   "source": [
    "brand = driver.find_elements(By.XPATH, '//div[@class=\"_2WkVRV\"]')\n",
    "brand_df += [_.text for _ in brand]\n",
    "description = driver.find_elements(By.XPATH, '//a[@class=\"IRpwTa\"]')\n",
    "description_df += [_.text for _ in description]\n",
    "price = driver.find_elements(By.XPATH, '//div[@class=\"_30jeq3\"]')    \n",
    "price_df += [_.text for _ in price]"
   ]
  },
  {
   "cell_type": "code",
   "execution_count": 507,
   "id": "68df992d",
   "metadata": {},
   "outputs": [],
   "source": [
    "df = pd.DataFrame(data = {\n",
    "    'Brand' : brand_df[:100],\n",
    "    'Description' : description_df[:100],\n",
    "    'Price' : price_df[:100]\n",
    "}, index = range(1,101))"
   ]
  },
  {
   "cell_type": "code",
   "execution_count": 518,
   "id": "7226148a",
   "metadata": {},
   "outputs": [
    {
     "data": {
      "text/html": [
       "<div>\n",
       "<style scoped>\n",
       "    .dataframe tbody tr th:only-of-type {\n",
       "        vertical-align: middle;\n",
       "    }\n",
       "\n",
       "    .dataframe tbody tr th {\n",
       "        vertical-align: top;\n",
       "    }\n",
       "\n",
       "    .dataframe thead th {\n",
       "        text-align: right;\n",
       "    }\n",
       "</style>\n",
       "<table border=\"1\" class=\"dataframe\">\n",
       "  <thead>\n",
       "    <tr style=\"text-align: right;\">\n",
       "      <th></th>\n",
       "      <th>Brand</th>\n",
       "      <th>Description</th>\n",
       "      <th>Price</th>\n",
       "    </tr>\n",
       "  </thead>\n",
       "  <tbody>\n",
       "    <tr>\n",
       "      <th>1</th>\n",
       "      <td>Rich Club</td>\n",
       "      <td>UV Protection Round Sunglasses (48)</td>\n",
       "      <td>₹174</td>\n",
       "    </tr>\n",
       "    <tr>\n",
       "      <th>2</th>\n",
       "      <td>ROZZETTA CRAFT</td>\n",
       "      <td>UV Protection, Riding Glasses Rectangular Sung...</td>\n",
       "      <td>₹426</td>\n",
       "    </tr>\n",
       "    <tr>\n",
       "      <th>3</th>\n",
       "      <td>Fastrack</td>\n",
       "      <td>UV Protection Wayfarer Sunglasses (Free Size)</td>\n",
       "      <td>₹721</td>\n",
       "    </tr>\n",
       "    <tr>\n",
       "      <th>4</th>\n",
       "      <td>Elligator</td>\n",
       "      <td>UV Protection Round Sunglasses (54)</td>\n",
       "      <td>₹248</td>\n",
       "    </tr>\n",
       "    <tr>\n",
       "      <th>5</th>\n",
       "      <td>SRPM</td>\n",
       "      <td>UV Protection Wayfarer Sunglasses (50)</td>\n",
       "      <td>₹188</td>\n",
       "    </tr>\n",
       "  </tbody>\n",
       "</table>\n",
       "</div>"
      ],
      "text/plain": [
       "            Brand                                        Description Price\n",
       "1       Rich Club                UV Protection Round Sunglasses (48)  ₹174\n",
       "2  ROZZETTA CRAFT  UV Protection, Riding Glasses Rectangular Sung...  ₹426\n",
       "3        Fastrack      UV Protection Wayfarer Sunglasses (Free Size)  ₹721\n",
       "4       Elligator                UV Protection Round Sunglasses (54)  ₹248\n",
       "5            SRPM             UV Protection Wayfarer Sunglasses (50)  ₹188"
      ]
     },
     "execution_count": 518,
     "metadata": {},
     "output_type": "execute_result"
    }
   ],
   "source": [
    "df.head()"
   ]
  },
  {
   "cell_type": "markdown",
   "id": "1162f5fa",
   "metadata": {},
   "source": [
    "# Question 5"
   ]
  },
  {
   "cell_type": "code",
   "execution_count": 726,
   "id": "83ad12e3",
   "metadata": {},
   "outputs": [],
   "source": [
    "s = Service(r'C:\\Users\\zobekenobe\\Desktop\\chromedriver.exe')\n",
    "driver = webdriver.Chrome(service = s)"
   ]
  },
  {
   "cell_type": "code",
   "execution_count": 727,
   "id": "721ea766",
   "metadata": {},
   "outputs": [],
   "source": [
    "url = 'https://www.flipkart.com/apple-iphone-11-black-64-gb-includes- earpods-power-adapter/p/itm0f37c2240b217?pid=MOBFKCTSVZAXUHGR&lid=LSTMOBFKCTSVZAXUHGREPBFGI&marketplace'"
   ]
  },
  {
   "cell_type": "code",
   "execution_count": 728,
   "id": "04636038",
   "metadata": {},
   "outputs": [],
   "source": [
    "driver.get(url)"
   ]
  },
  {
   "cell_type": "code",
   "execution_count": 729,
   "id": "9e652882",
   "metadata": {},
   "outputs": [],
   "source": [
    "all_reviews = driver.find_element(By.XPATH, '/html/body/div[1]/div/div[3]/div[1]/div[2]/div[8]/div/div/div[5]/div/a/div/span')"
   ]
  },
  {
   "cell_type": "code",
   "execution_count": 730,
   "id": "34557175",
   "metadata": {},
   "outputs": [],
   "source": [
    "all_reviews.click()"
   ]
  },
  {
   "cell_type": "code",
   "execution_count": 731,
   "id": "20abe695",
   "metadata": {},
   "outputs": [],
   "source": [
    "rating  = []\n",
    "review  = []\n",
    "summary = []"
   ]
  },
  {
   "cell_type": "code",
   "execution_count": 732,
   "id": "5dffaeaf",
   "metadata": {},
   "outputs": [],
   "source": [
    "rating_element = driver.find_elements(By.XPATH, '//div[@class=\"_3LWZlK _1BLPMq\"]')\n",
    "rating += [_.text for _ in rating_element]\n",
    "review_element = driver.find_elements(By.CLASS_NAME, '_2-N8zT')\n",
    "review += [_.text for _ in review_element]\n",
    "summary_element = driver.find_elements(By.CLASS_NAME, 't-ZTKy')\n",
    "summary += [_.text for _ in summary_element]"
   ]
  },
  {
   "cell_type": "code",
   "execution_count": 733,
   "id": "c3043e3a",
   "metadata": {},
   "outputs": [],
   "source": [
    "next_page = driver.find_elements(By.CLASS_NAME, '_1LKTO3')\n",
    "next_page[0].click()\n"
   ]
  },
  {
   "cell_type": "code",
   "execution_count": 734,
   "id": "6abb8aba",
   "metadata": {},
   "outputs": [],
   "source": [
    "rating_element = driver.find_elements(By.XPATH, '//div[@class=\"_3LWZlK _1BLPMq\"]')\n",
    "rating += [_.text for _ in rating_element]\n",
    "review_element = driver.find_elements(By.CLASS_NAME, '_2-N8zT')\n",
    "review += [_.text for _ in review_element]\n",
    "summary_element = driver.find_elements(By.CLASS_NAME, 't-ZTKy')\n",
    "summary += [_.text for _ in summary_element]\n",
    "next_page = driver.find_elements(By.CLASS_NAME, '_1LKTO3')\n",
    "next_page[1].click()"
   ]
  },
  {
   "cell_type": "code",
   "execution_count": 735,
   "id": "c8f59dfc",
   "metadata": {},
   "outputs": [],
   "source": [
    "rating_element = driver.find_elements(By.XPATH, '//div[@class=\"_3LWZlK _1BLPMq\"]')\n",
    "rating += [_.text for _ in rating_element]\n",
    "review_element = driver.find_elements(By.CLASS_NAME, '_2-N8zT')\n",
    "review += [_.text for _ in review_element]\n",
    "summary_element = driver.find_elements(By.CLASS_NAME, 't-ZTKy')\n",
    "summary += [_.text for _ in summary_element]\n",
    "next_page = driver.find_elements(By.CLASS_NAME, '_1LKTO3')\n",
    "next_page[1].click()\n"
   ]
  },
  {
   "cell_type": "code",
   "execution_count": 736,
   "id": "19c4ed64",
   "metadata": {},
   "outputs": [],
   "source": [
    "rating_element = driver.find_elements(By.XPATH, '//div[@class=\"_3LWZlK _1BLPMq\"]')\n",
    "rating += [_.text for _ in rating_element]\n",
    "review_element = driver.find_elements(By.CLASS_NAME, '_2-N8zT')\n",
    "review += [_.text for _ in review_element]\n",
    "summary_element = driver.find_elements(By.CLASS_NAME, 't-ZTKy')\n",
    "summary += [_.text for _ in summary_element]\n",
    "next_page = driver.find_elements(By.CLASS_NAME, '_1LKTO3')\n",
    "next_page[1].click()"
   ]
  },
  {
   "cell_type": "code",
   "execution_count": 737,
   "id": "88087314",
   "metadata": {},
   "outputs": [],
   "source": [
    "rating_element = driver.find_elements(By.XPATH, '//div[@class=\"_3LWZlK _1BLPMq\"]')\n",
    "rating += [_.text for _ in rating_element]\n",
    "review_element = driver.find_elements(By.CLASS_NAME, '_2-N8zT')\n",
    "review += [_.text for _ in review_element]\n",
    "summary_element = driver.find_elements(By.CLASS_NAME, 't-ZTKy')\n",
    "summary += [_.text for _ in summary_element]\n",
    "next_page = driver.find_elements(By.CLASS_NAME, '_1LKTO3')\n",
    "next_page[1].click()"
   ]
  },
  {
   "cell_type": "code",
   "execution_count": 738,
   "id": "a1ac1784",
   "metadata": {},
   "outputs": [],
   "source": [
    "rating_element = driver.find_elements(By.XPATH, '//div[@class=\"_3LWZlK _1BLPMq\"]')\n",
    "rating += [_.text for _ in rating_element]\n",
    "review_element = driver.find_elements(By.CLASS_NAME, '_2-N8zT')\n",
    "review += [_.text for _ in review_element]\n",
    "summary_element = driver.find_elements(By.CLASS_NAME, 't-ZTKy')\n",
    "summary += [_.text for _ in summary_element]\n",
    "next_page = driver.find_elements(By.CLASS_NAME, '_1LKTO3')\n",
    "next_page[1].click()"
   ]
  },
  {
   "cell_type": "code",
   "execution_count": 739,
   "id": "8d9f26bd",
   "metadata": {},
   "outputs": [],
   "source": [
    "rating_element = driver.find_elements(By.XPATH, '//div[@class=\"_3LWZlK _1BLPMq\"]')\n",
    "rating += [_.text for _ in rating_element]\n",
    "review_element = driver.find_elements(By.CLASS_NAME, '_2-N8zT')\n",
    "review += [_.text for _ in review_element]\n",
    "summary_element = driver.find_elements(By.CLASS_NAME, 't-ZTKy')\n",
    "summary += [_.text for _ in summary_element]\n",
    "next_page = driver.find_elements(By.CLASS_NAME, '_1LKTO3')\n",
    "next_page[1].click()"
   ]
  },
  {
   "cell_type": "code",
   "execution_count": 740,
   "id": "ac3a2ac6",
   "metadata": {},
   "outputs": [],
   "source": [
    "rating_element = driver.find_elements(By.XPATH, '//div[@class=\"_3LWZlK _1BLPMq\"]')\n",
    "rating += [_.text for _ in rating_element]\n",
    "review_element = driver.find_elements(By.CLASS_NAME, '_2-N8zT')\n",
    "review += [_.text for _ in review_element]\n",
    "summary_element = driver.find_elements(By.CLASS_NAME, 't-ZTKy')\n",
    "summary += [_.text for _ in summary_element]\n",
    "next_page = driver.find_elements(By.CLASS_NAME, '_1LKTO3')\n",
    "next_page[1].click()"
   ]
  },
  {
   "cell_type": "code",
   "execution_count": 742,
   "id": "6d66abef",
   "metadata": {},
   "outputs": [],
   "source": [
    "rating_element = driver.find_elements(By.XPATH, '//div[@class=\"_3LWZlK _1BLPMq\"]')\n",
    "rating += [_.text for _ in rating_element]\n",
    "review_element = driver.find_elements(By.CLASS_NAME, '_2-N8zT')\n",
    "review += [_.text for _ in review_element]\n",
    "summary_element = driver.find_elements(By.CLASS_NAME, 't-ZTKy')\n",
    "summary += [_.text for _ in summary_element]\n",
    "next_page = driver.find_elements(By.CLASS_NAME, '_1LKTO3')\n",
    "next_page[1].click()"
   ]
  },
  {
   "cell_type": "code",
   "execution_count": 747,
   "id": "b6527eb3",
   "metadata": {},
   "outputs": [],
   "source": [
    "rating_element = driver.find_elements(By.XPATH, '//div[@class=\"_3LWZlK _1BLPMq\"]')\n",
    "rating += [_.text for _ in rating_element]\n",
    "review_element = driver.find_elements(By.CLASS_NAME, '_2-N8zT')\n",
    "review += [_.text for _ in review_element]\n",
    "summary_element = driver.find_elements(By.CLASS_NAME, 't-ZTKy')\n",
    "summary += [_.text for _ in summary_element]\n",
    "next_page = driver.find_elements(By.CLASS_NAME, '_1LKTO3')\n",
    "next_page[1].click()"
   ]
  },
  {
   "cell_type": "code",
   "execution_count": 748,
   "id": "4bc209fb",
   "metadata": {},
   "outputs": [],
   "source": [
    "rating_element = driver.find_elements(By.XPATH, '//div[@class=\"_3LWZlK _1BLPMq\"]')\n",
    "rating += [_.text for _ in rating_element]\n",
    "review_element = driver.find_elements(By.CLASS_NAME, '_2-N8zT')\n",
    "review += [_.text for _ in review_element]\n",
    "summary_element = driver.find_elements(By.CLASS_NAME, 't-ZTKy')\n",
    "summary += [_.text for _ in summary_element]\n",
    "next_page = driver.find_elements(By.CLASS_NAME, '_1LKTO3')\n",
    "next_page[1].click()"
   ]
  },
  {
   "cell_type": "code",
   "execution_count": 749,
   "id": "0cb5eaf6",
   "metadata": {},
   "outputs": [],
   "source": [
    "df = pd.DataFrame(data = {\n",
    "    'Rating':rating[:100],\n",
    "    'Review':review[:100],\n",
    "    'Full Review':summary[:100]\n",
    "}, index = range(1, 101)\n",
    "                 )"
   ]
  },
  {
   "cell_type": "markdown",
   "id": "ca276f30",
   "metadata": {},
   "source": [
    "# Question 6"
   ]
  },
  {
   "cell_type": "code",
   "execution_count": 787,
   "id": "9e5e6a16",
   "metadata": {},
   "outputs": [],
   "source": [
    "s = Service(r'C:\\Users\\zobekenobe\\Desktop\\chromedriver.exe')\n",
    "driver = webdriver.Chrome(service = s)\n",
    "url = 'https://www.flipkart.com/'\n",
    "driver.get(url)"
   ]
  },
  {
   "cell_type": "code",
   "execution_count": 788,
   "id": "e08dcf09",
   "metadata": {},
   "outputs": [],
   "source": [
    "\n",
    "close_window = driver.find_element(By.XPATH,'/html/body/div[2]/div/div/button').click()"
   ]
  },
  {
   "cell_type": "code",
   "execution_count": 789,
   "id": "9ed6a27c",
   "metadata": {},
   "outputs": [],
   "source": [
    "search_sunglasses = driver.find_element(By.CLASS_NAME, '_3704LK')\n",
    "search_sunglasses.clear()\n",
    "search_sunglasses.send_keys('sneakers')"
   ]
  },
  {
   "cell_type": "code",
   "execution_count": 790,
   "id": "1fe96194",
   "metadata": {},
   "outputs": [],
   "source": [
    "driver.find_element(By.CLASS_NAME,'L0Z3Pu').click()"
   ]
  },
  {
   "cell_type": "code",
   "execution_count": 791,
   "id": "81947371",
   "metadata": {},
   "outputs": [],
   "source": [
    "brand_df = []\n",
    "description_df = []\n",
    "price_df = []"
   ]
  },
  {
   "cell_type": "code",
   "execution_count": 792,
   "id": "78581bd2",
   "metadata": {},
   "outputs": [],
   "source": [
    "brand = driver.find_elements(By.XPATH, '//div[@class=\"_2WkVRV\"]')\n",
    "brand_df += [_.text for _ in brand]\n",
    "description = driver.find_elements(By.XPATH, '//a[@class=\"IRpwTa\"]')\n",
    "description_df += [_.text for _ in description]\n",
    "price = driver.find_elements(By.XPATH, '//div[@class=\"_30jeq3\"]')    \n",
    "price_df += [_.text for _ in price]\n",
    "\n",
    "driver.implicitly_wait(20)\n",
    "test = driver.find_elements(By.CLASS_NAME,'_1LKTO3')\n",
    "test[0].click()"
   ]
  },
  {
   "cell_type": "code",
   "execution_count": 793,
   "id": "ed330a51",
   "metadata": {},
   "outputs": [],
   "source": [
    "brand = driver.find_elements(By.XPATH, '//div[@class=\"_2WkVRV\"]')\n",
    "brand_df += [_.text for _ in brand]\n",
    "description = driver.find_elements(By.XPATH, '//a[@class=\"IRpwTa\"]')\n",
    "description_df += [_.text for _ in description]\n",
    "price = driver.find_elements(By.XPATH, '//div[@class=\"_30jeq3\"]')    \n",
    "price_df += [_.text for _ in price]\n",
    "\n",
    "driver.implicitly_wait(20)\n",
    "test = driver.find_elements(By.CLASS_NAME,'_1LKTO3')\n",
    "test[1].click()"
   ]
  },
  {
   "cell_type": "code",
   "execution_count": 794,
   "id": "ce969fb6",
   "metadata": {},
   "outputs": [],
   "source": [
    "brand = driver.find_elements(By.XPATH, '//div[@class=\"_2WkVRV\"]')\n",
    "brand_df += [_.text for _ in brand]\n",
    "description = driver.find_elements(By.XPATH, '//a[@class=\"IRpwTa\"]')\n",
    "description_df += [_.text for _ in description]\n",
    "price = driver.find_elements(By.XPATH, '//div[@class=\"_30jeq3\"]')    \n",
    "price_df += [_.text for _ in price]"
   ]
  },
  {
   "cell_type": "code",
   "execution_count": 800,
   "id": "efda516d",
   "metadata": {},
   "outputs": [
    {
     "ename": "ValueError",
     "evalue": "All arrays must be of the same length",
     "output_type": "error",
     "traceback": [
      "\u001b[1;31m---------------------------------------------------------------------------\u001b[0m",
      "\u001b[1;31mValueError\u001b[0m                                Traceback (most recent call last)",
      "Input \u001b[1;32mIn [800]\u001b[0m, in \u001b[0;36m<module>\u001b[1;34m\u001b[0m\n\u001b[1;32m----> 1\u001b[0m df \u001b[38;5;241m=\u001b[39m \u001b[43mpd\u001b[49m\u001b[38;5;241;43m.\u001b[39;49m\u001b[43mDataFrame\u001b[49m\u001b[43m(\u001b[49m\u001b[43mdata\u001b[49m\u001b[43m \u001b[49m\u001b[38;5;241;43m=\u001b[39;49m\u001b[43m \u001b[49m\u001b[43m{\u001b[49m\n\u001b[0;32m      2\u001b[0m \u001b[43m    \u001b[49m\u001b[38;5;124;43m'\u001b[39;49m\u001b[38;5;124;43mBrand\u001b[39;49m\u001b[38;5;124;43m'\u001b[39;49m\u001b[43m \u001b[49m\u001b[43m:\u001b[49m\u001b[43m \u001b[49m\u001b[43mbrand_df\u001b[49m\u001b[43m[\u001b[49m\u001b[43m:\u001b[49m\u001b[38;5;241;43m100\u001b[39;49m\u001b[43m]\u001b[49m\u001b[43m,\u001b[49m\n\u001b[0;32m      3\u001b[0m \u001b[43m    \u001b[49m\u001b[38;5;124;43m'\u001b[39;49m\u001b[38;5;124;43mDescription\u001b[39;49m\u001b[38;5;124;43m'\u001b[39;49m\u001b[43m \u001b[49m\u001b[43m:\u001b[49m\u001b[43m \u001b[49m\u001b[43mdescription_df\u001b[49m\u001b[43m[\u001b[49m\u001b[43m:\u001b[49m\u001b[38;5;241;43m100\u001b[39;49m\u001b[43m]\u001b[49m\u001b[43m,\u001b[49m\n\u001b[0;32m      4\u001b[0m \u001b[43m    \u001b[49m\u001b[38;5;124;43m'\u001b[39;49m\u001b[38;5;124;43mPrice\u001b[39;49m\u001b[38;5;124;43m'\u001b[39;49m\u001b[43m \u001b[49m\u001b[43m:\u001b[49m\u001b[43m \u001b[49m\u001b[43mprice_df\u001b[49m\u001b[43m[\u001b[49m\u001b[43m:\u001b[49m\u001b[38;5;241;43m100\u001b[39;49m\u001b[43m]\u001b[49m\n\u001b[0;32m      5\u001b[0m \u001b[43m}\u001b[49m\u001b[43m)\u001b[49m\n",
      "File \u001b[1;32m~\\anaconda3\\envs\\datasci\\lib\\site-packages\\pandas\\core\\frame.py:637\u001b[0m, in \u001b[0;36mDataFrame.__init__\u001b[1;34m(self, data, index, columns, dtype, copy)\u001b[0m\n\u001b[0;32m    631\u001b[0m     mgr \u001b[38;5;241m=\u001b[39m \u001b[38;5;28mself\u001b[39m\u001b[38;5;241m.\u001b[39m_init_mgr(\n\u001b[0;32m    632\u001b[0m         data, axes\u001b[38;5;241m=\u001b[39m{\u001b[38;5;124m\"\u001b[39m\u001b[38;5;124mindex\u001b[39m\u001b[38;5;124m\"\u001b[39m: index, \u001b[38;5;124m\"\u001b[39m\u001b[38;5;124mcolumns\u001b[39m\u001b[38;5;124m\"\u001b[39m: columns}, dtype\u001b[38;5;241m=\u001b[39mdtype, copy\u001b[38;5;241m=\u001b[39mcopy\n\u001b[0;32m    633\u001b[0m     )\n\u001b[0;32m    635\u001b[0m \u001b[38;5;28;01melif\u001b[39;00m \u001b[38;5;28misinstance\u001b[39m(data, \u001b[38;5;28mdict\u001b[39m):\n\u001b[0;32m    636\u001b[0m     \u001b[38;5;66;03m# GH#38939 de facto copy defaults to False only in non-dict cases\u001b[39;00m\n\u001b[1;32m--> 637\u001b[0m     mgr \u001b[38;5;241m=\u001b[39m \u001b[43mdict_to_mgr\u001b[49m\u001b[43m(\u001b[49m\u001b[43mdata\u001b[49m\u001b[43m,\u001b[49m\u001b[43m \u001b[49m\u001b[43mindex\u001b[49m\u001b[43m,\u001b[49m\u001b[43m \u001b[49m\u001b[43mcolumns\u001b[49m\u001b[43m,\u001b[49m\u001b[43m \u001b[49m\u001b[43mdtype\u001b[49m\u001b[38;5;241;43m=\u001b[39;49m\u001b[43mdtype\u001b[49m\u001b[43m,\u001b[49m\u001b[43m \u001b[49m\u001b[43mcopy\u001b[49m\u001b[38;5;241;43m=\u001b[39;49m\u001b[43mcopy\u001b[49m\u001b[43m,\u001b[49m\u001b[43m \u001b[49m\u001b[43mtyp\u001b[49m\u001b[38;5;241;43m=\u001b[39;49m\u001b[43mmanager\u001b[49m\u001b[43m)\u001b[49m\n\u001b[0;32m    638\u001b[0m \u001b[38;5;28;01melif\u001b[39;00m \u001b[38;5;28misinstance\u001b[39m(data, ma\u001b[38;5;241m.\u001b[39mMaskedArray):\n\u001b[0;32m    639\u001b[0m     \u001b[38;5;28;01mimport\u001b[39;00m \u001b[38;5;21;01mnumpy\u001b[39;00m\u001b[38;5;21;01m.\u001b[39;00m\u001b[38;5;21;01mma\u001b[39;00m\u001b[38;5;21;01m.\u001b[39;00m\u001b[38;5;21;01mmrecords\u001b[39;00m \u001b[38;5;28;01mas\u001b[39;00m \u001b[38;5;21;01mmrecords\u001b[39;00m\n",
      "File \u001b[1;32m~\\anaconda3\\envs\\datasci\\lib\\site-packages\\pandas\\core\\internals\\construction.py:502\u001b[0m, in \u001b[0;36mdict_to_mgr\u001b[1;34m(data, index, columns, dtype, typ, copy)\u001b[0m\n\u001b[0;32m    494\u001b[0m     arrays \u001b[38;5;241m=\u001b[39m [\n\u001b[0;32m    495\u001b[0m         x\n\u001b[0;32m    496\u001b[0m         \u001b[38;5;28;01mif\u001b[39;00m \u001b[38;5;129;01mnot\u001b[39;00m \u001b[38;5;28mhasattr\u001b[39m(x, \u001b[38;5;124m\"\u001b[39m\u001b[38;5;124mdtype\u001b[39m\u001b[38;5;124m\"\u001b[39m) \u001b[38;5;129;01mor\u001b[39;00m \u001b[38;5;129;01mnot\u001b[39;00m \u001b[38;5;28misinstance\u001b[39m(x\u001b[38;5;241m.\u001b[39mdtype, ExtensionDtype)\n\u001b[0;32m    497\u001b[0m         \u001b[38;5;28;01melse\u001b[39;00m x\u001b[38;5;241m.\u001b[39mcopy()\n\u001b[0;32m    498\u001b[0m         \u001b[38;5;28;01mfor\u001b[39;00m x \u001b[38;5;129;01min\u001b[39;00m arrays\n\u001b[0;32m    499\u001b[0m     ]\n\u001b[0;32m    500\u001b[0m     \u001b[38;5;66;03m# TODO: can we get rid of the dt64tz special case above?\u001b[39;00m\n\u001b[1;32m--> 502\u001b[0m \u001b[38;5;28;01mreturn\u001b[39;00m \u001b[43marrays_to_mgr\u001b[49m\u001b[43m(\u001b[49m\u001b[43marrays\u001b[49m\u001b[43m,\u001b[49m\u001b[43m \u001b[49m\u001b[43mcolumns\u001b[49m\u001b[43m,\u001b[49m\u001b[43m \u001b[49m\u001b[43mindex\u001b[49m\u001b[43m,\u001b[49m\u001b[43m \u001b[49m\u001b[43mdtype\u001b[49m\u001b[38;5;241;43m=\u001b[39;49m\u001b[43mdtype\u001b[49m\u001b[43m,\u001b[49m\u001b[43m \u001b[49m\u001b[43mtyp\u001b[49m\u001b[38;5;241;43m=\u001b[39;49m\u001b[43mtyp\u001b[49m\u001b[43m,\u001b[49m\u001b[43m \u001b[49m\u001b[43mconsolidate\u001b[49m\u001b[38;5;241;43m=\u001b[39;49m\u001b[43mcopy\u001b[49m\u001b[43m)\u001b[49m\n",
      "File \u001b[1;32m~\\anaconda3\\envs\\datasci\\lib\\site-packages\\pandas\\core\\internals\\construction.py:120\u001b[0m, in \u001b[0;36marrays_to_mgr\u001b[1;34m(arrays, columns, index, dtype, verify_integrity, typ, consolidate)\u001b[0m\n\u001b[0;32m    117\u001b[0m \u001b[38;5;28;01mif\u001b[39;00m verify_integrity:\n\u001b[0;32m    118\u001b[0m     \u001b[38;5;66;03m# figure out the index, if necessary\u001b[39;00m\n\u001b[0;32m    119\u001b[0m     \u001b[38;5;28;01mif\u001b[39;00m index \u001b[38;5;129;01mis\u001b[39;00m \u001b[38;5;28;01mNone\u001b[39;00m:\n\u001b[1;32m--> 120\u001b[0m         index \u001b[38;5;241m=\u001b[39m \u001b[43m_extract_index\u001b[49m\u001b[43m(\u001b[49m\u001b[43marrays\u001b[49m\u001b[43m)\u001b[49m\n\u001b[0;32m    121\u001b[0m     \u001b[38;5;28;01melse\u001b[39;00m:\n\u001b[0;32m    122\u001b[0m         index \u001b[38;5;241m=\u001b[39m ensure_index(index)\n",
      "File \u001b[1;32m~\\anaconda3\\envs\\datasci\\lib\\site-packages\\pandas\\core\\internals\\construction.py:674\u001b[0m, in \u001b[0;36m_extract_index\u001b[1;34m(data)\u001b[0m\n\u001b[0;32m    672\u001b[0m lengths \u001b[38;5;241m=\u001b[39m \u001b[38;5;28mlist\u001b[39m(\u001b[38;5;28mset\u001b[39m(raw_lengths))\n\u001b[0;32m    673\u001b[0m \u001b[38;5;28;01mif\u001b[39;00m \u001b[38;5;28mlen\u001b[39m(lengths) \u001b[38;5;241m>\u001b[39m \u001b[38;5;241m1\u001b[39m:\n\u001b[1;32m--> 674\u001b[0m     \u001b[38;5;28;01mraise\u001b[39;00m \u001b[38;5;167;01mValueError\u001b[39;00m(\u001b[38;5;124m\"\u001b[39m\u001b[38;5;124mAll arrays must be of the same length\u001b[39m\u001b[38;5;124m\"\u001b[39m)\n\u001b[0;32m    676\u001b[0m \u001b[38;5;28;01mif\u001b[39;00m have_dicts:\n\u001b[0;32m    677\u001b[0m     \u001b[38;5;28;01mraise\u001b[39;00m \u001b[38;5;167;01mValueError\u001b[39;00m(\n\u001b[0;32m    678\u001b[0m         \u001b[38;5;124m\"\u001b[39m\u001b[38;5;124mMixing dicts with non-Series may lead to ambiguous ordering.\u001b[39m\u001b[38;5;124m\"\u001b[39m\n\u001b[0;32m    679\u001b[0m     )\n",
      "\u001b[1;31mValueError\u001b[0m: All arrays must be of the same length"
     ]
    }
   ],
   "source": [
    "df = pd.DataFrame(data = {\n",
    "    'Brand' : brand_df[:100],\n",
    "    'Description' : description_df[:100],\n",
    "    'Price' : price_df[:100]\n",
    "})"
   ]
  },
  {
   "cell_type": "code",
   "execution_count": 799,
   "id": "7f5e5635",
   "metadata": {},
   "outputs": [
    {
     "data": {
      "text/plain": [
       "94"
      ]
     },
     "execution_count": 799,
     "metadata": {},
     "output_type": "execute_result"
    }
   ],
   "source": [
    "len(description_df)"
   ]
  },
  {
   "cell_type": "code",
   "execution_count": 820,
   "id": "b2a8a449",
   "metadata": {},
   "outputs": [
    {
     "ename": "TypeError",
     "evalue": "unhashable type: 'list'",
     "output_type": "error",
     "traceback": [
      "\u001b[1;31m---------------------------------------------------------------------------\u001b[0m",
      "\u001b[1;31mTypeError\u001b[0m                                 Traceback (most recent call last)",
      "Input \u001b[1;32mIn [820]\u001b[0m, in \u001b[0;36m<module>\u001b[1;34m\u001b[0m\n\u001b[1;32m----> 1\u001b[0m l \u001b[38;5;241m=\u001b[39m {[\u001b[38;5;241m1\u001b[39m,\u001b[38;5;241m2\u001b[39m,\u001b[38;5;241m3\u001b[39m,\u001b[38;5;241m4\u001b[39m,\u001b[38;5;241m5\u001b[39m]:[\u001b[38;5;241m1\u001b[39m,\u001b[38;5;241m2\u001b[39m,\u001b[38;5;241m3\u001b[39m,\u001b[38;5;241m4\u001b[39m,\u001b[38;5;241m5\u001b[39m]}\n",
      "\u001b[1;31mTypeError\u001b[0m: unhashable type: 'list'"
     ]
    }
   ],
   "source": []
  },
  {
   "cell_type": "code",
   "execution_count": 813,
   "id": "275546e0",
   "metadata": {},
   "outputs": [
    {
     "data": {
      "text/plain": [
       "[0, 1, 2, 3, 4, 5, 6, 7, 8, 9]"
      ]
     },
     "execution_count": 813,
     "metadata": {},
     "output_type": "execute_result"
    }
   ],
   "source": [
    "l[0]"
   ]
  },
  {
   "cell_type": "code",
   "execution_count": 814,
   "id": "1a0b3034",
   "metadata": {},
   "outputs": [
    {
     "data": {
      "text/plain": [
       "[1, 3, 5, 7, 9]"
      ]
     },
     "execution_count": 814,
     "metadata": {},
     "output_type": "execute_result"
    }
   ],
   "source": [
    "l[1]"
   ]
  },
  {
   "cell_type": "code",
   "execution_count": null,
   "id": "ce8db72f",
   "metadata": {},
   "outputs": [],
   "source": []
  }
 ],
 "metadata": {
  "kernelspec": {
   "display_name": "Python 3 (ipykernel)",
   "language": "python",
   "name": "python3"
  },
  "language_info": {
   "codemirror_mode": {
    "name": "ipython",
    "version": 3
   },
   "file_extension": ".py",
   "mimetype": "text/x-python",
   "name": "python",
   "nbconvert_exporter": "python",
   "pygments_lexer": "ipython3",
   "version": "3.9.10"
  }
 },
 "nbformat": 4,
 "nbformat_minor": 5
}
