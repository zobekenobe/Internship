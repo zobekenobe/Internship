{
 "cells": [
  {
   "cell_type": "markdown",
   "id": "9b4c3eec",
   "metadata": {},
   "source": [
    "import numpy as np"
   ]
  },
  {
   "cell_type": "markdown",
   "id": "d7fe13bd",
   "metadata": {},
   "source": [
    "### Question 11"
   ]
  },
  {
   "cell_type": "code",
   "execution_count": 62,
   "id": "416bf34c",
   "metadata": {},
   "outputs": [],
   "source": [
    "def myFactorial(n):\n",
    "    return 1 if n == 0 else n * myFactorial(n-1)"
   ]
  },
  {
   "cell_type": "markdown",
   "id": "3597c764",
   "metadata": {},
   "source": [
    "### Question 12"
   ]
  },
  {
   "cell_type": "code",
   "execution_count": 181,
   "id": "1e22393c",
   "metadata": {},
   "outputs": [],
   "source": [
    "def isPrime(x):\n",
    "    for i in range(2,x//2):\n",
    "        if(x%i == 0):\n",
    "            print(\"Number is not prime\")\n",
    "            break\n",
    "    else:\n",
    "        print(\"Number is prime\")"
   ]
  },
  {
   "cell_type": "markdown",
   "id": "33d1f209",
   "metadata": {},
   "source": [
    "### Question 13"
   ]
  },
  {
   "cell_type": "code",
   "execution_count": 66,
   "id": "fb166735",
   "metadata": {},
   "outputs": [],
   "source": [
    "def isPalindrome(text):\n",
    "    return (text[::-1].lower() == text.lower())"
   ]
  },
  {
   "cell_type": "markdown",
   "id": "d7f9a6d3",
   "metadata": {},
   "source": [
    "### Question 14"
   ]
  },
  {
   "cell_type": "code",
   "execution_count": 174,
   "id": "a7b7e039",
   "metadata": {},
   "outputs": [],
   "source": [
    "def thirdSide(a,b, theta = np.pi/2):\n",
    "    \"\"\"a default value of theta set to PI/2 assumes adjacent sides of a right angle\n",
    "       however other combinations with the hypothenuse can be taken but the angle must \n",
    "       be specified in that case\n",
    "    \"\"\"\n",
    "    return np.sqrt(a**2 + b**2 - 2*a*b*np.cos(theta))"
   ]
  },
  {
   "cell_type": "markdown",
   "id": "af692297",
   "metadata": {},
   "source": [
    "### Question 15"
   ]
  },
  {
   "cell_type": "code",
   "execution_count": 156,
   "id": "da857edd",
   "metadata": {},
   "outputs": [],
   "source": [
    "def findFreq(text):\n",
    "    freqTable = [True]*len(text)\n",
    "    freqCount = np.ones(len(text))\n",
    "    for i in range(len(text)):\n",
    "        for j in range(i+1,len(text)):\n",
    "            if (text[i].lower() == text[j].lower() and freqTable[j]):\n",
    "                freqTable[j] = False\n",
    "                freqCount[i] = freqCount[i] + 1\n",
    "    freqDict = {text[k] : freqCount[k] for k in range(len(text)) if freqTable[k]}\n",
    "    return freqDict "
   ]
  }
 ],
 "metadata": {
  "kernelspec": {
   "display_name": "Python 3 (ipykernel)",
   "language": "python",
   "name": "python3"
  },
  "language_info": {
   "codemirror_mode": {
    "name": "ipython",
    "version": 3
   },
   "file_extension": ".py",
   "mimetype": "text/x-python",
   "name": "python",
   "nbconvert_exporter": "python",
   "pygments_lexer": "ipython3",
   "version": "3.7.11"
  }
 },
 "nbformat": 4,
 "nbformat_minor": 5
}
