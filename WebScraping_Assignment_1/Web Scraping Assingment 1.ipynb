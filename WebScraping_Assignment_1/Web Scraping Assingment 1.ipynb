{
 "cells": [
  {
   "cell_type": "code",
   "execution_count": 130,
   "id": "a6bb624b",
   "metadata": {},
   "outputs": [],
   "source": [
    "import urllib\n",
    "import lxml\n",
    "from bs4 import BeautifulSoup as bs\n",
    "import requests\n",
    "import pandas as pd\n",
    "import re"
   ]
  },
  {
   "cell_type": "code",
   "execution_count": 494,
   "id": "daab99a2",
   "metadata": {},
   "outputs": [],
   "source": [
    "url1 = 'https://en.wikipedia.org/wiki/Main_Page'\n",
    "url2 = 'https://www.imdb.com/search/title/?groups=top_100&sort=user_rating,desc'\n",
    "url3 = 'https://www.imdb.com/india/top-rated-indian-movies/'\n",
    "url4 = 'https://meesho.com/bags-ladies/pl/p7vbp'\n",
    "url5a= 'https://www.icc-cricket.com/rankings/mens/team-rankings/odi'\n",
    "url5b = 'https://www.icc-cricket.com/rankings/mens/player-rankings/odi/batting'\n",
    "url5c= 'https://www.icc-cricket.com/rankings/mens/player-rankings/odi/bowling'"
   ]
  },
  {
   "cell_type": "code",
   "execution_count": 132,
   "id": "b634048a",
   "metadata": {},
   "outputs": [],
   "source": [
    "def question1(url):\n",
    "    text = urllib.request.urlopen(url).read().decode('utf-8')\n",
    "    soup = bs(text)\n",
    "    headers = soup.find_all('head')\n",
    "    return headers"
   ]
  },
  {
   "cell_type": "code",
   "execution_count": 203,
   "id": "299f283f",
   "metadata": {},
   "outputs": [],
   "source": [
    "def question2(url):\n",
    "    '''Since the top 100 are split over the two pages, two page links are created'''\n",
    "    page1 = requests.get(url)\n",
    "    page2 = requests.get(url + '&start=51&ref_=adv_nxt')\n",
    "    movie_list = []\n",
    "    for _ in [page1, page2]:\n",
    "        soup = bs(_.content)\n",
    "        text = soup.find_all('h3', {'class':'lister-item-header'})\n",
    "        movie_list += [_.text.split('\\n')[1:4] for _ in text]\n",
    "    df = pd.DataFrame(movie_list, columns = ['Rank', 'Movie Name', 'Year'])\n",
    "    df.set_index('Rank', inplace = True)\n",
    "    return df"
   ]
  },
  {
   "cell_type": "code",
   "execution_count": 295,
   "id": "f02ea5f0",
   "metadata": {},
   "outputs": [],
   "source": [
    "def question3(url):\n",
    "    '''\n",
    "    Since the imdb site list the top 250 movies, the list is truncated to \n",
    "    the top 100 as required\n",
    "    '''\n",
    "    page = requests.get(url)\n",
    "    soup = bs(page.content)\n",
    "    text = soup.find_all('td', {'class':'titleColumn'})\n",
    "    rate = soup.find_all('td', {'class':'ratingColumn imdbRating'})\n",
    "    names  = [_.text.split('\\n')[1:4] for _ in text][0:100] \n",
    "    rating = [_.text.split('\\n')[1] for _ in rate][0:100]\n",
    "\n",
    "    df = pd.DataFrame(names, columns = ['Rank', 'Movie Name', 'Year'])\n",
    "    df.set_index('Rank', inplace = True)\n",
    "    df['rating'] = rating\n",
    "    return df"
   ]
  },
  {
   "cell_type": "code",
   "execution_count": 356,
   "id": "a86842c8",
   "metadata": {},
   "outputs": [],
   "source": [
    "def question4(url):\n",
    "    page = requests.get(url)\n",
    "    text = soup(page.content)\n",
    "    name = soup.find_all('p', {'class':'Text__StyledText-sc-oo0kvp-0 bWSOET NewProductCard__ProductTitle_Desktop-sc-j0e7tu-4 cQhePS NewProductCard__ProductTitle_Desktop-sc-j0e7tu-4 cQhePS'})\n",
    "    price= soup.find_all('h5',{'class':'Text__StyledText-sc-oo0kvp-0 hiHdyy'})\n",
    "    disc = soup.find_all('span', {'class' : 'Text__StyledText-sc-oo0kvp-0 lnonyH'})\n",
    "    name = [_.text for _ in name]\n",
    "    price= [_.text for _ in price]\n",
    "    disc = [_.text for _ in disc]\n",
    "    # to accomodate for cases with no discount\n",
    "    p = re.compile('₹0')\n",
    "    i = next(i for i in range(len(price)) if p.findall(price[i]))\n",
    "    disc.insert(i, '0% off')\n",
    "    df = pd.DataFrame(data = {'Name':name, 'Price':price, 'Discount':disc})\n",
    "    return df\n",
    "    "
   ]
  },
  {
   "cell_type": "code",
   "execution_count": 578,
   "id": "f43c5e05",
   "metadata": {},
   "outputs": [],
   "source": [
    "def question5a(url):\n",
    "    page = requests.get(url)\n",
    "    soup = bs(page.content)\n",
    "    team = soup.find_all('span', {'class':'u-hide-phablet'})\n",
    "    details = soup.find_all('td', {'class':'table-body__cell u-center-text'})\n",
    "    rating  = soup.find_all('td', {'class':'table-body__cell u-text-right rating'})\n",
    "\n",
    "    team = [_.text for _ in team][:10]\n",
    "    details = [_.text for _ in details]\n",
    "    rating  = [_.text for _ in rating]\n",
    "\n",
    "    match = [soup.find('td', {'class':'rankings-block__banner--matches'}).text]+details[0:18:2]\n",
    "    point = [soup.find('td', {'class':'rankings-block__banner--points'}).text] +details[1:18:2]\n",
    "    rating= [soup.find('td', {'class':'rankings-block__banner--rating u-text-right'}).text.split('\\n')[1].strip()] + rating[:9]\n",
    "    df = pd.DataFrame(data = {'Team':team, 'Matches':match, 'Points':point, 'Rating':rating}, index = range(1,11))\n",
    "    return df"
   ]
  },
  {
   "cell_type": "code",
   "execution_count": 579,
   "id": "48055a50",
   "metadata": {},
   "outputs": [],
   "source": [
    "def question5b(url):\n",
    "    page = requests.get(url)\n",
    "    soup = bs(page.content)\n",
    "    name = soup.find_all('td',{'class':'table-body__cell rankings-table__name name'})\n",
    "    team = soup.find_all('span',{'class':'table-body__logo-text'})\n",
    "    rate = soup.find_all('td',{'class':'table-body__cell rating'})\n",
    "\n",
    "    name = soup.find('div', {'class':'rankings-block__banner--name-large'}).text.split('\\n') + [_.text.split('\\n')[1] for _ in name][:9]\n",
    "    team = [soup.find('div',{'class':'rankings-block__banner--nationality'}).text.split('\\n')[2]]+ [_.text for _ in team][:9]\n",
    "    rate= [soup.find('div',{'class':'rankings-block__banner--rating'}).text]+[_.text for _ in rate][:9]\n",
    "    df = pd.DataFrame(data = {'Name':name, 'Team':team, 'Rating':rate}, index = range(1,11))\n",
    "    return df"
   ]
  },
  {
   "cell_type": "code",
   "execution_count": 580,
   "id": "0dfc6728",
   "metadata": {},
   "outputs": [],
   "source": [
    "def question5c(url):\n",
    "    page = requests.get(url)\n",
    "    soup = bs(page.content)\n",
    "    name = soup.find_all('td',{'class':'table-body__cell rankings-table__name name'})\n",
    "    team = soup.find_all('span',{'class':'table-body__logo-text'})\n",
    "    rate = soup.find_all('td',{'class':'table-body__cell rating'})\n",
    "\n",
    "    name = soup.find('div', {'class':'rankings-block__banner--name-large'}).text.split('\\n') + [_.text.split('\\n')[1] for _ in name][:9]\n",
    "    team = [soup.find('div',{'class':'rankings-block__banner--nationality'}).text.split('\\n')[2]]+ [_.text for _ in team][:9]\n",
    "    rate= [soup.find('div',{'class':'rankings-block__banner--rating'}).text]+[_.text for _ in rate][:9]\n",
    "    df = pd.DataFrame(data = {'Name':name, 'Team':team, 'Rating':rate}, index = range(1,11))\n",
    "    return df"
   ]
  },
  {
   "cell_type": "code",
   "execution_count": 590,
   "id": "fe888063",
   "metadata": {},
   "outputs": [],
   "source": [
    "def question6a(url):\n",
    "    page = requests.get(url)\n",
    "    soup = bs(page.content)\n",
    "    team = soup.find_all('span', {'class':'u-hide-phablet'})\n",
    "    details = soup.find_all('td', {'class':'table-body__cell u-center-text'})\n",
    "    rating  = soup.find_all('td', {'class':'table-body__cell u-text-right rating'})\n",
    "\n",
    "    team = [_.text for _ in team][:10]\n",
    "    details = [_.text for _ in details]\n",
    "    rating  = [_.text for _ in rating]\n",
    "\n",
    "    match = [soup.find('td', {'class':'rankings-block__banner--matches'}).text]+details[0:18:2]\n",
    "    point = [soup.find('td', {'class':'rankings-block__banner--points'}).text] +details[1:18:2]\n",
    "    rating= [soup.find('td', {'class':'rankings-block__banner--rating u-text-right'}).text.split('\\n')[1].strip()] + rating[:9]\n",
    "    df = pd.DataFrame(data = {'Team':team, 'Matches':match, 'Points':point, 'Rating':rating}, index = range(1,11))\n",
    "    return df"
   ]
  },
  {
   "cell_type": "code",
   "execution_count": 591,
   "id": "eef7030a",
   "metadata": {},
   "outputs": [],
   "source": [
    "def question6b(url):\n",
    "    page = requests.get(url)\n",
    "    soup = bs(page.content)\n",
    "    name = soup.find_all('td',{'class':'table-body__cell rankings-table__name name'})\n",
    "    team = soup.find_all('span',{'class':'table-body__logo-text'})\n",
    "    rate = soup.find_all('td',{'class':'table-body__cell rating'})\n",
    "\n",
    "    name = soup.find('div', {'class':'rankings-block__banner--name-large'}).text.split('\\n') + [_.text.split('\\n')[1] for _ in name][:9]\n",
    "    team = [soup.find('div',{'class':'rankings-block__banner--nationality'}).text.split('\\n')[2]]+ [_.text for _ in team][:9]\n",
    "    rate= [soup.find('div',{'class':'rankings-block__banner--rating'}).text]+[_.text for _ in rate][:9]\n",
    "    df = pd.DataFrame(data = {'Name':name, 'Team':team, 'Rating':rate}, index = range(1,11))\n",
    "    return df"
   ]
  },
  {
   "cell_type": "code",
   "execution_count": 592,
   "id": "add269fc",
   "metadata": {},
   "outputs": [],
   "source": [
    "def question6c(url):\n",
    "    page = requests.get(url)\n",
    "    soup = bs(page.content)\n",
    "    name = soup.find_all('td',{'class':'table-body__cell rankings-table__name name'})\n",
    "    team = soup.find_all('span',{'class':'table-body__logo-text'})\n",
    "    rate = soup.find_all('td',{'class':'table-body__cell rating'})\n",
    "\n",
    "    name = soup.find('div', {'class':'rankings-block__banner--name-large'}).text.split('\\n') + [_.text.split('\\n')[1] for _ in name][:9]\n",
    "    team = [soup.find('div',{'class':'rankings-block__banner--nationality'}).text.split('\\n')[2]]+ [_.text for _ in team][:9]\n",
    "    rate= [soup.find('div',{'class':'rankings-block__banner--rating'}).text]+[_.text for _ in rate][:9]\n",
    "    df = pd.DataFrame(data = {'Name':name, 'Team':team, 'Rating':rate}, index = range(1,11))\n",
    "    return df"
   ]
  },
  {
   "cell_type": "code",
   "execution_count": 589,
   "id": "540abd06",
   "metadata": {},
   "outputs": [
    {
     "data": {
      "text/html": [
       "<div>\n",
       "<style scoped>\n",
       "    .dataframe tbody tr th:only-of-type {\n",
       "        vertical-align: middle;\n",
       "    }\n",
       "\n",
       "    .dataframe tbody tr th {\n",
       "        vertical-align: top;\n",
       "    }\n",
       "\n",
       "    .dataframe thead th {\n",
       "        text-align: right;\n",
       "    }\n",
       "</style>\n",
       "<table border=\"1\" class=\"dataframe\">\n",
       "  <thead>\n",
       "    <tr style=\"text-align: right;\">\n",
       "      <th></th>\n",
       "      <th>Name</th>\n",
       "      <th>Team</th>\n",
       "      <th>Rating</th>\n",
       "    </tr>\n",
       "  </thead>\n",
       "  <tbody>\n",
       "    <tr>\n",
       "      <th>1</th>\n",
       "      <td>Jess Jonassen</td>\n",
       "      <td>AUS</td>\n",
       "      <td>760</td>\n",
       "    </tr>\n",
       "    <tr>\n",
       "      <th>2</th>\n",
       "      <td>Jhulan Goswami</td>\n",
       "      <td>IND</td>\n",
       "      <td>727</td>\n",
       "    </tr>\n",
       "    <tr>\n",
       "      <th>3</th>\n",
       "      <td>Megan Schutt</td>\n",
       "      <td>AUS</td>\n",
       "      <td>717</td>\n",
       "    </tr>\n",
       "    <tr>\n",
       "      <th>4</th>\n",
       "      <td>Marizanne Kapp</td>\n",
       "      <td>SA</td>\n",
       "      <td>715</td>\n",
       "    </tr>\n",
       "    <tr>\n",
       "      <th>5</th>\n",
       "      <td>Sophie Ecclestone</td>\n",
       "      <td>ENG</td>\n",
       "      <td>701</td>\n",
       "    </tr>\n",
       "    <tr>\n",
       "      <th>6</th>\n",
       "      <td>Shabnim Ismail</td>\n",
       "      <td>SA</td>\n",
       "      <td>688</td>\n",
       "    </tr>\n",
       "    <tr>\n",
       "      <th>7</th>\n",
       "      <td>Katherine Brunt</td>\n",
       "      <td>ENG</td>\n",
       "      <td>666</td>\n",
       "    </tr>\n",
       "    <tr>\n",
       "      <th>8</th>\n",
       "      <td>Ayabonga Khaka</td>\n",
       "      <td>SA</td>\n",
       "      <td>643</td>\n",
       "    </tr>\n",
       "    <tr>\n",
       "      <th>9</th>\n",
       "      <td>Anya Shrubsole</td>\n",
       "      <td>ENG</td>\n",
       "      <td>598</td>\n",
       "    </tr>\n",
       "    <tr>\n",
       "      <th>10</th>\n",
       "      <td>Kate Cross</td>\n",
       "      <td>ENG</td>\n",
       "      <td>589</td>\n",
       "    </tr>\n",
       "  </tbody>\n",
       "</table>\n",
       "</div>"
      ],
      "text/plain": [
       "                 Name Team Rating\n",
       "1       Jess Jonassen  AUS    760\n",
       "2      Jhulan Goswami  IND    727\n",
       "3        Megan Schutt  AUS    717\n",
       "4      Marizanne Kapp   SA    715\n",
       "5   Sophie Ecclestone  ENG    701\n",
       "6      Shabnim Ismail   SA    688\n",
       "7     Katherine Brunt  ENG    666\n",
       "8      Ayabonga Khaka   SA    643\n",
       "9      Anya Shrubsole  ENG    598\n",
       "10         Kate Cross  ENG    589"
      ]
     },
     "execution_count": 589,
     "metadata": {},
     "output_type": "execute_result"
    }
   ],
   "source": []
  },
  {
   "cell_type": "code",
   "execution_count": null,
   "id": "2d04a09c",
   "metadata": {},
   "outputs": [],
   "source": []
  },
  {
   "cell_type": "code",
   "execution_count": null,
   "id": "2bf6c192",
   "metadata": {},
   "outputs": [],
   "source": []
  },
  {
   "cell_type": "code",
   "execution_count": null,
   "id": "f86a68b6",
   "metadata": {},
   "outputs": [],
   "source": []
  },
  {
   "cell_type": "code",
   "execution_count": null,
   "id": "581b51a8",
   "metadata": {},
   "outputs": [],
   "source": []
  },
  {
   "cell_type": "code",
   "execution_count": null,
   "id": "a1f4010f",
   "metadata": {},
   "outputs": [],
   "source": []
  },
  {
   "cell_type": "code",
   "execution_count": null,
   "id": "39ff4f2e",
   "metadata": {},
   "outputs": [],
   "source": [
    "\n"
   ]
  },
  {
   "cell_type": "code",
   "execution_count": null,
   "id": "07704cdb",
   "metadata": {},
   "outputs": [],
   "source": []
  },
  {
   "cell_type": "code",
   "execution_count": null,
   "id": "6ce914f8",
   "metadata": {},
   "outputs": [],
   "source": []
  },
  {
   "cell_type": "code",
   "execution_count": null,
   "id": "e2ef5157",
   "metadata": {},
   "outputs": [],
   "source": []
  },
  {
   "cell_type": "code",
   "execution_count": null,
   "id": "35bf1440",
   "metadata": {},
   "outputs": [],
   "source": []
  }
 ],
 "metadata": {
  "kernelspec": {
   "display_name": "Python 3 (ipykernel)",
   "language": "python",
   "name": "python3"
  },
  "language_info": {
   "codemirror_mode": {
    "name": "ipython",
    "version": 3
   },
   "file_extension": ".py",
   "mimetype": "text/x-python",
   "name": "python",
   "nbconvert_exporter": "python",
   "pygments_lexer": "ipython3",
   "version": "3.7.11"
  }
 },
 "nbformat": 4,
 "nbformat_minor": 5
}
